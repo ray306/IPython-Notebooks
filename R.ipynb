{
 "metadata": {
  "name": "",
  "signature": "sha256:62547793a5812c5ac8a1a7f9a3f291ec7c095a3a81ca267fdc1191bb804a5333"
 },
 "nbformat": 3,
 "nbformat_minor": 0,
 "worksheets": [
  {
   "cells": [
    {
     "cell_type": "code",
     "collapsed": false,
     "input": [
      "import rpy2\n",
      "%pylab inline\n",
      "%load_ext rpy2.ipython\n",
      "a=[1,2,3,4]\n",
      "b=[1,2,3,4]\n",
      "%Rpush a b\n",
      "%R t.test(1:10,1:10)"
     ],
     "language": "python",
     "metadata": {},
     "outputs": [
      {
       "output_type": "stream",
       "stream": "stdout",
       "text": [
        "Populating the interactive namespace from numpy and matplotlib\n"
       ]
      },
      {
       "metadata": {},
       "output_type": "pyout",
       "prompt_number": 1,
       "text": [
        "<ListVector - Python:0x0000000007DD8608 / R:0x00000000086B7CE0>\n",
        "[Float..., Float..., Float..., ..., StrVe..., StrVe..., StrVe...]\n",
        "  statistic: <class 'rpy2.robjects.vectors.FloatVector'>\n",
        "  <FloatVector - Python:0x0000000007DD0F88 / R:0x0000000006DE5188>\n",
        "[0.000000]\n",
        "  parameter: <class 'rpy2.robjects.vectors.FloatVector'>\n",
        "  <FloatVector - Python:0x0000000007DD0888 / R:0x0000000006DE91B8>\n",
        "[18.000000]\n",
        "  p.value: <class 'rpy2.robjects.vectors.FloatVector'>\n",
        "  <FloatVector - Python:0x0000000007DCF888 / R:0x0000000006DE95D8>\n",
        "[1.000000]\n",
        "  ...\n",
        "  statistic: <class 'rpy2.robjects.vectors.StrVector'>\n",
        "  <StrVector - Python:0x0000000007DDA788 / R:0x0000000006DC8B70>\n",
        "['two.sided']\n",
        "  parameter: <class 'rpy2.robjects.vectors.StrVector'>\n",
        "  <StrVector - Python:0x0000000007DDC108 / R:0x0000000006DE5488>\n",
        "['Welch Two Sample t-test']\n",
        "  p.value: <class 'rpy2.robjects.vectors.StrVector'>\n",
        "  <StrVector - Python:0x0000000007DDC4C8 / R:0x0000000006DD0600>\n",
        "['1:10 and 1:10']"
       ]
      }
     ],
     "prompt_number": 1
    },
    {
     "cell_type": "code",
     "collapsed": false,
     "input": [
      "%R X=c(1,4,5,7); sd(X); mean(X)\n",
      "array([ 4.25])\n",
      "%R Y = c(2,4,3,9)\n",
      "%R summary(lm(Y~X))"
     ],
     "language": "python",
     "metadata": {},
     "outputs": [
      {
       "metadata": {},
       "output_type": "pyout",
       "prompt_number": 6,
       "text": [
        "<ListVector - Python:0x000000000B33EF48 / R:0x0000000008530D90>\n",
        "[Vector, Formula, Float..., ..., Float..., Float..., Matrix]\n",
        "  call: <class 'rpy2.robjects.vectors.Vector'>\n",
        "  <Vector - Python:0x000000000B33EDC8 / R:0x00000000098B85D8>\n",
        "[RNULLType, Vector]\n",
        "  terms: <class 'rpy2.robjects.Formula'>\n",
        "  <Formula - Python:0x000000000B33EB08 / R:0x00000000098E6510>\n",
        "  residuals: <class 'rpy2.robjects.vectors.FloatVector'>\n",
        "  <FloatVector - Python:0x000000000B33EBC8 / R:0x0000000004F3A470>\n",
        "[0.880000, -0.240000, -2.280000, 1.640000]\n",
        "  ...\n",
        "  call: <class 'rpy2.robjects.vectors.FloatVector'>\n",
        "  <FloatVector - Python:0x000000000B33E208 / R:0x000000000A085E08>\n",
        "[0.548966]\n",
        "  terms: <class 'rpy2.robjects.vectors.FloatVector'>\n",
        "  <FloatVector - Python:0x000000000B3230C8 / R:0x0000000004F3AD68>\n",
        "[4.651376, 1.000000, 2.000000]\n",
        "  residuals: <class 'rpy2.robjects.vectors.Matrix'>\n",
        "  <Matrix - Python:0x000000000B33EB08 / R:0x0000000004F3ACD8>\n",
        "[1.213333, -0.226667, -0.226667, 0.053333]"
       ]
      }
     ],
     "prompt_number": 6
    },
    {
     "cell_type": "code",
     "collapsed": false,
     "input": [
      "%R t.test(1:10,1:10)"
     ],
     "language": "python",
     "metadata": {},
     "outputs": [
      {
       "metadata": {},
       "output_type": "pyout",
       "prompt_number": 2,
       "text": [
        "<ListVector - Python:0x0000000004D00708 / R:0x00000000086417C0>\n",
        "[Float..., Float..., Float..., ..., StrVe..., StrVe..., StrVe...]\n",
        "  statistic: <class 'rpy2.robjects.vectors.FloatVector'>\n",
        "  <FloatVector - Python:0x0000000004D0D408 / R:0x0000000006E26660>\n",
        "[0.000000]\n",
        "  parameter: <class 'rpy2.robjects.vectors.FloatVector'>\n",
        "  <FloatVector - Python:0x0000000007DDF408 / R:0x0000000006E26330>\n",
        "[18.000000]\n",
        "  p.value: <class 'rpy2.robjects.vectors.FloatVector'>\n",
        "  <FloatVector - Python:0x0000000007DDF948 / R:0x0000000006E26570>\n",
        "[1.000000]\n",
        "  ...\n",
        "  statistic: <class 'rpy2.robjects.vectors.StrVector'>\n",
        "  <StrVector - Python:0x0000000007DDFE08 / R:0x0000000006E11D18>\n",
        "['two.sided']\n",
        "  parameter: <class 'rpy2.robjects.vectors.StrVector'>\n",
        "  <StrVector - Python:0x0000000007DE4248 / R:0x0000000006E26960>\n",
        "['Welch Two Sample t-test']\n",
        "  p.value: <class 'rpy2.robjects.vectors.StrVector'>\n",
        "  <StrVector - Python:0x0000000007DE4608 / R:0x0000000006E19F30>\n",
        "['1:10 and 1:10']"
       ]
      }
     ],
     "prompt_number": 2
    },
    {
     "cell_type": "code",
     "collapsed": false,
     "input": [
      "\n",
      "  statistic: \n",
      "[0.000000]\n",
      "  parameter: \n",
      "[18.000000]\n",
      "  p.value: \n",
      "[1.000000]\n",
      "  statistic: two.sided\n",
      "Welch Two Sample t-test\n",
      "  p.value: <class 'rpy2.robjects.vectors.StrVector'>\n",
      "  <StrVector - Python:0x0000000007DE4608 / R:0x0000000006E19F30>\n",
      "['1:10 and 1:10']"
     ],
     "language": "python",
     "metadata": {},
     "outputs": []
    },
    {
     "cell_type": "code",
     "collapsed": false,
     "input": [
      "import rpy2.robjects as ro\n",
      "ro.r['t.test'](ro.IntVector(a),ro.IntVector(b))\n"
     ],
     "language": "python",
     "metadata": {},
     "outputs": [
      {
       "metadata": {},
       "output_type": "pyout",
       "prompt_number": 7,
       "text": [
        "<ListVector - Python:0x000000000B307E08 / R:0x0000000008552E88>\n",
        "[Float..., Float..., Float..., ..., StrVe..., StrVe..., StrVe...]\n",
        "  statistic: <class 'rpy2.robjects.vectors.FloatVector'>\n",
        "  <FloatVector - Python:0x000000000B337FC8 / R:0x0000000004F415F8>\n",
        "[0.000000]\n",
        "  parameter: <class 'rpy2.robjects.vectors.FloatVector'>\n",
        "  <FloatVector - Python:0x000000000B337DC8 / R:0x0000000004F412C8>\n",
        "[6.000000]\n",
        "  p.value: <class 'rpy2.robjects.vectors.FloatVector'>\n",
        "  <FloatVector - Python:0x000000000B337608 / R:0x0000000004F41508>\n",
        "[1.000000]\n",
        "  ...\n",
        "  statistic: <class 'rpy2.robjects.vectors.StrVector'>\n",
        "  <StrVector - Python:0x000000000B31DB48 / R:0x0000000004F3E688>\n",
        "['two.sided']\n",
        "  parameter: <class 'rpy2.robjects.vectors.StrVector'>\n",
        "  <StrVector - Python:0x000000000B335D88 / R:0x0000000004F40960>\n",
        "['Welch Two Sample t-test']\n",
        "  p.value: <class 'rpy2.robjects.vectors.StrVector'>\n",
        "  <StrVector - Python:0x000000000B3358C8 / R:0x0000000004F3F5C8>\n",
        "['1:4 and 1:4']"
       ]
      }
     ],
     "prompt_number": 7
    }
   ],
   "metadata": {}
  }
 ]
}