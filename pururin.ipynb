{
 "cells": [
  {
   "cell_type": "code",
   "execution_count": null,
   "metadata": {
    "collapsed": true
   },
   "outputs": [],
   "source": [
    "# coding:utf-8\n",
    "\n",
    "from bs4 import BeautifulSoup\n",
    "import requests\n",
    "import re\n",
    "import io\n",
    "import os\n",
    "\n",
    "content=[]\n",
    "\n",
    "def getPicUrls(url):\n",
    "    url = '/'.join(['http://pururin.com/thumbs',url.split('/')[4],url.split('/')[5]])\n",
    "    r = requests.get(url)\n",
    "    html = BeautifulSoup(r.text)\n",
    "    name = html.title.find(text=True)\n",
    "    thumblist = html.find(\"ul\",{ \"class\" : \"thumblist\" })\n",
    "    pageUrls = [item['href'] for item in thumblist.findAll(\"a\")]\n",
    "    print('got page`s urls')\n",
    "    picUrls = []\n",
    "    for u in pageUrls:\n",
    "        r = requests.get('http://pururin.com'+u)\n",
    "        html = BeautifulSoup(r.text)\n",
    "        try:\n",
    "            picUrls.append('http://pururin.com'+html.find(\"img\",{ \"class\" : \"b\" })['src'])\n",
    "        except:\n",
    "            pass\n",
    "#         <img class=\"b\" src=\"/f/f648d46d7aa4479ec25422b86217bcbc9eb0954b/boy-meets-harem-3.jpg\"\n",
    "    return picUrls,name\n",
    "\n",
    "def getPic(urls,name):\n",
    "    print('start downloading')\n",
    "    name = re.sub(r\"[\\/\\\\\\:\\*\\?\\\"\\<\\>\\|]\", \"\", name)\n",
    "    count=1\n",
    "    if not os.path.exists(name):\n",
    "        os.mkdir(name)\n",
    "    for url in urls:\n",
    "        print(url)\n",
    "        r = requests.get(url)\n",
    "        path = name+'\\\\'+str('%03d'%(count)) + \".jpg\"\n",
    "        if not os.path.exists(path):\n",
    "            with open(name+'\\\\'+str('%03d'%(count)) + \".jpg\", \"wb\") as code:\n",
    "                code.write(r.content)\n",
    "                count=count+1\n",
    "\n",
    "url = 'http://pururin.com/gallery/11328/boy-meets-harem.html'       \n",
    "picUrls,name = getPicUrls(url)\n",
    "getPic(picUrls,name)\n"
   ]
  }
 ],
 "metadata": {
  "kernelspec": {
   "display_name": "Python 3",
   "language": "python",
   "name": "python3"
  },
  "language_info": {
   "codemirror_mode": {
    "name": "ipython",
    "version": 3
   },
   "file_extension": ".py",
   "mimetype": "text/x-python",
   "name": "python",
   "nbconvert_exporter": "python",
   "pygments_lexer": "ipython3",
   "version": "3.4.1"
  }
 },
 "nbformat": 4,
 "nbformat_minor": 0
}
