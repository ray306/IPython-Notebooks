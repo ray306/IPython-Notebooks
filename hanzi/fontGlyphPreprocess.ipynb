{
 "metadata": {
  "name": "",
  "signature": "sha256:255e9fd494e39cf0686465ddec383d7e3d3a706761b35cedf77e3da9bb03536b"
 },
 "nbformat": 3,
 "nbformat_minor": 0,
 "worksheets": [
  {
   "cells": [
    {
     "cell_type": "code",
     "collapsed": false,
     "input": [
      "import sqlite3\n",
      "import xlrd\n",
      "import codecs,sys\n",
      "sys.stout = codecs.lookup('iso8859-1')[-1](sys.stdout)\n",
      "\n",
      "conn = sqlite3.connect('h:\\\\lab\\\\hanzi.db')\n",
      "conn.text_factory = str\n",
      "c = conn.cursor()\n",
      "\n",
      "import pandas as pd\n",
      "# re = pd.read_sql_query('SELECT Unicode,Character,ScaleGlyph FROM hanzi', conn, index_col='Character')\n",
      "re = pd.read_sql_query('SELECT Unicode,Character,ScaleGlyph FROM new', conn, index_col='Character')\n",
      "# re.head()"
     ],
     "language": "python",
     "metadata": {},
     "outputs": [],
     "prompt_number": 14
    },
    {
     "cell_type": "code",
     "collapsed": false,
     "input": [
      "import sqlite3\n",
      "import xlrd\n",
      "\n",
      "conn = sqlite3.connect('h:\\\\lab\\\\hanzi.db')\n",
      "conn.text_factory = str\n",
      "c = conn.cursor()\n",
      "\n",
      "import pandas as pd\n",
      "# re = pd.read_sql_query('SELECT Unicode,Character,ScaleGlyph FROM hanzi', conn, index_col='Character')\n",
      "result = pd.read_sql_query('SELECT Unicode,Character,ScaleGlyph,IDS1st,IDS2nd,IDS3rd FROM new', conn, index_col='Character')\n",
      "# re.head()"
     ],
     "language": "python",
     "metadata": {},
     "outputs": [],
     "prompt_number": 296
    },
    {
     "cell_type": "code",
     "collapsed": false,
     "input": [
      "for char in result.iterrows():\n",
      "    if char[1]['IDS3rd']!=None:\n",
      "        char[1]['IDS1st'] = char[1]['IDS3rd']\n",
      "    elif char[1]['IDS2nd']!=None:\n",
      "        char[1]['IDS1st'] = char[1]['IDS2nd']\n",
      "\n",
      "result.columns = [u'Unicode', u'ScaleGlyph', u'IDS', u'blocks', u'IDS3rd']\n",
      "del result['IDS3rd']\n",
      "\n",
      "for char in result.iterrows():\n",
      "    ids = char[1].IDS\n",
      "    CDPcodes = re.findall(r\"(&.*?;)\",ids)\n",
      "    withoutCDP = unicode(re.sub(r\"(&.*?;)\",'',ids),'utf-8')\n",
      "    withoutPosition = re.sub(ur\"[\\u2ff0-\\u2ffF]?\",'',withoutCDP)\n",
      "    everyPart = CDPcodes[:] + repr(withoutPosition)[2:-1].split('\\\\')[1:]\n",
      "    char[1].blocks = everyPart\n",
      "result.to_csv('h:\\\\lab\\\\hanzi.csv')"
     ],
     "language": "python",
     "metadata": {},
     "outputs": [],
     "prompt_number": 297
    },
    {
     "cell_type": "code",
     "collapsed": false,
     "input": [
      "from collections import Counter\n",
      "c=Counter()\n",
      "for char in result.iterrows():\n",
      "    c.update(char[1]['blocks'])\n",
      "len(c)"
     ],
     "language": "python",
     "metadata": {},
     "outputs": [
      {
       "metadata": {},
       "output_type": "pyout",
       "prompt_number": 312,
       "text": [
        "1513"
       ]
      }
     ],
     "prompt_number": 312
    },
    {
     "cell_type": "code",
     "collapsed": false,
     "input": [
      "import pandas as pd\n",
      "result = pd.read_csv('h:\\\\lab\\\\hanzi.csv')"
     ],
     "language": "python",
     "metadata": {},
     "outputs": [],
     "prompt_number": 2
    },
    {
     "cell_type": "code",
     "collapsed": false,
     "input": [
      "%pylab inline\n",
      "import math\n",
      "from matplotlib.patches import ConnectionPatch\n",
      "\n",
      "def trans(char):\n",
      "    outlines = eval(re.ix[char]['ScaleGlyph'])[0]\n",
      "    return [[[int(round(p[0]*100)),int(round(p[1]*100))] for p in outline] for outline in outlines]\n",
      "\n",
      "def draw(ps,color):\n",
      "    xs = [i[0] for i in ps]\n",
      "    xs.append(ps[0][0])\n",
      "    ys = [i[1] for i in ps]\n",
      "    ys.append(ps[0][1])\n",
      "    plt.scatter(xs,ys)\n",
      "    lines = plt.plot(xs, ys,color,linewidth=2)\n",
      "\n",
      "def slopeDiff(ps):\n",
      "    return (sum((ps[0]-ps[1])**2))**0.5+(sum((ps[1]-ps[2])**2))**0.5-(sum((ps[0]-ps[2])**2))**0.5\n",
      "\n",
      "def simplify(seq):\n",
      "    t = np.array(seq[-1:]+seq+seq[:1])\n",
      "    return [t[i] for i in range(1,len(seq)+1) if slopeDiff(t[i-1:i+2])>0.1]\n",
      "\n",
      "def toSegments(seq):\n",
      "    return zip(seq, seq[1:] + [seq[0]])\n",
      "\n",
      "# def sortInClockwise(seq):\n",
      "#     segments = toSegments(seq)\n",
      "#     if sum(x0*y1 - x1*y0 for ((x0, y0), (x1, y1)) in segments) > 0:\n",
      "#         seq.reverse()\n",
      "#         segments = toSegments(seq)\n",
      "#     return seq,segments\n",
      "\n",
      "def match(s1,s2):\n",
      "    couple = []\n",
      "    for (i,p1) in enumerate(s1):\n",
      "        distances = [sum((p1[0]-p2[0])**2+(p1[1]-p2[1])**2) for p2 in s2]\n",
      "        sort = sorted(enumerate(distances), key=lambda d: d[1])\n",
      "        if sort[0][1]*1.0/sort[1][1]<0.6:\n",
      "            couple.append([i,sort[0][0]])\n",
      "    return couple"
     ],
     "language": "python",
     "metadata": {},
     "outputs": [
      {
       "output_type": "stream",
       "stream": "stdout",
       "text": [
        "Populating the interactive namespace from numpy and matplotlib\n"
       ]
      }
     ],
     "prompt_number": 3
    },
    {
     "cell_type": "code",
     "collapsed": false,
     "input": [
      "char1 = trans('\u5417')\n",
      "char2 = trans('\u9a89')        \n",
      "\n",
      "# char1 = char1[1]\n",
      "# char2 = char2[3]\n",
      "    \n",
      "matched = []\n",
      "for (ind1,outline1) in enumerate(char1):\n",
      "    for (ind2,outline2) in enumerate(char2):\n",
      "        sample1 = simplify(outline1)\n",
      "        sample2 = simplify(outline2)\n",
      "        segments1 = toSegments(sample1)\n",
      "        segments2 = toSegments(sample2)\n",
      "        couple1 = match(np.array(segments1),np.array(segments2))\n",
      "        couple2 = match(np.array(segments2),np.array(segments1))\n",
      "        if len(couple1)*1.0/len(segments1)>0.8 and len(couple2)*1.0/len(segments2)>0.8:\n",
      "            matched.append([ind1,ind2])\n",
      "            draw(char1[ind1],'r')\n",
      "            draw(char2[ind2],'b')\n",
      "#             for c in couple:\n",
      "#                 draw([(np.array(sample1[c[0]])+np.array(sample1[c[0]+1]))/2.0,(np.array(sample1[c[1]])+np.array(sample1[c[1]+1]))/2.0],'g')\n",
      "\n",
      "matched"
     ],
     "language": "python",
     "metadata": {},
     "outputs": [
      {
       "metadata": {},
       "output_type": "pyout",
       "prompt_number": 156,
       "text": [
        "[[1, 0], [1, 1], [1, 2], [2, 3], [2, 5], [3, 3], [3, 5]]"
       ]
      },
      {
       "metadata": {},
       "output_type": "display_data",
       "png": "[encoded data removed]",
       "text": [
        "<matplotlib.figure.Figure at 0x3b3faba8>"
       ]
      }
     ],
     "prompt_number": 156
    },
    {
     "cell_type": "code",
     "collapsed": false,
     "input": [
      "#sort all points seq to clockwise\n",
      "count = []\n",
      "for char in re3.iterrows():\n",
      "    ScaleGlyph = eval(char[1]['ScaleGlyph'])\n",
      "    outlines = ScaleGlyph[0]\n",
      "    for i,seq in enumerate(outlines):\n",
      "        segments = zip(seq, seq[1:] + [seq[0]])\n",
      "        if sum(x0*y1 - x1*y0 for ((x0, y0,a), (x1, y1,b)) in segments) > 0:\n",
      "            seq.reverse()\n",
      "            outlines[i] = seq\n",
      "            count.append([char,i])\n",
      "    char[1]['ScaleGlyph'] = str([outlines,ScaleGlyph[1]])\n",
      "    \n",
      "re2 = pd.read_sql_query('SELECT * FROM hanzi', conn, index_col='Character')\n",
      "del re['Unicode']\n",
      "del re2['ScaleGlyph']\n",
      "re3 = pd.merge(re, re2, left_index=True, right_index=True)\n",
      "re3.to_sql('new', conn)"
     ],
     "language": "python",
     "metadata": {},
     "outputs": [],
     "prompt_number": 154
    },
    {
     "cell_type": "code",
     "collapsed": false,
     "input": [
      "c.execute('SELECT Unicode,Outline FROM hanzi')\n",
      "result = c.fetchall()\n",
      "scaleResult = {}\n",
      "for item in result:\n",
      "    char = item[0]\n",
      "    glyph = eval(item[1].replace('\\'',''))\n",
      "    gLL = (glyph[1][0][0],glyph[1][0][1]) # (globalLowerleftX, globalLowerleftY)\n",
      "    gUR = (glyph[1][1][0],glyph[1][1][1]) # (globalUpRightX, globalUpRightY)\n",
      "    gW = float(gUR[0] - gLL[0]) # globalWidth\n",
      "    gH = float(gUR[1] - gLL[1]) # globalHeight\n",
      "    contours = glyph[0]\n",
      "    scaleResult[char] = [[],[]]\n",
      "    for contour in contours:  \n",
      "        xs = [i[0] for i in contour]\n",
      "        ys = [i[1] for i in contour]\n",
      "        LL = [min(xs),min(ys)]\n",
      "        UR = [max(xs),max(ys)]\n",
      "        w = float(UR[0] - LL[0]) # width\n",
      "        h = float(UR[1] - LL[1]) # height\n",
      "        scaleResult[char][0].append([((p[0]-LL[0])/w,(p[1]-LL[1])/h,p[2]) for p in contour])\n",
      "        scaleResult[char][1].append({'LL':((LL[0]-gLL[0])/gW,(LL[1]-gLL[1])/gH),'UR':((UR[0]-gLL[0])/gW,(UR[1]-gLL[1])/gH)})\n",
      "import pandas as pd\n",
      "t = {k: str(v) for (k, v) in scaleResult.iteritems()}\n",
      "r = pd.DataFrame(t, index=[1]).T\n",
      "r.columns = ['ScaleGlyph']\n",
      "\n",
      "from sqlalchemy import create_engine\n",
      "engine = create_engine('sqlite:///h:\\\\lab\\\\hanzi.db')\n",
      "df = pd.read_sql_table('hanzi', engine)\n",
      "del df['ScaleGlyph']\n",
      "new = pd.merge(df,r,left_on='Unicode',right_index=True)\n",
      "new.to_sql('glyph', conn)"
     ],
     "language": "python",
     "metadata": {},
     "outputs": [],
     "prompt_number": 28
    },
    {
     "cell_type": "code",
     "collapsed": false,
     "input": [
      "c.execute('SELECT hanzi.*, glyph.ScaleGlyph FROM hanzi, glyph WHERE glyph.Unicode=hanzi.Unicode')\n",
      "result = c.fetchall()\n",
      "result2 = []\n",
      "for i in result:\n",
      "    t = list(i[:-1])\n",
      "    t[3] = i[-1]\n",
      "    result2.append(tuple(t))\n",
      "    \n",
      "wildcard = '('+','.join(['?']*len(result2[0]))+')'\n",
      "c.executemany('insert into hanzi_copy values'+wildcard, result2)\n",
      "\n",
      "conn.commit()\n",
      "conn.close()"
     ],
     "language": "python",
     "metadata": {},
     "outputs": [],
     "prompt_number": 10
    },
    {
     "cell_type": "code",
     "collapsed": false,
     "input": [
      "xset = []\n",
      "yset = []\n",
      "pset = []\n",
      "target = []\n",
      "name = []\n",
      "import random\n",
      "import numpy as np\n",
      "rxs = [0 for i in range(101)]\n",
      "rys = [0 for i in range(101)]\n",
      "rps = [0 for i in range(10001)]\n",
      "li = (result1[:1000]+result2[:1000])\n",
      "random.shuffle(li)\n",
      "for item in li:\n",
      "    xs = rxs[:]\n",
      "    ys = rys[:]\n",
      "    ps = rps[:]\n",
      "    outline = scaleResult[char][1]\n",
      "    for x in (int(round((i[0]+i[2])/2*100)) for i in outline):\n",
      "        xs[x] = 1\n",
      "    for y in (int(round((i[1]+i[3])/2*100)) for i in outline):\n",
      "        ys[x] = 1\n",
      "\n",
      "    xset.append(xs)\n",
      "    yset.append(ys)\n",
      "    for p in (int((round((i[1]+i[3])/2*100)+(i[0]+i[2])/2)*100) for i in outline):\n",
      "        ps[x] = 1\n",
      "    pset.append(ps)\n",
      "    name.append(item[0])\n",
      "    target.append(item[2])"
     ],
     "language": "python",
     "metadata": {},
     "outputs": [],
     "prompt_number": 145
    }
   ],
   "metadata": {}
  }
 ]
}