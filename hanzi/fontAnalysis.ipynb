{
 "metadata": {
  "name": "",
  "signature": "sha256:38c3023e4c0f7286bb662b7b45de451b3aea9d1eb0f7f9abb4f6cca316506dbb"
 },
 "nbformat": 3,
 "nbformat_minor": 0,
 "worksheets": [
  {
   "cells": [
    {
     "cell_type": "code",
     "collapsed": false,
     "input": [
      "%pylab inline\n",
      "import sqlite3\n",
      "import xlrd\n",
      "import pandas as pd\n",
      "from sqlalchemy import create_engine\n",
      "import matplotlib.path as path\n",
      "\n",
      "import codecs,sys\n",
      "sys.stout = codecs.lookup('iso8859-1')[-1](sys.stdout)"
     ],
     "language": "python",
     "metadata": {},
     "outputs": [
      {
       "output_type": "stream",
       "stream": "stderr",
       "text": [
        "Vendor:  Continuum Analytics, Inc.\n",
        "Package: mkl\n",
        "Message: trial mode expires in 28 days\n",
        "Vendor:  Continuum Analytics, Inc.\n"
       ]
      },
      {
       "output_type": "stream",
       "stream": "stdout",
       "text": [
        "Populating the interactive namespace from numpy and matplotlib\n"
       ]
      },
      {
       "output_type": "stream",
       "stream": "stderr",
       "text": [
        "Package: mkl\n",
        "Message: trial mode expires in 28 days\n"
       ]
      }
     ],
     "prompt_number": 2
    },
    {
     "cell_type": "code",
     "collapsed": false,
     "input": [
      "def drawChar(ps,color):\n",
      "    xs = [i[0] for i in ps]\n",
      "    xs.append(ps[0][0])\n",
      "    ys = [i[1] for i in ps]\n",
      "    ys.append(ps[0][1])\n",
      "    plt.scatter(xs,ys)\n",
      "    lines = plt.plot(xs, ys,color,linewidth=2)"
     ],
     "language": "python",
     "metadata": {},
     "outputs": [],
     "prompt_number": 63
    },
    {
     "cell_type": "code",
     "collapsed": false,
     "input": [
      "conn = sqlite3.connect('h:\\\\lab\\\\hanzi.db')\n",
      "conn.text_factory = str\n",
      "c = conn.cursor()\n",
      "c.execute('SELECT Character,Outline FROM hanzi')\n",
      "result = c.fetchall()\n",
      "\n",
      "fontRawData = {}\n",
      "for item in result:\n",
      "    glyph = eval(item[1].replace('\\'',''))\n",
      "    outlines = [[(int(point[0]),int(point[1]),int(point[2])) for point in g] for g in glyph[0]]\n",
      "    border = [(int(point[0]),int(point[1])) for point in glyph[1]]\n",
      "    fontRawData[item[0]] = {'outlines':outlines,'border':border}\n",
      "    \n",
      "fontInfo = pd.DataFrame(fontRawData).T\n",
      "fontInfo.head()"
     ],
     "language": "python",
     "metadata": {},
     "outputs": [
      {
       "html": [
        "<div style=\"max-height:1000px;max-width:1500px;overflow:auto;\">\n",
        "<table border=\"1\" class=\"dataframe\">\n",
        "  <thead>\n",
        "    <tr style=\"text-align: right;\">\n",
        "      <th></th>\n",
        "      <th>border</th>\n",
        "      <th>outlines</th>\n",
        "    </tr>\n",
        "  </thead>\n",
        "  <tbody>\n",
        "    <tr>\n",
        "      <th>\u4e00</th>\n",
        "      <td>   [(53, 715), (1995, 834)]</td>\n",
        "      <td> [[(53, 834, 1), (1995, 834, 1), (1995, 715, 1)...</td>\n",
        "    </tr>\n",
        "    <tr>\n",
        "      <th>\u4e01</th>\n",
        "      <td> [(76, -203), (1962, 1507)]</td>\n",
        "      <td> [[(76, 1507, 1), (1962, 1507, 1), (1962, 1397,...</td>\n",
        "    </tr>\n",
        "    <tr>\n",
        "      <th>\u4e02</th>\n",
        "      <td> [(80, -200), (1966, 1497)]</td>\n",
        "      <td> [[(80, 1497, 1), (1966, 1497, 1), (1966, 1391,...</td>\n",
        "    </tr>\n",
        "    <tr>\n",
        "      <th>\u4e03</th>\n",
        "      <td> [(72, -154), (1968, 1665)]</td>\n",
        "      <td> [[(72, 897, 1), (754, 973, 1), (754, 1665, 1),...</td>\n",
        "    </tr>\n",
        "    <tr>\n",
        "      <th>\u4e04</th>\n",
        "      <td> [(72, -109), (1976, 1645)]</td>\n",
        "      <td> [[(965, 1645, 1), (1083, 1645, 1), (1083, 2, 1...</td>\n",
        "    </tr>\n",
        "  </tbody>\n",
        "</table>\n",
        "</div>"
       ],
       "metadata": {},
       "output_type": "pyout",
       "prompt_number": 44,
       "text": [
        "                       border  \\\n",
        "\u4e00    [(53, 715), (1995, 834)]   \n",
        "\u4e01  [(76, -203), (1962, 1507)]   \n",
        "\u4e02  [(80, -200), (1966, 1497)]   \n",
        "\u4e03  [(72, -154), (1968, 1665)]   \n",
        "\u4e04  [(72, -109), (1976, 1645)]   \n",
        "\n",
        "                                            outlines  \n",
        "\u4e00  [[(53, 834, 1), (1995, 834, 1), (1995, 715, 1)...  \n",
        "\u4e01  [[(76, 1507, 1), (1962, 1507, 1), (1962, 1397,...  \n",
        "\u4e02  [[(80, 1497, 1), (1966, 1497, 1), (1966, 1391,...  \n",
        "\u4e03  [[(72, 897, 1), (754, 973, 1), (754, 1665, 1),...  \n",
        "\u4e04  [[(965, 1645, 1), (1083, 1645, 1), (1083, 2, 1...  "
       ]
      }
     ],
     "prompt_number": 44
    },
    {
     "cell_type": "code",
     "collapsed": false,
     "input": [
      "fontInfo['combination'] = None\n",
      "fontInfo['clockwiseOutlines'] = None\n",
      "for char,item in fontInfo.iterrows():\n",
      "    outlineT = [[(point[0],point[1]) for point in outline if point[2]==1] for outline in item.outlines]        \n",
      "    n = len(outlineT)\n",
      "    #i\uff08\u884c\uff09\u662f\u5426\u5728j\uff08\u5217\uff09\u4e2d\n",
      "    relation = np.zeros((n,n),dtype='int')\n",
      "    for i in range(n):\n",
      "        for j in range(n):\n",
      "            contains = path.Path(outlineT[j]).contains_points(outlineT[i])\n",
      "            relation[i,j] = count_nonzero(contains)/len(contains)\n",
      "    for i in range(n): relation[i,i] = 0\n",
      "\n",
      "    bins = dict((i,[]) for i in range(n) if sum(relation[i,:])==0)\n",
      "    level = 1\n",
      "    while sum(relation)>0:\n",
      "        onlyOne = [(i,list(relation[i,:]).index(1)) for i in range(n) if sum(relation[i,:])==1]\n",
      "        for i,index in onlyOne:\n",
      "            if level%2==1:\n",
      "                try:\n",
      "                    bins[index].append(i)\n",
      "                except:\n",
      "                    bins[index]=[i]\n",
      "            relation[:,index] = 0\n",
      "        level+=1\n",
      "    for i in bins:bins[i].append(i)\n",
      "    item.combination = list(bins.values())\n",
      "    \n",
      "    # sort in clockwise\n",
      "    clockwiseOutlines=[]\n",
      "    for outline in item.outlines:\n",
      "        segments = zip(outline, outline[1:] + [outline[0]])\n",
      "        if sum(x1*y2 - x2*y1 for ((x1, y1,a), (x2, y2,b)) in segments) > 0:\n",
      "            outline.reverse()\n",
      "        clockwiseOutlines.append(outline)\n",
      "    item.clockwiseOutlines = clockwiseOutlines\n",
      "    # [[clockwiseOutlines[i] for i in combine] for combine in list(combines.values())]\n",
      "\n",
      "# embed = dict((i,sum(relation[i,:])) for i in range(n))\n",
      "# for i in range(len(t)):\n",
      "#     drawChar(t[i],'#'+hex(embed[i]*4)[2]*6)"
     ],
     "language": "python",
     "metadata": {},
     "outputs": [],
     "prompt_number": 78
    },
    {
     "cell_type": "code",
     "collapsed": false,
     "input": [
      "c.execute('SELECT Unicode,Outline FROM hanzi')\n",
      "result = c.fetchall()\n",
      "scaleResult = {}\n",
      "for item in result:\n",
      "    char = item[0]\n",
      "    glyph = eval(item[1].replace('\\'',''))\n",
      "    gLL = (glyph[1][0][0],glyph[1][0][1]) # (globalLowerleftX, globalLowerleftY)\n",
      "    gUR = (glyph[1][1][0],glyph[1][1][1]) # (globalUpRightX, globalUpRightY)\n",
      "    gW = float(gUR[0] - gLL[0]) # globalWidth\n",
      "    gH = float(gUR[1] - gLL[1]) # globalHeight\n",
      "    contours = glyph[0]\n",
      "    scaleResult[char] = [[],[]]\n",
      "    for contour in contours:  \n",
      "        xs = [i[0] for i in contour]\n",
      "        ys = [i[1] for i in contour]\n",
      "        LL = [min(xs),min(ys)]\n",
      "        UR = [max(xs),max(ys)]\n",
      "        w = float(UR[0] - LL[0]) # width\n",
      "        h = float(UR[1] - LL[1]) # height\n",
      "        scaleResult[char][0].append([((p[0]-LL[0])/w,(p[1]-LL[1])/h,p[2]) for p in contour])\n",
      "        scaleResult[char][1].append([((LL[0]-gLL[0])/gW,(LL[1]-gLL[1])/gH),((UR[0]-gLL[0])/gW,(UR[1]-gLL[1])/gH)])"
     ],
     "language": "python",
     "metadata": {},
     "outputs": []
    },
    {
     "cell_type": "code",
     "collapsed": false,
     "input": [
      "t = {k: str(v) for (k, v) in scaleResult.iteritems()}\n",
      "r = pd.DataFrame(t, index=[1]).T\n",
      "r.columns = ['ScaleGlyph']\n",
      "\n",
      "\n",
      "engine = create_engine('sqlite:///h:\\\\lab\\\\font.db')\n",
      "df = pd.read_sql_table('hanzi', engine)\n",
      "del df['ScaleGlyph']\n",
      "new = pd.merge(df,r,left_on='Unicode',right_index=True)\n",
      "new.to_sql('glyph', conn)"
     ],
     "language": "python",
     "metadata": {},
     "outputs": []
    }
   ],
   "metadata": {}
  }
 ]
}