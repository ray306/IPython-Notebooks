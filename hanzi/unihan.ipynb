{
 "metadata": {
  "name": "",
  "signature": "sha256:0202ed4257fbb8695f30066af81094877adc93a843b7b181ff38ae2a5ae89247"
 },
 "nbformat": 3,
 "nbformat_minor": 0,
 "worksheets": [
  {
   "cells": [
    {
     "cell_type": "code",
     "collapsed": false,
     "input": [
      "import sqlite3\n",
      "import os\n",
      "import pandas as pd\n",
      "\n",
      "con = sqlite3.connect('h:\\lab\\hanzi.db')\n",
      "path = 'D:\\Doc\\\\research\\word\\ch\\\\Unihan'\n",
      "now = {}\n",
      "\n",
      "for f in os.listdir(path):\n",
      "\twith open(path+'\\\\'+f, \"r\",encoding='utf-8') as fs:\n",
      "\t\twhile True:\n",
      "\t\t\tl = fs.readline()\n",
      "\t\t\tif l == '' or l[0] == '#':\n",
      "\t\t\t\tcontinue\n",
      "\t\t\tif l == '\\n':\n",
      "\t\t\t \tbreak\n",
      "\t\t\tseg = l.split('\t')\n",
      "\t\t\tnowCode = seg[0]\n",
      "\t\t\ttry:\n",
      "\t\t\t\tnow[nowCode]\n",
      "\t\t\texcept:\n",
      "\t\t\t\tnow[nowCode] = {}\n",
      "\t\t\tnowProperty = now[nowCode]\n",
      "\t\t\tnowProperty[seg[1]] = seg[2].replace('\\n','')\n",
      "\n",
      "pd.DataFrame(now).T.to_sql('Unihan', con)"
     ],
     "language": "python",
     "metadata": {},
     "outputs": []
    }
   ],
   "metadata": {}
  }
 ]
}