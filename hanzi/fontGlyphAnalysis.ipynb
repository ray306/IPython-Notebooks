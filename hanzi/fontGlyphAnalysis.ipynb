{
 "metadata": {
  "name": "",
  "signature": "sha256:00586416d2c1604fc7f87d5fdc2b1e02b4b638ce412fa1d25df7c9606260c5ed"
 },
 "nbformat": 3,
 "nbformat_minor": 0,
 "worksheets": [
  {
   "cells": [
    {
     "cell_type": "code",
     "collapsed": false,
     "input": [
      "%pylab inline\n",
      "import pandas as pd\n",
      "result = pd.read_csv('h:\\\\lab\\\\hanzi.csv')"
     ],
     "language": "python",
     "metadata": {},
     "outputs": []
    },
    {
     "cell_type": "code",
     "collapsed": false,
     "input": [
      "import math\n",
      "import numba\n",
      "from matplotlib.patches import ConnectionPatch\n",
      "\n",
      "def trans(char):\n",
      "    outlines = result.ix[char]['ScaleGlyph'][0]\n",
      "    return [[[int(round(p[0]*100)),int(round(p[1]*100))] for p in outline] for outline in outlines]\n",
      "\n",
      "def draw(ps,color):\n",
      "    xs = [i[0] for i in ps]\n",
      "    xs.append(ps[0][0])\n",
      "    ys = [i[1] for i in ps]\n",
      "    ys.append(ps[0][1])\n",
      "    plt.scatter(xs,ys)\n",
      "    lines = plt.plot(xs, ys,color,linewidth=2)\n",
      "\n",
      "# def slopeDiff(ps):\n",
      "#     return (sum((ps[0]-ps[1])**2))**0.5+(sum((ps[1]-ps[2])**2))**0.5-(sum((ps[0]-ps[2])**2))**0.5\n",
      "def slopeDiff(ps):\n",
      "    seg1 = ps[1]-ps[0]\n",
      "    seg2 = ps[2]-ps[1]\n",
      "    return abs(math.atan(seg1[1]/(seg1[0]+0.001))-math.atan(seg2[1]/(seg2[0]+0.001)))\n",
      "\n",
      "def simplify(seq):\n",
      "    t = np.array(seq[-1:]+seq+seq[:1])\n",
      "    return [t[i] for i in range(1,len(seq)+1) if slopeDiff(t[i-1:i+2])>0.2]\n",
      "\n",
      "def toSegments(seq):\n",
      "    return list(zip(seq, seq[1:] + [seq[0]]))\n",
      "\n",
      "def raw2Segments(raw):\n",
      "    seq = [[int(round(p[0]*100)),int(round(p[1]*100))] for p in raw]\n",
      "    t = np.array(seq[-1:]+seq+seq[:1])\n",
      "    Segments = [t[i] for i in range(1,len(seq)+1) if slopeDiff(t[i-1:i+2])>0.1]\n",
      "    return list(zip(Segments, Segments[1:] + [Segments[0]]))\n",
      "\n",
      "def match(s1,s2):\n",
      "    couple = []\n",
      "    for (i,p1) in enumerate(s1):\n",
      "        distances = [sum((p1[0]-p2[0])**2+(p1[1]-p2[1])**2) for p2 in s2]\n",
      "        #         distances = np.array([[sum((p1-p2)**2) for p2 in s2] for p1 in s1])\n",
      "        sort = sorted(enumerate(distances), key=lambda d: d[1])\n",
      "        if sort[0][1]/sort[1][1]<0.6:\n",
      "            couple.append([i,sort[0][0]])\n",
      "    return couple\n",
      "\n",
      "def IsMatch(s1,s2):\n",
      "    if len(s1)>len(s2):\n",
      "        t=np.array([[(p1,p2) for p2 in s2] for p1 in s1])\n",
      "        distances = np.sum((t[:,:,0]-t[:,:,1])**2,axis=(2,3))\n",
      "        sortD=np.sort(distances)\n",
      "        if count_nonzero(sortD[:,0]/sortD[:,1]<0.6)/len(s1)<0.8:\n",
      "            return False\n",
      "    else:\n",
      "        t=np.array([[(p1,p2) for p2 in s1] for p1 in s2])\n",
      "        distances = np.sum((t[:,:,0]-t[:,:,1])**2,axis=(2,3))\n",
      "        sortD=np.sort(distances)\n",
      "        if count_nonzero(sortD[:,0]/sortD[:,1]<0.6)/len(s2)<0.8:\n",
      "            return False\n",
      "    return True\n",
      "\n",
      "def compareInfo(char,i):\n",
      "    target = char.GlyphSegment[0][i]\n",
      "    targetHash = char.Hash[i]\n",
      "    return target,targetHash\n",
      "\n",
      "def matchChecking(target1,Hash1,target2,Hash2):\n",
      "    if len(target1)*0.8 < len(target2) < len(target1)*1.25 and -5<Hash1[0]-Hash2[0]<5 and -5<Hash1[1]-Hash2[1]<5:\n",
      "        if IsMatch(target1,target2):\n",
      "            return True\n",
      "    return False\n",
      "\n",
      "def findMatchInThis(char,target,targetHash):\n",
      "    newMatched = set()\n",
      "    for i in char[1].Unmatched:\n",
      "        checking,checkingHash = compareInfo(char[1],i)\n",
      "        if matchChecking(target,targetHash,checking,checkingHash):\n",
      "            newMatched.add(i)\n",
      "    return newMatched\n",
      "\n",
      "def recordTheChange(newMatched,char,idx):\n",
      "    for i in newMatched:\n",
      "        record[char[0]].append((idx,char[1].GlyphSegment[1][i]))"
     ],
     "language": "python",
     "metadata": {},
     "outputs": [],
     "prompt_number": 578
    },
    {
     "cell_type": "code",
     "collapsed": false,
     "input": [
      "count = 0\n",
      "for char in result.iterrows():\n",
      "    if char[0] =='\u9f8d':\n",
      "        break\n",
      "char[1]==result.ix['\u9f8d']"
     ],
     "language": "python",
     "metadata": {},
     "outputs": [
      {
       "metadata": {},
       "output_type": "pyout",
       "prompt_number": 399,
       "text": [
        "Unicode         True\n",
        "ScaleGlyph      True\n",
        "IDS             True\n",
        "blocks          True\n",
        "GlyphSegment    True\n",
        "Matched         True\n",
        "Unmatched       True\n",
        "hash            True\n",
        "Name: \u9f8d, dtype: bool"
       ]
      }
     ],
     "prompt_number": 399
    },
    {
     "cell_type": "code",
     "collapsed": false,
     "input": [
      "record = {}\n",
      "allSegment={}\n",
      "\n",
      "for char in result.iterrows():\n",
      "    record[char[0]] = []\n",
      "    char[1].Matched = set()\n",
      "    char[1].Unmatched = set(range(len(char[1].GlyphSegment[0])))"
     ],
     "language": "python",
     "metadata": {},
     "outputs": [],
     "prompt_number": 553
    },
    {
     "cell_type": "code",
     "collapsed": false,
     "input": [
      "matchedList = {}\n",
      "for char in record:\n",
      "    matchedList[char] = {}\n",
      "    for i in record[char]:\n",
      "        try:\n",
      "            matchedList[char][i[0]].append([i[1]['LL'],i[1]['UR']])\n",
      "        except:\n",
      "            matchedList[char][i[0]]=[[i[1]['LL'],i[1]['UR']]]\n",
      "matchedList = pd.DataFrame(matchedList).T\n",
      "matchedList.head()\n",
      "# matchedList.to_csv('h:\\\\lab\\\\matchedList.csv',encoding='utf-8')\n",
      "# #matchedList = pd.read_csv('h:\\\\lab\\\\matchedList.csv')\n",
      "# result[['GlyphSegment','Matched','Unmatched']].to_csv('h:\\\\lab\\\\matchedTable.csv',encoding='utf-8')"
     ],
     "language": "python",
     "metadata": {},
     "outputs": [
      {
       "html": [
        "<div style=\"max-height:1000px;max-width:1500px;overflow:auto;\">\n",
        "<table border=\"1\" class=\"dataframe\">\n",
        "  <thead>\n",
        "    <tr style=\"text-align: right;\">\n",
        "      <th></th>\n",
        "      <th>0</th>\n",
        "      <th>1</th>\n",
        "      <th>2</th>\n",
        "      <th>4</th>\n",
        "      <th>5</th>\n",
        "      <th>6</th>\n",
        "      <th>7</th>\n",
        "      <th>8</th>\n",
        "      <th>9</th>\n",
        "      <th>10</th>\n",
        "      <th>...</th>\n",
        "      <th>1282</th>\n",
        "      <th>1284</th>\n",
        "      <th>1285</th>\n",
        "      <th>1286</th>\n",
        "      <th>1287</th>\n",
        "      <th>1288</th>\n",
        "      <th>1289</th>\n",
        "      <th>1290</th>\n",
        "      <th>1291</th>\n",
        "      <th>1292</th>\n",
        "    </tr>\n",
        "  </thead>\n",
        "  <tbody>\n",
        "    <tr>\n",
        "      <th>\u4e00</th>\n",
        "      <td> [[(0.0, 0.0), (1.0, 1.0)]]</td>\n",
        "      <td> NaN</td>\n",
        "      <td> NaN</td>\n",
        "      <td>                        NaN</td>\n",
        "      <td> NaN</td>\n",
        "      <td> NaN</td>\n",
        "      <td>                        NaN</td>\n",
        "      <td> NaN</td>\n",
        "      <td> NaN</td>\n",
        "      <td> NaN</td>\n",
        "      <td>...</td>\n",
        "      <td> NaN</td>\n",
        "      <td> NaN</td>\n",
        "      <td> NaN</td>\n",
        "      <td> NaN</td>\n",
        "      <td> NaN</td>\n",
        "      <td> NaN</td>\n",
        "      <td> NaN</td>\n",
        "      <td> NaN</td>\n",
        "      <td> NaN</td>\n",
        "      <td> NaN</td>\n",
        "    </tr>\n",
        "    <tr>\n",
        "      <th>\u4e01</th>\n",
        "      <td>                        NaN</td>\n",
        "      <td> NaN</td>\n",
        "      <td> NaN</td>\n",
        "      <td>                        NaN</td>\n",
        "      <td> NaN</td>\n",
        "      <td> NaN</td>\n",
        "      <td>                        NaN</td>\n",
        "      <td> NaN</td>\n",
        "      <td> NaN</td>\n",
        "      <td> NaN</td>\n",
        "      <td>...</td>\n",
        "      <td> NaN</td>\n",
        "      <td> NaN</td>\n",
        "      <td> NaN</td>\n",
        "      <td> NaN</td>\n",
        "      <td> NaN</td>\n",
        "      <td> NaN</td>\n",
        "      <td> NaN</td>\n",
        "      <td> NaN</td>\n",
        "      <td> NaN</td>\n",
        "      <td> NaN</td>\n",
        "    </tr>\n",
        "    <tr>\n",
        "      <th>\u4e02</th>\n",
        "      <td>                        NaN</td>\n",
        "      <td> NaN</td>\n",
        "      <td> NaN</td>\n",
        "      <td>                        NaN</td>\n",
        "      <td> NaN</td>\n",
        "      <td> NaN</td>\n",
        "      <td>                        NaN</td>\n",
        "      <td> NaN</td>\n",
        "      <td> NaN</td>\n",
        "      <td> NaN</td>\n",
        "      <td>...</td>\n",
        "      <td> NaN</td>\n",
        "      <td> NaN</td>\n",
        "      <td> NaN</td>\n",
        "      <td> NaN</td>\n",
        "      <td> NaN</td>\n",
        "      <td> NaN</td>\n",
        "      <td> NaN</td>\n",
        "      <td> NaN</td>\n",
        "      <td> NaN</td>\n",
        "      <td> NaN</td>\n",
        "    </tr>\n",
        "    <tr>\n",
        "      <th>\u4e03</th>\n",
        "      <td>                        NaN</td>\n",
        "      <td> NaN</td>\n",
        "      <td> NaN</td>\n",
        "      <td> [[(0.0, 0.0), (1.0, 1.0)]]</td>\n",
        "      <td> NaN</td>\n",
        "      <td> NaN</td>\n",
        "      <td> [[(0.0, 0.0), (1.0, 1.0)]]</td>\n",
        "      <td> NaN</td>\n",
        "      <td> NaN</td>\n",
        "      <td> NaN</td>\n",
        "      <td>...</td>\n",
        "      <td> NaN</td>\n",
        "      <td> NaN</td>\n",
        "      <td> NaN</td>\n",
        "      <td> NaN</td>\n",
        "      <td> NaN</td>\n",
        "      <td> NaN</td>\n",
        "      <td> NaN</td>\n",
        "      <td> NaN</td>\n",
        "      <td> NaN</td>\n",
        "      <td> NaN</td>\n",
        "    </tr>\n",
        "    <tr>\n",
        "      <th>\u4e04</th>\n",
        "      <td>                        NaN</td>\n",
        "      <td> NaN</td>\n",
        "      <td> NaN</td>\n",
        "      <td>                        NaN</td>\n",
        "      <td> NaN</td>\n",
        "      <td> NaN</td>\n",
        "      <td>                        NaN</td>\n",
        "      <td> NaN</td>\n",
        "      <td> NaN</td>\n",
        "      <td> NaN</td>\n",
        "      <td>...</td>\n",
        "      <td> NaN</td>\n",
        "      <td> NaN</td>\n",
        "      <td> NaN</td>\n",
        "      <td> NaN</td>\n",
        "      <td> NaN</td>\n",
        "      <td> NaN</td>\n",
        "      <td> NaN</td>\n",
        "      <td> NaN</td>\n",
        "      <td> NaN</td>\n",
        "      <td> NaN</td>\n",
        "    </tr>\n",
        "  </tbody>\n",
        "</table>\n",
        "<p>5 rows \u00d7 1208 columns</p>\n",
        "</div>"
       ],
       "metadata": {},
       "output_type": "pyout",
       "prompt_number": 573,
       "text": [
        "                         0    1    2                           4    5    6     \\\n",
        "\u4e00  [[(0.0, 0.0), (1.0, 1.0)]]  NaN  NaN                         NaN  NaN  NaN   \n",
        "\u4e01                         NaN  NaN  NaN                         NaN  NaN  NaN   \n",
        "\u4e02                         NaN  NaN  NaN                         NaN  NaN  NaN   \n",
        "\u4e03                         NaN  NaN  NaN  [[(0.0, 0.0), (1.0, 1.0)]]  NaN  NaN   \n",
        "\u4e04                         NaN  NaN  NaN                         NaN  NaN  NaN   \n",
        "\n",
        "                         7    8    9    10   ...  1282 1284 1285 1286 1287  \\\n",
        "\u4e00                         NaN  NaN  NaN  NaN ...   NaN  NaN  NaN  NaN  NaN   \n",
        "\u4e01                         NaN  NaN  NaN  NaN ...   NaN  NaN  NaN  NaN  NaN   \n",
        "\u4e02                         NaN  NaN  NaN  NaN ...   NaN  NaN  NaN  NaN  NaN   \n",
        "\u4e03  [[(0.0, 0.0), (1.0, 1.0)]]  NaN  NaN  NaN ...   NaN  NaN  NaN  NaN  NaN   \n",
        "\u4e04                         NaN  NaN  NaN  NaN ...   NaN  NaN  NaN  NaN  NaN   \n",
        "\n",
        "  1288 1289 1290 1291 1292  \n",
        "\u4e00  NaN  NaN  NaN  NaN  NaN  \n",
        "\u4e01  NaN  NaN  NaN  NaN  NaN  \n",
        "\u4e02  NaN  NaN  NaN  NaN  NaN  \n",
        "\u4e03  NaN  NaN  NaN  NaN  NaN  \n",
        "\u4e04  NaN  NaN  NaN  NaN  NaN  \n",
        "\n",
        "[5 rows x 1208 columns]"
       ]
      }
     ],
     "prompt_number": 573
    },
    {
     "cell_type": "code",
     "collapsed": false,
     "input": [
      "for i in range(1293,1301):\n",
      "    del matchedList1.ix[:,i].dropna()[0][1]"
     ],
     "language": "python",
     "metadata": {},
     "outputs": [],
     "prompt_number": 613
    },
    {
     "cell_type": "code",
     "collapsed": false,
     "input": [
      "matchedList.to_csv('h:\\\\lab\\\\matchedList.csv',encoding='utf-8')"
     ],
     "language": "python",
     "metadata": {},
     "outputs": [],
     "prompt_number": 617
    },
    {
     "cell_type": "code",
     "collapsed": false,
     "input": [
      "a=[[0],[1]]\n",
      "del a[0]\n",
      "a"
     ],
     "language": "python",
     "metadata": {},
     "outputs": [
      {
       "metadata": {},
       "output_type": "pyout",
       "prompt_number": 612,
       "text": [
        "[[1]]"
       ]
      }
     ],
     "prompt_number": 612
    },
    {
     "cell_type": "code",
     "collapsed": false,
     "input": [
      "#find the square\n",
      "target = np.array([[[0,100],[100, 100]], [[100, 100],[100,0]],[[100,0],[0,0]],[[0,0],[0,100]]])\n",
      "\n",
      "for char in result.iterrows():\n",
      "    for i in char[1].Unmatched.copy():\n",
      "        checking = char[1].GlyphSegment[0][i]\n",
      "        if len(checking) == 4 and IsMatch(target,checking):\n",
      "            recordTheChange(newMatched,char,0)\n",
      "    \n",
      "for idx in range(len(singlePartSorted)):\n",
      "    target,targetHash = compareInfo(result.ix[singlePartSorted[idx]],0)\n",
      "    for char in result[result.Unmatched!=set()].iterrows():\n",
      "        newMatched = findMatchInThis(char,target,targetHash)\n",
      "        #\u4fee\u6539Matched\uff0cUnmatched\uff0crecord\n",
      "        if len(newMatched)>0:\n",
      "            char[1].Matched = char[1].Matched | newMatched\n",
      "            char[1].Unmatched = char[1].Unmatched - newMatched\n",
      "            recordTheChange(newMatched,char,idx+1)\n",
      "    if idx%10==0:\n",
      "        print(idx)"
     ],
     "language": "python",
     "metadata": {},
     "outputs": [
      {
       "output_type": "stream",
       "stream": "stdout",
       "text": [
        "0\n",
        "10"
       ]
      },
      {
       "output_type": "stream",
       "stream": "stdout",
       "text": [
        "\n",
        "20"
       ]
      },
      {
       "output_type": "stream",
       "stream": "stdout",
       "text": [
        "\n",
        "30"
       ]
      },
      {
       "output_type": "stream",
       "stream": "stdout",
       "text": [
        "\n",
        "40"
       ]
      },
      {
       "output_type": "stream",
       "stream": "stdout",
       "text": [
        "\n",
        "50"
       ]
      },
      {
       "output_type": "stream",
       "stream": "stdout",
       "text": [
        "\n",
        "60"
       ]
      },
      {
       "output_type": "stream",
       "stream": "stdout",
       "text": [
        "\n",
        "70"
       ]
      },
      {
       "output_type": "stream",
       "stream": "stdout",
       "text": [
        "\n",
        "80"
       ]
      },
      {
       "output_type": "stream",
       "stream": "stdout",
       "text": [
        "\n",
        "90"
       ]
      },
      {
       "output_type": "stream",
       "stream": "stdout",
       "text": [
        "\n",
        "100"
       ]
      },
      {
       "output_type": "stream",
       "stream": "stdout",
       "text": [
        "\n",
        "110"
       ]
      },
      {
       "output_type": "stream",
       "stream": "stdout",
       "text": [
        "\n",
        "120"
       ]
      },
      {
       "output_type": "stream",
       "stream": "stdout",
       "text": [
        "\n",
        "130"
       ]
      },
      {
       "output_type": "stream",
       "stream": "stdout",
       "text": [
        "\n",
        "140"
       ]
      },
      {
       "output_type": "stream",
       "stream": "stdout",
       "text": [
        "\n",
        "150"
       ]
      },
      {
       "output_type": "stream",
       "stream": "stdout",
       "text": [
        "\n",
        "160"
       ]
      },
      {
       "output_type": "stream",
       "stream": "stdout",
       "text": [
        "\n"
       ]
      }
     ],
     "prompt_number": 555
    },
    {
     "cell_type": "code",
     "collapsed": false,
     "input": [
      "idx = 0\n",
      "checklist = result[result.Unmatched!=set()]\n",
      "for charTarget in checklist.iterrows():\n",
      "    for i in charTarget[1].Unmatched.copy():\n",
      "        target,targetHash = compareInfo(charTarget[1],i)\n",
      "\n",
      "        for char in checklist.iterrows():\n",
      "            newMatched = findMatchInThis(char,target,targetHash)\n",
      "            #\u4fee\u6539Matched\uff0cUnmatched\uff0crecord\n",
      "            if len(newMatched)>0:\n",
      "                char[1].Matched = char[1].Matched | newMatched\n",
      "                char[1].Unmatched = char[1].Unmatched - newMatched\n",
      "                recordTheChange(newMatched,char,idx+200)\n",
      "                \n",
      "        idx+=1\n",
      "        if idx%200==0:\n",
      "            print(idx,idx*1.0/len(checklist))"
     ],
     "language": "python",
     "metadata": {},
     "outputs": [
      {
       "output_type": "stream",
       "stream": "stdout",
       "text": [
        "200 0.009573500550476281\n",
        "400"
       ]
      },
      {
       "output_type": "stream",
       "stream": "stdout",
       "text": [
        " 0.019147001100952563\n",
        "600"
       ]
      },
      {
       "output_type": "stream",
       "stream": "stdout",
       "text": [
        " 0.028720501651428844\n",
        "800"
       ]
      },
      {
       "output_type": "stream",
       "stream": "stdout",
       "text": [
        " 0.038294002201905125\n",
        "1000"
       ]
      },
      {
       "output_type": "stream",
       "stream": "stdout",
       "text": [
        " 0.047867502752381406\n"
       ]
      }
     ],
     "prompt_number": 556
    },
    {
     "cell_type": "code",
     "collapsed": false,
     "input": [
      "# result[result.IDS.str.contains('\u53e3')]\n",
      "count1 = count2 = 0\n",
      "for char in result.iterrows():\n",
      "    count1 += len(char[1].ScaleGlyph[0])\n",
      "for char in result.iterrows():\n",
      "    count2 += len(char[1].Matched)\n",
      "count1,count2"
     ],
     "language": "python",
     "metadata": {},
     "outputs": [
      {
       "metadata": {},
       "output_type": "pyout",
       "prompt_number": 557,
       "text": [
        "(148979, 148971)"
       ]
      }
     ],
     "prompt_number": 557
    },
    {
     "cell_type": "code",
     "collapsed": false,
     "input": [
      "result[result.Unmatched!=set()]"
     ],
     "language": "python",
     "metadata": {},
     "outputs": [
      {
       "html": [
        "<div style=\"max-height:1000px;max-width:1500px;overflow:auto;\">\n",
        "<table border=\"1\" class=\"dataframe\">\n",
        "  <thead>\n",
        "    <tr style=\"text-align: right;\">\n",
        "      <th></th>\n",
        "      <th>Unicode</th>\n",
        "      <th>ScaleGlyph</th>\n",
        "      <th>IDS</th>\n",
        "      <th>blocks</th>\n",
        "      <th>GlyphSegment</th>\n",
        "      <th>Matched</th>\n",
        "      <th>Unmatched</th>\n",
        "      <th>Hash</th>\n",
        "    </tr>\n",
        "    <tr>\n",
        "      <th>Character</th>\n",
        "      <th></th>\n",
        "      <th></th>\n",
        "      <th></th>\n",
        "      <th></th>\n",
        "      <th></th>\n",
        "      <th></th>\n",
        "      <th></th>\n",
        "      <th></th>\n",
        "    </tr>\n",
        "  </thead>\n",
        "  <tbody>\n",
        "    <tr>\n",
        "      <th>\u4e1b</th>\n",
        "      <td> u4E1B</td>\n",
        "      <td> [[[(0.4599332220367279, 1.0, 1), (0.5525876460...</td>\n",
        "      <td>          \u2ff1\u2ff0\u4eba\u4eba\u4e00</td>\n",
        "      <td>          [\u4eba, \u4eba, \u4e00]</td>\n",
        "      <td> [[[[[ 46 100]\\n [ 55 100]], [[ 55 100]\\n [ 55 ...</td>\n",
        "      <td>                          set([0, 2])</td>\n",
        "      <td> set([1])</td>\n",
        "      <td>                          [(6, 6), (9, 8), (3, 3)]</td>\n",
        "    </tr>\n",
        "    <tr>\n",
        "      <th>\u4e76</th>\n",
        "      <td> u4E76</td>\n",
        "      <td> [[[(0.0, 0.7293790546802595, 1), (0.0, 0.81093...</td>\n",
        "      <td>            \u2ff1\u752b\u4e59</td>\n",
        "      <td>             [\u752b, \u4e59]</td>\n",
        "      <td> [[[[[ 0 73]\\n [ 0 81]], [[ 0 81]\\n [47 81]], [...</td>\n",
        "      <td>                 set([0, 2, 3, 4, 5])</td>\n",
        "      <td> set([1])</td>\n",
        "      <td> [(13, 12), (11, 13), (3, 3), (3, 3), (3, 3), (...</td>\n",
        "    </tr>\n",
        "    <tr>\n",
        "      <th>\u4e78</th>\n",
        "      <td> u4E78</td>\n",
        "      <td> [[[(0.09025641025641026, 0.18779342723004694, ...</td>\n",
        "      <td>            \u2ffa\u4e5f\u6bcd</td>\n",
        "      <td>             [\u4e5f, \u6bcd]</td>\n",
        "      <td> [[[[[ 9 19]\\n [12 57]], [[12 57]\\n [ 0 57]], [...</td>\n",
        "      <td>                 set([0, 2, 3, 4, 5])</td>\n",
        "      <td> set([1])</td>\n",
        "      <td> [(13, 11), (13, 16), (3, 3), (3, 3), (4, 3), (...</td>\n",
        "    </tr>\n",
        "    <tr>\n",
        "      <th>\u95dc</th>\n",
        "      <td> u95DC</td>\n",
        "      <td> [[[(0.4858115777525539, 0.47444444444444445, 1...</td>\n",
        "      <td>   \u2ff5\u9580&amp;CDP-8BD8;</td>\n",
        "      <td>    [&amp;CDP-8BD8;, \u9580]</td>\n",
        "      <td> [[[[[49 47]\\n [57 50]], [[57 50]\\n [75 36]], [...</td>\n",
        "      <td>           set([0, 2, 3, 4, 5, 6, 7])</td>\n",
        "      <td> set([1])</td>\n",
        "      <td> [(21, 14), (17, 12), (11, 11), (9, 9), (3, 3),...</td>\n",
        "    </tr>\n",
        "    <tr>\n",
        "      <th>\u990b</th>\n",
        "      <td> u990B</td>\n",
        "      <td> [[[(0.812989921612542, 0.3200636942675159, 1),...</td>\n",
        "      <td> \u2ff1&amp;CDP-8BFA;\u2ff1\u4ebd\u826e</td>\n",
        "      <td> [&amp;CDP-8BFA;, \u4ebd, \u826e]</td>\n",
        "      <td> [[[[[81 32]\\n [23 32]], [[23 32]\\n [23 10]], [...</td>\n",
        "      <td>           set([0, 1, 2, 3, 4, 6, 7])</td>\n",
        "      <td> set([5])</td>\n",
        "      <td> [(9, 7), (16, 14), (6, 8), (3, 3), (3, 3), (6,...</td>\n",
        "    </tr>\n",
        "    <tr>\n",
        "      <th>\u9b16</th>\n",
        "      <td> u9B16</td>\n",
        "      <td> [[[(0.08853850818677987, 1.0, 1), (0.561552456...</td>\n",
        "      <td>  \u2ff1\u9adf\u2ff1&amp;M-03088;\u5f61</td>\n",
        "      <td>  [&amp;M-03088;, \u9adf, \u5f61]</td>\n",
        "      <td> [[[[[  9 100]\\n [ 56 100]], [[ 56 100]\\n [ 56 ...</td>\n",
        "      <td>        set([0, 2, 3, 4, 5, 6, 7, 8])</td>\n",
        "      <td> set([1])</td>\n",
        "      <td> [(19, 10), (17, 19), (5, 5), (5, 5), (5, 5), (...</td>\n",
        "    </tr>\n",
        "    <tr>\n",
        "      <th>\u9e04</th>\n",
        "      <td> u9E04</td>\n",
        "      <td> [[[(0.08043478260869565, 0.7659574468085106, 1...</td>\n",
        "      <td> \u2ff1\u2ff0&amp;CDP-8CE0;\u6535\u9ce5</td>\n",
        "      <td> [&amp;CDP-8CE0;, \u6535, \u9ce5]</td>\n",
        "      <td> [[[[[ 8 77]\\n [ 8 94]], [[ 8 94]\\n [21 94]], [...</td>\n",
        "      <td> set([0, 1, 2, 3, 5, 6, 7, 8, 9, 10])</td>\n",
        "      <td> set([4])</td>\n",
        "      <td> [(25, 19), (16, 11), (3, 3), (3, 3), (4, 5), (...</td>\n",
        "    </tr>\n",
        "    <tr>\n",
        "      <th>\u9e7b</th>\n",
        "      <td> u9E7B</td>\n",
        "      <td> [[[(0.41239316239316237, 0.05532574974146846, ...</td>\n",
        "      <td> \u2ff0\u9e75\u2ff1\u4491&amp;CDP-8CDE;</td>\n",
        "      <td> [&amp;CDP-8CDE;, \u9e75, \u4491]</td>\n",
        "      <td> [[[[[41  6]\\n [39  8]], [[39  8]\\n [ 5  8]], [...</td>\n",
        "      <td>     set([0, 2, 3, 4, 5, 6, 7, 8, 9])</td>\n",
        "      <td> set([1])</td>\n",
        "      <td> [(31, 31), (10, 8), (12, 10), (3, 3), (3, 3), ...</td>\n",
        "    </tr>\n",
        "  </tbody>\n",
        "</table>\n",
        "</div>"
       ],
       "metadata": {},
       "output_type": "pyout",
       "prompt_number": 577,
       "text": [
        "          Unicode                                         ScaleGlyph  \\\n",
        "Character                                                              \n",
        "\u4e1b           u4E1B  [[[(0.4599332220367279, 1.0, 1), (0.5525876460...   \n",
        "\u4e76           u4E76  [[[(0.0, 0.7293790546802595, 1), (0.0, 0.81093...   \n",
        "\u4e78           u4E78  [[[(0.09025641025641026, 0.18779342723004694, ...   \n",
        "\u95dc           u95DC  [[[(0.4858115777525539, 0.47444444444444445, 1...   \n",
        "\u990b           u990B  [[[(0.812989921612542, 0.3200636942675159, 1),...   \n",
        "\u9b16           u9B16  [[[(0.08853850818677987, 1.0, 1), (0.561552456...   \n",
        "\u9e04           u9E04  [[[(0.08043478260869565, 0.7659574468085106, 1...   \n",
        "\u9e7b           u9E7B  [[[(0.41239316239316237, 0.05532574974146846, ...   \n",
        "\n",
        "                      IDS              blocks  \\\n",
        "Character                                       \n",
        "\u4e1b                   \u2ff1\u2ff0\u4eba\u4eba\u4e00           [\u4eba, \u4eba, \u4e00]   \n",
        "\u4e76                     \u2ff1\u752b\u4e59              [\u752b, \u4e59]   \n",
        "\u4e78                     \u2ffa\u4e5f\u6bcd              [\u4e5f, \u6bcd]   \n",
        "\u95dc            \u2ff5\u9580&CDP-8BD8;     [&CDP-8BD8;, \u9580]   \n",
        "\u990b          \u2ff1&CDP-8BFA;\u2ff1\u4ebd\u826e  [&CDP-8BFA;, \u4ebd, \u826e]   \n",
        "\u9b16           \u2ff1\u9adf\u2ff1&M-03088;\u5f61   [&M-03088;, \u9adf, \u5f61]   \n",
        "\u9e04          \u2ff1\u2ff0&CDP-8CE0;\u6535\u9ce5  [&CDP-8CE0;, \u6535, \u9ce5]   \n",
        "\u9e7b          \u2ff0\u9e75\u2ff1\u4491&CDP-8CDE;  [&CDP-8CDE;, \u9e75, \u4491]   \n",
        "\n",
        "                                                GlyphSegment  \\\n",
        "Character                                                      \n",
        "\u4e1b          [[[[[ 46 100]\\n [ 55 100]], [[ 55 100]\\n [ 55 ...   \n",
        "\u4e76          [[[[[ 0 73]\\n [ 0 81]], [[ 0 81]\\n [47 81]], [...   \n",
        "\u4e78          [[[[[ 9 19]\\n [12 57]], [[12 57]\\n [ 0 57]], [...   \n",
        "\u95dc          [[[[[49 47]\\n [57 50]], [[57 50]\\n [75 36]], [...   \n",
        "\u990b          [[[[[81 32]\\n [23 32]], [[23 32]\\n [23 10]], [...   \n",
        "\u9b16          [[[[[  9 100]\\n [ 56 100]], [[ 56 100]\\n [ 56 ...   \n",
        "\u9e04          [[[[[ 8 77]\\n [ 8 94]], [[ 8 94]\\n [21 94]], [...   \n",
        "\u9e7b          [[[[[41  6]\\n [39  8]], [[39  8]\\n [ 5  8]], [...   \n",
        "\n",
        "                                        Matched Unmatched  \\\n",
        "Character                                                   \n",
        "\u4e1b                                   set([0, 2])  set([1])   \n",
        "\u4e76                          set([0, 2, 3, 4, 5])  set([1])   \n",
        "\u4e78                          set([0, 2, 3, 4, 5])  set([1])   \n",
        "\u95dc                    set([0, 2, 3, 4, 5, 6, 7])  set([1])   \n",
        "\u990b                    set([0, 1, 2, 3, 4, 6, 7])  set([5])   \n",
        "\u9b16                 set([0, 2, 3, 4, 5, 6, 7, 8])  set([1])   \n",
        "\u9e04          set([0, 1, 2, 3, 5, 6, 7, 8, 9, 10])  set([4])   \n",
        "\u9e7b              set([0, 2, 3, 4, 5, 6, 7, 8, 9])  set([1])   \n",
        "\n",
        "                                                        Hash  \n",
        "Character                                                     \n",
        "\u4e1b                                   [(6, 6), (9, 8), (3, 3)]  \n",
        "\u4e76          [(13, 12), (11, 13), (3, 3), (3, 3), (3, 3), (...  \n",
        "\u4e78          [(13, 11), (13, 16), (3, 3), (3, 3), (4, 3), (...  \n",
        "\u95dc          [(21, 14), (17, 12), (11, 11), (9, 9), (3, 3),...  \n",
        "\u990b          [(9, 7), (16, 14), (6, 8), (3, 3), (3, 3), (6,...  \n",
        "\u9b16          [(19, 10), (17, 19), (5, 5), (5, 5), (5, 5), (...  \n",
        "\u9e04          [(25, 19), (16, 11), (3, 3), (3, 3), (4, 5), (...  \n",
        "\u9e7b          [(31, 31), (10, 8), (12, 10), (3, 3), (3, 3), ...  "
       ]
      }
     ],
     "prompt_number": 577
    },
    {
     "cell_type": "code",
     "collapsed": false,
     "input": [
      "from collections import Counter\n",
      "\n",
      "c=Counter()\n",
      "for char in result.iterrows():\n",
      "    c.update(char[1]['blocks'])\n",
      "len(c)\n",
      "\n",
      "singlePart = []\n",
      "singlePartSorted = []\n",
      "for i in c:\n",
      "    try:\n",
      "        if len(result.ix[i].ScaleGlyph[0]) == 1:\n",
      "            singlePart.append(i)\n",
      "    except:\n",
      "        pass\n",
      "for k,v in c.most_common(2000):\n",
      "    if k in singlePart:\n",
      "        singlePartSorted.append(k)"
     ],
     "language": "python",
     "metadata": {},
     "outputs": [],
     "prompt_number": 8
    },
    {
     "cell_type": "code",
     "collapsed": false,
     "input": [
      "import sqlite3\n",
      "import xlrd\n",
      "import re\n",
      "%pylab inline\n",
      "import pandas as pd\n",
      "\n",
      "conn = sqlite3.connect('h:\\\\lab\\\\hanzi.db')\n",
      "conn.text_factory = str\n",
      "c = conn.cursor()\n",
      "\n",
      "# re = pd.read_sql_query('SELECT Unicode,Character,ScaleGlyph FROM hanzi', conn, index_col='Character')\n",
      "result = pd.read_sql_query('SELECT Unicode,Character,ScaleGlyph,IDS1st,IDS2nd,IDS3rd FROM new', conn, index_col='Character')\n",
      "\n",
      "for char in result.iterrows():\n",
      "    if char[1]['IDS3rd']!=None:\n",
      "        char[1]['IDS1st'] = char[1]['IDS3rd']\n",
      "    elif char[1]['IDS2nd']!=None:\n",
      "        char[1]['IDS1st'] = char[1]['IDS2nd']\n",
      "# result = result.set_index('Character')\n",
      "result.columns = [u'Unicode', u'ScaleGlyph', u'IDS', u'blocks', u'IDS3rd']\n",
      "del result['IDS3rd']\n",
      "\n",
      "for char in result.iterrows():\n",
      "    char[1].ScaleGlyph = eval(char[1].ScaleGlyph)\n",
      "    \n",
      "for char in result.iterrows():\n",
      "    ids = char[1].IDS\n",
      "    CDPcodes = re.findall(r\"(&.*?;)\",ids)\n",
      "    withoutPosition = re.sub(r\"[\u2ff0\u2ff1\u2ff2\u2ff3\u2ff4\u2ff5\u2ff6\u2ff7\u2ff8\u2ff9\u2ffa\u2ffb]?\",'',re.sub(r\"(&.*?;)\",'',ids))\n",
      "    everyPart = CDPcodes[:] + [i for i in withoutPosition]\n",
      "    char[1].blocks = everyPart\n",
      "    \n",
      "result['GlyphSegment'] = result.ScaleGlyph.copy()\n",
      "for char in result.iterrows():\n",
      "    GlyphSegment = []\n",
      "    ScaleGlyph = char[1].ScaleGlyph\n",
      "    for i in range(len(ScaleGlyph[0])):\n",
      "        segments = toSegments([[int(round(p[0]*100)),int(round(p[1]*100))] for p in simplify(ScaleGlyph[0][i])])\n",
      "        GlyphSegment.append(np.array(list(segments)))\n",
      "    char[1].GlyphSegment = [GlyphSegment,ScaleGlyph[1]]\n",
      "result['Matched'] = None\n",
      "result['Unmatched'] = None\n",
      "\n",
      "lengthThreshold = 100\n",
      "zeroThreshold = 0.05\n",
      "result['Hash'] = None\n",
      "\n",
      "for char in result.iterrows():\n",
      "    char[1]['Hash'] = []\n",
      "    for Glyph in char[1]['GlyphSegment'][0]:\n",
      "        t=np.array([i[0]-i[1] for i in Glyph])\n",
      "        longEnough=t[t[:,0]**2+t[:,1]**2>lengthThreshold]\n",
      "        char[1]['Hash'].append((count_nonzero(longEnough[:,1]/(longEnough[:,0]+0.01)**2<zeroThreshold),count_nonzero(longEnough[:,0]/(longEnough[:,1]+0.01)**2<zeroThreshold))) "
     ],
     "language": "python",
     "metadata": {},
     "outputs": [
      {
       "output_type": "stream",
       "stream": "stdout",
       "text": [
        "Populating the interactive namespace from numpy and matplotlib\n"
       ]
      },
      {
       "output_type": "stream",
       "stream": "stderr",
       "text": [
        "WARNING: pylab import has clobbered these variables: ['test', 'draw', 'record', 'char']\n",
        "`%matplotlib` prevents importing * from pylab and numpy\n"
       ]
      }
     ],
     "prompt_number": 405
    },
    {
     "cell_type": "code",
     "collapsed": false,
     "input": [
      "result['\u4e02'.IDS.str.contains('\u4e02')]    \n",
      "\n",
      "matched = []\n",
      "for (ind1,outline1) in enumerate(char1):\n",
      "    for (ind2,outline2) in enumerate(char2):\n",
      "        sample1 = simplify(outline1)\n",
      "        sample2 = simplify(outline2)\n",
      "        segments1 = toSegments(sample1)\n",
      "        segments2 = toSegments(sample2)\n",
      "        s1=np.array(list(segments1))\n",
      "        s2=np.array(list(segments2))\n",
      "        couple1 = []\n",
      "        for (i,p1) in enumerate(s1):\n",
      "            distances = [sum((p1[0]-p2[0])**2+(p1[1]-p2[1])**2) for p2 in s2]\n",
      "            sort = sorted(enumerate(distances), key=lambda d: d[1])\n",
      "            if sort[0][1]*1.0/sort[1][1]<0.6:\n",
      "                couple1.append([i,sort[0][0]])\n",
      "        couple2 = []\n",
      "        for (i,p1) in enumerate(s1):\n",
      "            distances = [sum((p1[0]-p2[0])**2+(p1[1]-p2[1])**2) for p2 in s2]\n",
      "            sort = sorted(enumerate(distances), key=lambda d: d[1])\n",
      "            if sort[0][1]*1.0/sort[1][1]<0.6:\n",
      "                couple2.append([i,sort[0][0]])\n",
      "\n",
      "        if len(couple1)*1.0/len(segments1)>0.8 and len(couple2)*1.0/len(segments2)>0.8:\n",
      "            matched.append([ind1,ind2])\n",
      "            draw(char1[ind1],'r')\n",
      "            draw(char2[ind2],'b')\n",
      "#             for c in couple:\n",
      "#                 draw([(np.array(sample1[c[0]])+np.array(sample1[c[0]+1]))/2.0,(np.array(sample1[c[1]])+np.array(sample1[c[1]+1]))/2.0],'g')\n",
      "\n",
      "matched"
     ],
     "language": "python",
     "metadata": {},
     "outputs": [
      {
       "metadata": {},
       "output_type": "pyout",
       "prompt_number": 63,
       "text": [
        "[[0, 1], [2, 3], [2, 4], [2, 5], [2, 6]]"
       ]
      },
      {
       "metadata": {},
       "output_type": "display_data",
       "png": "[encoded data removed]",
       "text": [
        "<matplotlib.figure.Figure at 0x85020f0>"
       ]
      }
     ],
     "prompt_number": 63
    },
    {
     "cell_type": "code",
     "collapsed": false,
     "input": [
      "for idx in range(len(singlePartSorted)):\n",
      "    target,targetHash=targetInfo(result.ix[singlePartSorted[idx]],0)\n",
      "    \n",
      "    for char in result.iterrows():\n",
      "        Segment = char[1].GlyphSegment\n",
      "        checkingHash = char[1]['hash']\n",
      "        for i in char[1].Unmatched:\n",
      "            checking = Segment[0][i]\n",
      "            if len(target)*0.8 < len(checking) < len(target)*1.25 and -5<targetHash[0]-checkingHash[i][0]<5 and -5<targetHash[1]-checkingHash[i][1]<5 and IsMatch(target,checking):\n",
      "                char[1].Matched.append(i)\n",
      "                record[char[0]].append((idx+1,Segment[1][i]))\n",
      "        char[1].Unmatched = allSegment[char[0]]-set(char[1].Matched)\n",
      "    print(idx,)"
     ],
     "language": "python",
     "metadata": {},
     "outputs": []
    }
   ],
   "metadata": {}
  }
 ]
}