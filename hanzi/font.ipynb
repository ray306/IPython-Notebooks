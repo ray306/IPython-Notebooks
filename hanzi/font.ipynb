{
 "metadata": {
  "name": "",
  "signature": "sha256:a6cf1fdf2d96c2c3c99c5e86713d4eb2ef27bf932910b2e040886d872541f541"
 },
 "nbformat": 3,
 "nbformat_minor": 0,
 "worksheets": [
  {
   "cells": [
    {
     "cell_type": "code",
     "collapsed": false,
     "input": [
      "%pylab inline\n",
      "import freetype\n",
      "face = freetype.Face(\"\u65b9\u6b63\u5170\u4ead\u8d85\u7ec6\u9ed1\u7b80\u4f53.TTF\")\n",
      "face.set_char_size( 48*64 )\n",
      "face.load_char('S')\n",
      "bitmap = face.glyph.bitmap"
     ],
     "language": "python",
     "metadata": {},
     "outputs": [
      {
       "output_type": "stream",
       "stream": "stdout",
       "text": [
        "Populating the interactive namespace from numpy and matplotlib\n"
       ]
      }
     ],
     "prompt_number": 11
    },
    {
     "cell_type": "code",
     "collapsed": false,
     "input": [
      "from freetype import *\n",
      "import freetype\n",
      "%pylab inline\n",
      "\n",
      "face = Face('\u65b9\u6b63\u5170\u4ead\u8d85\u7ec6\u9ed1\u7b80\u4f53.TTF')\n",
      "matrix = freetype.Matrix(\n",
      "10000, 2000,10000, 12000)\n",
      " \n",
      "cur_pen = freetype.Vector()\n",
      "pen_translate = freetype.Vector()\n",
      "face.set_transform(matrix, pen_translate)\n",
      "            \n",
      "            \n",
      "face.set_char_size( 4*48*64 )\n",
      "flags = FT_LOAD_DEFAULT | FT_LOAD_NO_BITMAP\n",
      "face.load_char('\u5417', flags )\n",
      "slot = face.glyph\n",
      "glyph = slot.get_glyph()\n",
      "stroker = Stroker( )\n",
      "stroker.set(64, FT_STROKER_LINECAP_ROUND, FT_STROKER_LINEJOIN_ROUND, 0 )\n",
      "glyph.stroke( stroker )\n",
      "blyph = glyph.to_bitmap(FT_RENDER_MODE_NORMAL, Vector(0,0))\n",
      "bitmap = blyph.bitmap\n",
      "width, rows, pitch = bitmap.width, bitmap.rows, bitmap.pitch\n",
      "top, left = blyph.top, blyph.left\n",
      "data = []\n",
      "for i in range(rows):\n",
      "    data.extend(bitmap.buffer[i*pitch:i*pitch+width])\n",
      "Z = numpy.array(data,dtype=numpy.ubyte).reshape(rows, width)\n",
      "plt.figure(figsize=(6,8))\n",
      "plt.imshow(Z, interpolation='nearest', cmap=plt.cm.gray_r, origin='lower')\n",
      "plt.show()"
     ],
     "language": "python",
     "metadata": {},
     "outputs": [
      {
       "output_type": "stream",
       "stream": "stdout",
       "text": [
        "Populating the interactive namespace from numpy and matplotlib\n"
       ]
      },
      {
       "output_type": "stream",
       "stream": "stderr",
       "text": [
        "WARNING: pylab import has clobbered these variables: ['cast', 'resize']\n",
        "`%matplotlib` prevents importing * from pylab and numpy\n"
       ]
      },
      {
       "metadata": {},
       "output_type": "display_data",
       "png": "[encoded data removed]",
       "text": [
        "<matplotlib.figure.Figure at 0x7e8f278>"
       ]
      }
     ],
     "prompt_number": 26
    },
    {
     "cell_type": "code",
     "collapsed": false,
     "input": [
      "glyph.to_bitmap()"
     ],
     "language": "python",
     "metadata": {},
     "outputs": [
      {
       "ename": "TypeError",
       "evalue": "to_bitmap() missing 2 required positional arguments: 'mode' and 'origin'",
       "output_type": "pyerr",
       "traceback": [
        "\u001b[1;31m---------------------------------------------------------------------------\u001b[0m\n\u001b[1;31mTypeError\u001b[0m                                 Traceback (most recent call last)",
        "\u001b[1;32m<ipython-input-30-e2bd2e6c04d5>\u001b[0m in \u001b[0;36m<module>\u001b[1;34m()\u001b[0m\n\u001b[1;32m----> 1\u001b[1;33m \u001b[0mglyph\u001b[0m\u001b[1;33m.\u001b[0m\u001b[0mto_bitmap\u001b[0m\u001b[1;33m(\u001b[0m\u001b[1;33m)\u001b[0m\u001b[1;33m\u001b[0m\u001b[0m\n\u001b[0m",
        "\u001b[1;31mTypeError\u001b[0m: to_bitmap() missing 2 required positional arguments: 'mode' and 'origin'"
       ]
      }
     ],
     "prompt_number": 30
    },
    {
     "cell_type": "code",
     "collapsed": false,
     "input": [
      "from freetype import *\n",
      "face = Face('\u65b9\u6b63\u5170\u4ead\u8d85\u7ec6\u9ed1\u7b80\u4f53.TTF')\n",
      "face.set_char_size( 4*48*64 )\n",
      "flags = FT_LOAD_DEFAULT | FT_LOAD_NO_BITMAP\n",
      "face.load_char('\u4eba', flags )\n",
      "slot = face.glyph\n",
      "glyph = slot.get_glyph()\n",
      "print(slot.outline.tags)\n",
      "print(slot.outline.points)\n",
      "print(slot.outline.contours)\n",
      "print(slot.outline.flags)\n",
      "print(slot.outline.get_bbox().xMax,slot.outline.get_bbox().xMin)\n",
      "print(slot.get_glyph().format)"
     ],
     "language": "python",
     "metadata": {},
     "outputs": [
      {
       "output_type": "stream",
       "stream": "stdout",
       "text": [
        "[45, 1, 9, 9, 0, 1, 1, 0, 1, 0, 1, 1, 0, 1]\n",
        "[(6024, 9840), (6264, 9840), (6264, 8256), (6264, 8016), (6264, 2880), (11736, -768), (11592, -960), (6696, 2304), (6168, 6576), (5832, 2352), (696, -1008), (600, -816), (6360, 2976), (6024, 8256)]\n",
        "[13]\n",
        "0\n",
        "11736 600\n",
        "1869968492\n"
       ]
      }
     ],
     "prompt_number": 13
    },
    {
     "cell_type": "code",
     "collapsed": false,
     "input": [
      "slot.outline.points=[(6024, 9840), (6264, 9840), (6264, 8256), (6264, 8016), (6264, 2880), (11736, -768), (11592, -960), (6696, 2304), (6168, 6576), (5832, 2352), (696, -1008), (600, -816), (6360, 2976), (6024, 8256)]"
     ],
     "language": "python",
     "metadata": {},
     "outputs": [
      {
       "ename": "AttributeError",
       "evalue": "can't set attribute",
       "output_type": "pyerr",
       "traceback": [
        "\u001b[1;31m---------------------------------------------------------------------------\u001b[0m\n\u001b[1;31mAttributeError\u001b[0m                            Traceback (most recent call last)",
        "\u001b[1;32m<ipython-input-17-e842cde63ee1>\u001b[0m in \u001b[0;36m<module>\u001b[1;34m()\u001b[0m\n\u001b[1;32m----> 1\u001b[1;33m \u001b[0mslot\u001b[0m\u001b[1;33m.\u001b[0m\u001b[0moutline\u001b[0m\u001b[1;33m.\u001b[0m\u001b[0mpoints\u001b[0m\u001b[1;33m=\u001b[0m\u001b[1;33m[\u001b[0m\u001b[1;33m(\u001b[0m\u001b[1;36m6024\u001b[0m\u001b[1;33m,\u001b[0m \u001b[1;36m9840\u001b[0m\u001b[1;33m)\u001b[0m\u001b[1;33m,\u001b[0m \u001b[1;33m(\u001b[0m\u001b[1;36m6264\u001b[0m\u001b[1;33m,\u001b[0m \u001b[1;36m9840\u001b[0m\u001b[1;33m)\u001b[0m\u001b[1;33m,\u001b[0m \u001b[1;33m(\u001b[0m\u001b[1;36m6264\u001b[0m\u001b[1;33m,\u001b[0m \u001b[1;36m8256\u001b[0m\u001b[1;33m)\u001b[0m\u001b[1;33m,\u001b[0m \u001b[1;33m(\u001b[0m\u001b[1;36m6264\u001b[0m\u001b[1;33m,\u001b[0m \u001b[1;36m8016\u001b[0m\u001b[1;33m)\u001b[0m\u001b[1;33m,\u001b[0m \u001b[1;33m(\u001b[0m\u001b[1;36m6264\u001b[0m\u001b[1;33m,\u001b[0m \u001b[1;36m2880\u001b[0m\u001b[1;33m)\u001b[0m\u001b[1;33m,\u001b[0m \u001b[1;33m(\u001b[0m\u001b[1;36m11736\u001b[0m\u001b[1;33m,\u001b[0m \u001b[1;33m-\u001b[0m\u001b[1;36m768\u001b[0m\u001b[1;33m)\u001b[0m\u001b[1;33m,\u001b[0m \u001b[1;33m(\u001b[0m\u001b[1;36m11592\u001b[0m\u001b[1;33m,\u001b[0m \u001b[1;33m-\u001b[0m\u001b[1;36m960\u001b[0m\u001b[1;33m)\u001b[0m\u001b[1;33m,\u001b[0m \u001b[1;33m(\u001b[0m\u001b[1;36m6696\u001b[0m\u001b[1;33m,\u001b[0m \u001b[1;36m2304\u001b[0m\u001b[1;33m)\u001b[0m\u001b[1;33m,\u001b[0m \u001b[1;33m(\u001b[0m\u001b[1;36m6168\u001b[0m\u001b[1;33m,\u001b[0m \u001b[1;36m6576\u001b[0m\u001b[1;33m)\u001b[0m\u001b[1;33m,\u001b[0m \u001b[1;33m(\u001b[0m\u001b[1;36m5832\u001b[0m\u001b[1;33m,\u001b[0m \u001b[1;36m2352\u001b[0m\u001b[1;33m)\u001b[0m\u001b[1;33m,\u001b[0m \u001b[1;33m(\u001b[0m\u001b[1;36m696\u001b[0m\u001b[1;33m,\u001b[0m \u001b[1;33m-\u001b[0m\u001b[1;36m1008\u001b[0m\u001b[1;33m)\u001b[0m\u001b[1;33m,\u001b[0m \u001b[1;33m(\u001b[0m\u001b[1;36m600\u001b[0m\u001b[1;33m,\u001b[0m \u001b[1;33m-\u001b[0m\u001b[1;36m816\u001b[0m\u001b[1;33m)\u001b[0m\u001b[1;33m,\u001b[0m \u001b[1;33m(\u001b[0m\u001b[1;36m6360\u001b[0m\u001b[1;33m,\u001b[0m \u001b[1;36m2976\u001b[0m\u001b[1;33m)\u001b[0m\u001b[1;33m,\u001b[0m \u001b[1;33m(\u001b[0m\u001b[1;36m6024\u001b[0m\u001b[1;33m,\u001b[0m \u001b[1;36m8256\u001b[0m\u001b[1;33m)\u001b[0m\u001b[1;33m]\u001b[0m\u001b[1;33m\u001b[0m\u001b[0m\n\u001b[0m",
        "\u001b[1;31mAttributeError\u001b[0m: can't set attribute"
       ]
      }
     ],
     "prompt_number": 17
    }
   ],
   "metadata": {}
  }
 ]
}