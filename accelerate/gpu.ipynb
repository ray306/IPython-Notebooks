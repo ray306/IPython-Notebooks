{
 "metadata": {
  "name": "",
  "signature": "sha256:e6d6aa2b19a49f23915a1e7e66f913832a8d223215a91120de6dd4e2e3e00c49"
 },
 "nbformat": 3,
 "nbformat_minor": 0,
 "worksheets": [
  {
   "cells": [
    {
     "cell_type": "code",
     "collapsed": false,
     "input": [
      "import numpy as np\n",
      "from numbapro import jit, int32, float32\n",
      "N=10000000\n",
      "@jit()\n",
      "def Add(a, b):\n",
      "  return a + b\n",
      "\n",
      "# Initialize arrays\n",
      "A = np.ones(N, dtype=np.float32)\n",
      "B = np.ones(A.shape, dtype=A.dtype)\n",
      "C = np.empty_like(A, dtype=A.dtype)\n",
      "\n",
      "# Add arrays on GPU\n",
      "%timeit Add(A, B)"
     ],
     "language": "python",
     "metadata": {},
     "outputs": [
      {
       "output_type": "stream",
       "stream": "stdout",
       "text": [
        "10 loops, best of 3: 23.2 ms per loop\n"
       ]
      }
     ],
     "prompt_number": 14
    },
    {
     "cell_type": "code",
     "collapsed": false,
     "input": [
      "def Add(a, b):\n",
      "  return a + b\n",
      "\n",
      "%timeit Add(A, B)"
     ],
     "language": "python",
     "metadata": {},
     "outputs": []
    }
   ],
   "metadata": {}
  }
 ]
}