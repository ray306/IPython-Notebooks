{
 "metadata": {
  "name": "",
  "signature": "sha256:fcc5c538db4907faec83dd2033454e542d94a9e7a755669dab0fff49c7f9e6b1"
 },
 "nbformat": 3,
 "nbformat_minor": 0,
 "worksheets": [
  {
   "cells": [
    {
     "cell_type": "code",
     "collapsed": false,
     "input": [
      "from IPython import parallel\n",
      "c = parallel.Client()\n",
      "view = c[:]\n",
      "x = np.arange(1, 10)\n",
      "squared = view.map_async(lambda x:x**3, x)\n",
      "squared.get()"
     ],
     "language": "python",
     "metadata": {},
     "outputs": [
      {
       "metadata": {},
       "output_type": "pyout",
       "prompt_number": 19,
       "text": [
        "[1, 8, 27, 64, 125, 216, 343, 512, 729]"
       ]
      }
     ],
     "prompt_number": 19
    }
   ],
   "metadata": {}
  }
 ]
}