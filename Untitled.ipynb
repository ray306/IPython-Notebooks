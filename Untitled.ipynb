{
 "cells": [
  {
   "cell_type": "code",
   "execution_count": 11,
   "metadata": {
    "collapsed": false
   },
   "outputs": [
    {
     "name": "stdout",
     "output_type": "stream",
     "text": [
      "Ane Taiken Shuukan | The Older Sister Experience for a Week Ch. 1 » nhentai: hentai doujinshi and manga\n",
      "http://i.nhentai.net/galleries/824852/1.png\n",
      "http://i.nhentai.net/galleries/824852/2.png\n",
      "http://i.nhentai.net/galleries/824852/3.png\n",
      "http://i.nhentai.net/galleries/824852/4.png\n",
      "http://i.nhentai.net/galleries/824852/5.png\n",
      "http://i.nhentai.net/galleries/824852/6.png\n",
      "http://i.nhentai.net/galleries/824852/7.png\n",
      "http://i.nhentai.net/galleries/824852/8.png\n",
      "http://i.nhentai.net/galleries/824852/9.png\n",
      "http://i.nhentai.net/galleries/824852/10.png\n",
      "http://i.nhentai.net/galleries/824852/11.png\n",
      "http://i.nhentai.net/galleries/824852/12.png\n",
      "http://i.nhentai.net/galleries/824852/13.png\n",
      "http://i.nhentai.net/galleries/824852/14.png\n",
      "http://i.nhentai.net/galleries/824852/15.png\n",
      "http://i.nhentai.net/galleries/824852/16.png\n",
      "http://i.nhentai.net/galleries/824852/17.png\n",
      "http://i.nhentai.net/galleries/824852/18.png\n",
      "http://i.nhentai.net/galleries/824852/19.png\n",
      "http://i.nhentai.net/galleries/824852/20.png\n",
      "http://i.nhentai.net/galleries/824852/21.png\n"
     ]
    }
   ],
   "source": [
    "#coding:utf-8\n",
    "\n",
    "from bs4 import BeautifulSoup\n",
    "import requests\n",
    "import re\n",
    "import io\n",
    "import os\n",
    "\n",
    "content=[]\n",
    "\n",
    "def getPicUrls(url):\n",
    "    r = requests.get(url)\n",
    "    html = BeautifulSoup(r.text)\n",
    "    name = html.title.find(text=True)\n",
    "    print(name)\n",
    "    thumblist = html.findAll(\"a\",{ \"class\" : \"gallerythumb\" })\n",
    "    \n",
    "    pageUrls = ['http:'+item.find(\"img\")['src'].replace('t.','.') for item in thumblist]\n",
    "    return pageUrls,name\n",
    "\n",
    "def getPic(urls,name):\n",
    "    name = re.sub(r\"[\\/\\\\\\:\\*\\?\\\"\\<\\>\\|]\", \"\", name)\n",
    "    count=1\n",
    "    if not os.path.exists(name):\n",
    "        os.mkdir(name)\n",
    "    for url in urls:\n",
    "        print(url)\n",
    "        r = requests.get(url)\n",
    "        with open(name+'\\\\'+str('%03d'%(count)) + \".jpg\", \"wb\") as code:\n",
    "            code.write(r.content)\n",
    "            count=count+1\n",
    "\n",
    "url = 'http://nhentai.net/g/136840/' \n",
    "# r = requests.get(url)\n",
    "# html = BeautifulSoup(r.text)\n",
    "# name = html.title.find(text=True)\n",
    "# print(name)\n",
    "# thumblist = html.findAll(\"a\",{ \"class\" : \"gallerythumb\" })\n",
    "# pageUrls = ['http:'+item.find(\"img\")['src'].replace('.jpg','t.jpg') for item in thumblist]\n",
    "# print( pageUrls)\n",
    "picUrls,name = getPicUrls(url)\n",
    "getPic(picUrls,name)"
   ]
  },
  {
   "cell_type": "code",
   "execution_count": 4,
   "metadata": {
    "collapsed": false
   },
   "outputs": [
    {
     "name": "stdout",
     "output_type": "stream",
     "text": [
      "Ane Taiken Shuukan | The Older Sister Experience for a Week Ch. 1 » nhentai: hentai doujinshi and manga\n",
      "['http://i.nhentai.net/galleries/824852/1.png', 'http://i.nhentai.net/galleries/824852/2.png', 'http://i.nhentai.net/galleries/824852/3.png', 'http://i.nhentai.net/galleries/824852/4.png', 'http://i.nhentai.net/galleries/824852/5.png', 'http://i.nhentai.net/galleries/824852/6.png', 'http://i.nhentai.net/galleries/824852/7.png', 'http://i.nhentai.net/galleries/824852/8.png', 'http://i.nhentai.net/galleries/824852/9.png', 'http://i.nhentai.net/galleries/824852/10.png', 'http://i.nhentai.net/galleries/824852/11.png', 'http://i.nhentai.net/galleries/824852/12.png', 'http://i.nhentai.net/galleries/824852/13.png', 'http://i.nhentai.net/galleries/824852/14.png', 'http://i.nhentai.net/galleries/824852/15.png', 'http://i.nhentai.net/galleries/824852/16.png', 'http://i.nhentai.net/galleries/824852/17.png', 'http://i.nhentai.net/galleries/824852/18.png', 'http://i.nhentai.net/galleries/824852/19.png', 'http://i.nhentai.net/galleries/824852/20.png', 'http://i.nhentai.net/galleries/824852/21.png']\n"
     ]
    },
    {
     "ename": "NameError",
     "evalue": "name 'picUrls' is not defined",
     "output_type": "error",
     "traceback": [
      "\u001b[1;31m---------------------------------------------------------------------------\u001b[0m",
      "\u001b[1;31mNameError\u001b[0m                                 Traceback (most recent call last)",
      "\u001b[1;32m<ipython-input-4-423fb6fd97ec>\u001b[0m in \u001b[0;36m<module>\u001b[1;34m()\u001b[0m\n\u001b[0;32m     34\u001b[0m \u001b[0murl\u001b[0m \u001b[1;33m=\u001b[0m \u001b[1;34m'http://nhentai.net/g/136840/'\u001b[0m\u001b[1;33m\u001b[0m\u001b[0m\n\u001b[0;32m     35\u001b[0m \u001b[1;33m\u001b[0m\u001b[0m\n\u001b[1;32m---> 36\u001b[1;33m \u001b[0mpicUrls\u001b[0m\u001b[1;33m,\u001b[0m\u001b[0mname\u001b[0m \u001b[1;33m=\u001b[0m \u001b[0mgetPicUrls\u001b[0m\u001b[1;33m(\u001b[0m\u001b[0murl\u001b[0m\u001b[1;33m)\u001b[0m\u001b[1;33m\u001b[0m\u001b[0m\n\u001b[0m\u001b[0;32m     37\u001b[0m \u001b[0mgetPic\u001b[0m\u001b[1;33m(\u001b[0m\u001b[0mpicUrls\u001b[0m\u001b[1;33m,\u001b[0m\u001b[0mname\u001b[0m\u001b[1;33m)\u001b[0m\u001b[1;33m\u001b[0m\u001b[0m\n",
      "\u001b[1;32m<ipython-input-4-423fb6fd97ec>\u001b[0m in \u001b[0;36mgetPicUrls\u001b[1;34m(url)\u001b[0m\n\u001b[0;32m     18\u001b[0m     \u001b[0mpageUrls\u001b[0m \u001b[1;33m=\u001b[0m \u001b[1;33m[\u001b[0m\u001b[1;34m'http:'\u001b[0m\u001b[1;33m+\u001b[0m\u001b[0mitem\u001b[0m\u001b[1;33m.\u001b[0m\u001b[0mfind\u001b[0m\u001b[1;33m(\u001b[0m\u001b[1;34m\"img\"\u001b[0m\u001b[1;33m)\u001b[0m\u001b[1;33m[\u001b[0m\u001b[1;34m'src'\u001b[0m\u001b[1;33m]\u001b[0m\u001b[1;33m.\u001b[0m\u001b[0mreplace\u001b[0m\u001b[1;33m(\u001b[0m\u001b[1;34m't.'\u001b[0m\u001b[1;33m,\u001b[0m\u001b[1;34m'.'\u001b[0m\u001b[1;33m)\u001b[0m \u001b[1;32mfor\u001b[0m \u001b[0mitem\u001b[0m \u001b[1;32min\u001b[0m \u001b[0mthumblist\u001b[0m\u001b[1;33m]\u001b[0m\u001b[1;33m\u001b[0m\u001b[0m\n\u001b[0;32m     19\u001b[0m     \u001b[0mprint\u001b[0m\u001b[1;33m(\u001b[0m\u001b[0mpageUrls\u001b[0m\u001b[1;33m)\u001b[0m\u001b[1;33m\u001b[0m\u001b[0m\n\u001b[1;32m---> 20\u001b[1;33m     \u001b[1;32mreturn\u001b[0m \u001b[0mpicUrls\u001b[0m\u001b[1;33m,\u001b[0m\u001b[0mname\u001b[0m\u001b[1;33m\u001b[0m\u001b[0m\n\u001b[0m\u001b[0;32m     21\u001b[0m \u001b[1;33m\u001b[0m\u001b[0m\n\u001b[0;32m     22\u001b[0m \u001b[1;32mdef\u001b[0m \u001b[0mgetPic\u001b[0m\u001b[1;33m(\u001b[0m\u001b[0murls\u001b[0m\u001b[1;33m,\u001b[0m\u001b[0mname\u001b[0m\u001b[1;33m)\u001b[0m\u001b[1;33m:\u001b[0m\u001b[1;33m\u001b[0m\u001b[0m\n",
      "\u001b[1;31mNameError\u001b[0m: name 'picUrls' is not defined"
     ]
    }
   ],
   "source": [
    "#coding:utf-8\n",
    "\n",
    "from bs4 import BeautifulSoup\n",
    "import requests\n",
    "import re\n",
    "import io\n",
    "import os\n",
    "\n",
    "content=[]\n",
    "\n",
    "def getPicUrls(url):\n",
    "    r = requests.get(url)\n",
    "    html = BeautifulSoup(r.text)\n",
    "    name = html.title.find(text=True)\n",
    "    print(name)\n",
    "    thumblist = html.findAll(\"a\",{ \"class\" : \"gallerythumb\" })\n",
    "\n",
    "    pageUrls = ['http:'+item.find(\"img\")['src'].replace('t.','.') for item in thumblist]\n",
    "    print(pageUrls)\n",
    "    return pageUrls,name\n",
    "\n",
    "def getPic(urls,name):\n",
    "    name = re.sub(r\"[\\/\\\\\\:\\*\\?\\\"\\<\\>\\|]\", \"\", name)\n",
    "    count=1\n",
    "    if not os.path.exists(name):\n",
    "        os.mkdir(name)\n",
    "    for url in urls:\n",
    "        print(url)\n",
    "        r = requests.get(url)\n",
    "        with open(name+'\\\\'+str('%03d'%(count)) + \".jpg\", \"wb\") as code:\n",
    "            code.write(r.content)\n",
    "            count=count+1\n",
    "\n",
    "url = 'http://nhentai.net/g/136840/' \n",
    "\n",
    "picUrls,name = getPicUrls(url)\n",
    "getPic(picUrls,name)"
   ]
  }
 ],
 "metadata": {
  "kernelspec": {
   "display_name": "Python 3",
   "language": "python",
   "name": "python3"
  },
  "language_info": {
   "codemirror_mode": {
    "name": "ipython",
    "version": 3
   },
   "file_extension": ".py",
   "mimetype": "text/x-python",
   "name": "python",
   "nbconvert_exporter": "python",
   "pygments_lexer": "ipython3",
   "version": "3.4.1"
  }
 },
 "nbformat": 4,
 "nbformat_minor": 0
}
