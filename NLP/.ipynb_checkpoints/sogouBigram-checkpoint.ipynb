{
 "cells": [
  {
   "cell_type": "code",
   "execution_count": 2,
   "metadata": {
    "collapsed": true
   },
   "outputs": [],
   "source": [
    "path = 'D:\\\\nlp\\\\zh\\\\SogouR.txt'\n",
    "bigram1 = []\n",
    "bigram2 = []\n",
    "with open(path) as f:\n",
    "    for line in f:\n",
    "        t = line.split('\\t')\n",
    "        if len(t[0])==5:\n",
    "            bigram1.append((t[0],int(t[1])))\n",
    "        else:\n",
    "            bigram2.append((t[0],int(t[1])))\n",
    "\n",
    "bigram1 = dict(bigram1)"
   ]
  },
  {
   "cell_type": "code",
   "execution_count": 31,
   "metadata": {
    "collapsed": false
   },
   "outputs": [],
   "source": [
    "#按google表来过滤sogou表(google表的异常搭配少,sogou表有freq信息)\n",
    "result = []\n",
    "setG = set(gBigram[0].tolist())\n",
    "for ind,i in bigram.iterrows():\n",
    "    if (i[0]+i[1]) in setG:\n",
    "        result.append([i[0],i[1],i[2]])\n",
    "\n",
    "bigram4 = pd.DataFrame(result)\n",
    "bigram4.columns=['w1','w2','n']\n",
    "bigram4 = bigram4.sort(columns='n')\n",
    "bigram4.to_csv('D:\\\\nlp\\\\zh\\\\SogouR_filtered5.csv')"
   ]
  },
  {
   "cell_type": "code",
   "execution_count": 38,
   "metadata": {
    "collapsed": false
   },
   "outputs": [],
   "source": []
  },
  {
   "cell_type": "code",
   "execution_count": null,
   "metadata": {
    "collapsed": true
   },
   "outputs": [],
   "source": [
    "import re\n",
    "# 保留XX-XX的组合\n",
    "count=0\n",
    "for i in bigram2:\n",
    "    try:\n",
    "        inkey = re.search(r'.{2}-.{2}',i[0]).group(0)\n",
    "        bigram1[inkey] += i[1]\n",
    "        count+=1\n",
    "    except:\n",
    "        pass\n",
    "    \n",
    "bigram3 = [i for i in bigram1.items() if i[1]>10] # 保留freq>10的\n",
    "\n",
    "with open('D:\\\\nlp\\\\zh\\\\SogouR_filtered.txt','w+') as f:\n",
    "    for i in bigram3:\n",
    "        f.write(i[0]+str([1])+'\\n')"
   ]
  },
  {
   "cell_type": "code",
   "execution_count": 2,
   "metadata": {
    "collapsed": false
   },
   "outputs": [],
   "source": [
    "import pandas as pd\n",
    "path = 'D:\\\\nlp\\\\zh\\\\SogouR_filtered.txt'\n",
    "#打开搜狗的bigram表(已filter)\n",
    "bigram = pd.read_csv(path,header=None,sep='-',encoding='gbk')"
   ]
  },
  {
   "cell_type": "code",
   "execution_count": 13,
   "metadata": {
    "collapsed": false
   },
   "outputs": [],
   "source": [
    "path2 = 'D:\\\\nlp\\\\zh\\\\SogouLabDic11.dic'\n",
    "#打开搜狗的词表(eg. 中国 727787725 N,ADJ,)\n",
    "word_att = pd.read_csv(path2,header=None,sep='\\t')\n",
    "\n",
    "#找所有到词性含有Noun的词\n",
    "noun = word_att[(1-pd.isnull(word_att[2])) & (word_att[2].str.contains(r'^N,'))]\n",
    "#找所有到双字词, 并转成set\n",
    "word_available = set(noun[noun[0].str.len()==2][0].tolist())"
   ]
  },
  {
   "cell_type": "code",
   "execution_count": null,
   "metadata": {
    "collapsed": false
   },
   "outputs": [],
   "source": [
    "# 找到所有成分都是名词的组合\n",
    "result = []\n",
    "for idx,i in  bigram.iterrows():\n",
    "    if i[0] in word_available and i[1] in word_available:\n",
    "        result.append(i)\n",
    "        \n",
    "bigram2 = pd.DataFrame(result)\n",
    "bigram2.columns=['w1','w2','n']\n",
    "bigram3 = bigram2.sort(columns='n')"
   ]
  },
  {
   "cell_type": "code",
   "execution_count": 80,
   "metadata": {
    "collapsed": false
   },
   "outputs": [
    {
     "data": {
      "text/html": [
       "<div style=\"max-height:1000px;max-width:1500px;overflow:auto;\">\n",
       "<table border=\"1\" class=\"dataframe\">\n",
       "  <thead>\n",
       "    <tr style=\"text-align: right;\">\n",
       "      <th></th>\n",
       "      <th>0</th>\n",
       "      <th>1</th>\n",
       "      <th>2</th>\n",
       "    </tr>\n",
       "  </thead>\n",
       "  <tbody>\n",
       "    <tr>\n",
       "      <th>3070982</th>\n",
       "      <td> 营业</td>\n",
       "      <td> 时间</td>\n",
       "      <td> 128</td>\n",
       "    </tr>\n",
       "  </tbody>\n",
       "</table>\n",
       "</div>"
      ],
      "text/plain": [
       "          0   1    2\n",
       "3070982  营业  时间  128"
      ]
     },
     "execution_count": 80,
     "metadata": {},
     "output_type": "execute_result"
    }
   ],
   "source": [
    "bigram[(bigram[0]=='营业') & (bigram[1]=='时间')]"
   ]
  },
  {
   "cell_type": "code",
   "execution_count": 20,
   "metadata": {
    "collapsed": false
   },
   "outputs": [],
   "source": [
    "gBigram = pd.read_csv('D:\\\\nlp\\\\zh\\\\googleBigram_filtered.txt',header=None,encoding='gbk')"
   ]
  },
  {
   "cell_type": "code",
   "execution_count": 108,
   "metadata": {
    "collapsed": false
   },
   "outputs": [
    {
     "data": {
      "text/plain": [
       "0.38643040885476687"
      ]
     },
     "execution_count": 108,
     "metadata": {},
     "output_type": "execute_result"
    }
   ],
   "source": [
    "len(bigram3[bigram3.n>50])/len(bigram3)"
   ]
  }
 ],
 "metadata": {
  "kernelspec": {
   "display_name": "Python 3",
   "language": "python",
   "name": "python3"
  },
  "language_info": {
   "codemirror_mode": {
    "name": "ipython",
    "version": 3
   },
   "file_extension": ".py",
   "mimetype": "text/x-python",
   "name": "python",
   "nbconvert_exporter": "python",
   "pygments_lexer": "ipython3",
   "version": "3.4.1"
  }
 },
 "nbformat": 4,
 "nbformat_minor": 0
}
