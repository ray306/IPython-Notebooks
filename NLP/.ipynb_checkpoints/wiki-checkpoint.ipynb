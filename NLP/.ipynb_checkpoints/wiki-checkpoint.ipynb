{
 "cells": [
  {
   "cell_type": "code",
   "execution_count": null,
   "metadata": {
    "collapsed": true
   },
   "outputs": [],
   "source": [
    "from gensim import corpora, models, similarities\n",
    "from collections import Counter\n",
    "import os\n",
    "\n",
    "path = 'D:\\\\nlp\\\\zh\\\\zhwiki-20141204-pages-articles.xml'\n",
    "with open(path,encoding='utf-8') as f:\n",
    "    for i in range(1000):\n",
    "        print(f.readline())\n"
   ]
  },
  {
   "cell_type": "code",
   "execution_count": 1,
   "metadata": {
    "collapsed": false
   },
   "outputs": [
    {
     "name": "stderr",
     "output_type": "stream",
     "text": [
      "Vendor:  Continuum Analytics, Inc.\n",
      "Package: mkl\n",
      "Message: trial mode expires in 12 days\n",
      "Vendor:  Continuum Analytics, Inc.\n",
      "Package: mkl\n",
      "Message: trial mode expires in 12 days\n"
     ]
    }
   ],
   "source": [
    "import os\n",
    "from gensim import corpora, models, similarities\n",
    "from collections import Counter\n",
    "import pickle\n",
    "\n",
    "path = 'F:\\\\nlp\\\\zh\\\\wiki\\\\'\n",
    "\n",
    "with open(path+'segmented_filtered(Sentences)_test.txt') as f:\n",
    "    texts = [l[:-1].split(' ') for l in f]\n",
    "\n",
    "dictionary = corpora.Dictionary(texts)\n",
    "# dictionary.save(path+'wiki.dict') # store the dictionary, for future reference.\n",
    "\n",
    "corpus = [([dictionary.token2id[w] for w in sent]) for sent in texts]\n",
    "# corpora.MmCorpus.serialize(path+'corpus.mm', corpus)"
   ]
  },
  {
   "cell_type": "code",
   "execution_count": null,
   "metadata": {
    "collapsed": true
   },
   "outputs": [],
   "source": [
    "corpus = [([dictionary.token2id[w] for w in sent]) for sent in texts]"
   ]
  },
  {
   "cell_type": "code",
   "execution_count": 10,
   "metadata": {
    "collapsed": true
   },
   "outputs": [],
   "source": [
    "all_tokens = [word for text in texts for word in text]\n",
    "fd = Counter(all_tokens)\n",
    "tokens_once = set(word for word in fd if fd[word] == 1)\n",
    "tokens_2 = set(word for word in fd if fd[word] <3)"
   ]
  },
  {
   "cell_type": "code",
   "execution_count": 11,
   "metadata": {
    "collapsed": false
   },
   "outputs": [
    {
     "data": {
      "text/plain": [
       "(105787, 49067, 65738)"
      ]
     },
     "execution_count": 11,
     "metadata": {},
     "output_type": "execute_result"
    }
   ],
   "source": [
    "len(fd),len(tokens_once),len(tokens_2)\n"
   ]
  },
  {
   "cell_type": "code",
   "execution_count": 2,
   "metadata": {
    "collapsed": false
   },
   "outputs": [],
   "source": [
    "def DictInit(keys,value):\n",
    "    Dict = {}\n",
    "    for k in keys:\n",
    "        t = Counter()\n",
    "        Dict[k] = t\n",
    "    return Dict\n",
    "\n",
    "cooccur_CFD = DictInit(range(len(dictionary)),Counter())\n",
    "\n",
    "for sent in corpus:\n",
    "    for (index,token) in enumerate(sent):\n",
    "        window = sent[index:index+6]         ## 前后5个单词,窗口\n",
    "        cooccur_CFD[token].update(window)"
   ]
  },
  {
   "cell_type": "code",
   "execution_count": null,
   "metadata": {
    "collapsed": true
   },
   "outputs": [],
   "source": []
  },
  {
   "cell_type": "code",
   "execution_count": 5,
   "metadata": {
    "collapsed": false
   },
   "outputs": [
    {
     "ename": "MemoryError",
     "evalue": "",
     "output_type": "error",
     "traceback": [
      "\u001b[1;31m---------------------------------------------------------------------------\u001b[0m",
      "\u001b[1;31mMemoryError\u001b[0m                               Traceback (most recent call last)",
      "\u001b[1;32m<ipython-input-5-7d5895e3341a>\u001b[0m in \u001b[0;36m<module>\u001b[1;34m()\u001b[0m\n\u001b[0;32m      1\u001b[0m \u001b[1;32mimport\u001b[0m \u001b[0mnumpy\u001b[0m \u001b[1;32mas\u001b[0m \u001b[0mnp\u001b[0m\u001b[1;33m\u001b[0m\u001b[0m\n\u001b[0;32m      2\u001b[0m \u001b[0mcount\u001b[0m \u001b[1;33m=\u001b[0m \u001b[0mlen\u001b[0m\u001b[1;33m(\u001b[0m\u001b[0mdictionary\u001b[0m\u001b[1;33m)\u001b[0m\u001b[1;33m\u001b[0m\u001b[0m\n\u001b[1;32m----> 3\u001b[1;33m \u001b[0mcooccur\u001b[0m \u001b[1;33m=\u001b[0m \u001b[0mnp\u001b[0m\u001b[1;33m.\u001b[0m\u001b[0mzeros\u001b[0m\u001b[1;33m(\u001b[0m\u001b[1;33m(\u001b[0m\u001b[0mcount\u001b[0m\u001b[1;33m,\u001b[0m\u001b[0mcount\u001b[0m\u001b[1;33m)\u001b[0m\u001b[1;33m,\u001b[0m \u001b[0mdtype\u001b[0m\u001b[1;33m=\u001b[0m\u001b[0mnp\u001b[0m\u001b[1;33m.\u001b[0m\u001b[0muint32\u001b[0m\u001b[1;33m)\u001b[0m\u001b[1;33m\u001b[0m\u001b[0m\n\u001b[0m\u001b[0;32m      4\u001b[0m \u001b[1;33m\u001b[0m\u001b[0m\n\u001b[0;32m      5\u001b[0m \u001b[1;32mfor\u001b[0m \u001b[0mw1\u001b[0m\u001b[1;33m,\u001b[0m\u001b[0mco_words\u001b[0m \u001b[1;32min\u001b[0m \u001b[0mcooccur_CFD\u001b[0m\u001b[1;33m.\u001b[0m\u001b[0mitems\u001b[0m\u001b[1;33m(\u001b[0m\u001b[1;33m)\u001b[0m\u001b[1;33m:\u001b[0m\u001b[1;33m\u001b[0m\u001b[0m\n",
      "\u001b[1;31mMemoryError\u001b[0m: "
     ]
    }
   ],
   "source": [
    "import numpy as np\n",
    "count = len(dictionary)\n",
    "cooccur = np.zeros((count,count), dtype=np.uint32)\n",
    "\n",
    "for w1,co_words in cooccur_CFD.items():\n",
    "    for w2,count in co_words.items():\n",
    "        cooccur[w1,w2] += count\n",
    "        cooccur[w2,w1] += count\n",
    "        \n",
    "del cooccur_CFD"
   ]
  },
  {
   "cell_type": "code",
   "execution_count": 60,
   "metadata": {
    "collapsed": false
   },
   "outputs": [
    {
     "name": "stdout",
     "output_type": "stream",
     "text": [
      "The slowest run took 10.66 times longer than the fastest. This could mean that an intermediate result is being cached \n",
      "1000000 loops, best of 3: 283 ns per loop\n",
      "The slowest run took 25.73 times longer than the fastest. This could mean that an intermediate result is being cached \n",
      "1000000 loops, best of 3: 375 ns per loop\n",
      "The slowest run took 104.06 times longer than the fastest. This could mean that an intermediate result is being cached \n",
      "100000 loops, best of 3: 2.34 µs per loop\n"
     ]
    }
   ],
   "source": [
    "\n",
    "a = np.zeros((4000,4000))\n",
    "b = np.matrix(a)\n",
    "\n",
    "%timeit cooccur_CFD[0][0]\n",
    "%timeit a[2000][2000]\n",
    "%timeit b[2000,2000]"
   ]
  },
  {
   "cell_type": "code",
   "execution_count": null,
   "metadata": {
    "collapsed": true
   },
   "outputs": [],
   "source": [
    "\n",
    "\n",
    "\n",
    "frequency = []\n",
    "dict_w2n = dict()\n",
    "dict_n2w = []\n",
    "\n",
    "freq = Counter(tokens_all)\n",
    "idx = 0\n",
    "for i in freq.most_common(1000000000):\n",
    "    word = i[0]\n",
    "    count = i[1]\n",
    "    dict_n2w.append(word)\n",
    "    dict_w2n[word] = idx\n",
    "    idx+=1\n",
    "    frequency.append(count) \n",
    "\n",
    "#remove the words appear only one time\n",
    "tokens_once = set(word for word in freq if freq[word] == 1)\n",
    "tokens_cleaned = set(word for word in freq if freq[word] > 1)\n",
    "texts_cleaned = [[word for word in text if word not in tokens_once]\n",
    "         for text in texts_raw]\n",
    "\n",
    "# transform words to numbers\n",
    "texts_cleaned_transformed = [[dict_w2n[w] for w in text]\n",
    "         for text in texts_cleaned]\n",
    "\n",
    "# get th dictionary\n",
    "dict_cleaned = set(word for word in freq if freq[word] > 1)"
   ]
  }
 ],
 "metadata": {
  "kernelspec": {
   "display_name": "Python 3",
   "language": "python",
   "name": "python3"
  },
  "language_info": {
   "codemirror_mode": {
    "name": "ipython",
    "version": 3
   },
   "file_extension": ".py",
   "mimetype": "text/x-python",
   "name": "python",
   "nbconvert_exporter": "python",
   "pygments_lexer": "ipython3",
   "version": "3.4.3"
  }
 },
 "nbformat": 4,
 "nbformat_minor": 0
}
