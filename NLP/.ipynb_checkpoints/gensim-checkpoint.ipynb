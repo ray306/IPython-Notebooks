{
 "cells": [
  {
   "cell_type": "code",
   "execution_count": 36,
   "metadata": {
    "collapsed": false
   },
   "outputs": [],
   "source": [
    "from gensim import corpora, models, similarities\n",
    "from collections import Counter\n",
    "import os\n",
    "from nltk.corpus import stopwords\n",
    "\n",
    "path = 'D:\\\\nlp\\\\en\\\\COCA\\\\COCA_sample_lineartext\\\\'\n",
    "documents = []\n",
    "for filename in os.listdir(path+'result\\\\'):\n",
    "    with open(path+'result\\\\'+filename) as f:\n",
    "        documents.append(f.read())\n",
    "\n",
    "# remove common words and tokenize\n",
    "stopwords = set(stopwords.raw('english').split()) ## 获取英文停用词表\n",
    "texts = [[word for word in document.split() if word not in stopwords]\n",
    "         for document in documents]\n",
    "\n",
    "# remove words that appear only once\n",
    "\n",
    "all_tokens = [word for text in texts for word in text]\n",
    "fd = Counter(all_tokens)\n",
    "tokens_once = set(word for word in fd if fd[word] == 1)\n",
    "texts = [[word for word in text if word not in tokens_once]\n",
    "         for text in texts]\n",
    "dictionary = corpora.Dictionary(texts)"
   ]
  },
  {
   "cell_type": "code",
   "execution_count": 29,
   "metadata": {
    "collapsed": false
   },
   "outputs": [
    {
     "name": "stdout",
     "output_type": "stream",
     "text": [
      "[(2745, 1), (2764, 1), (10008, 1)]\n"
     ]
    }
   ],
   "source": [
    "new_doc = \"word spell wrong\"\n",
    "new_vec = dictionary.doc2bow(new_doc.lower().split())\n",
    "print(new_vec)"
   ]
  },
  {
   "cell_type": "code",
   "execution_count": 37,
   "metadata": {
    "collapsed": false
   },
   "outputs": [],
   "source": [
    "corpus = [dictionary.doc2bow(text) for text in texts]\n",
    "tfidf = models.TfidfModel(corpus)\n",
    "corpus_tfidf = tfidf[corpus]\n",
    "lsi = models.LsiModel(corpus_tfidf, id2word=dictionary, num_topics=100) # initialize an LSI transformation\n",
    "corpus_lsi = lsi[corpus_tfidf] # create a double wrapper over the original corpus: bow->tfidf->fold-in-lsi"
   ]
  },
  {
   "cell_type": "code",
   "execution_count": 46,
   "metadata": {
    "collapsed": false
   },
   "outputs": [
    {
     "data": {
      "text/plain": [
       "[u'0.001*jude + 0.001*narrator + 0.001*dorian + 0.001*familial + 0.001*nacoste + 0.000*homogeneity + 0.000*procedural + 0.000*ali + 0.000*preferential + 0.000*annie',\n",
       " u'0.001*parcells + 0.001*telomere + 0.001*gorman + 0.001*gametophyte + 0.001*golota + 0.001*mack + 0.001*belichick + 0.001*telomerase + 0.000*nagano + 0.000*postcolonial',\n",
       " u\"0.001*shuttle + 0.001*mr-franken + 0.001*col-o'connor + 0.001*flatow + 0.001*simon + 0.000*zwerdling + 0.000*schorr + 0.000*dickey + 0.000*olive + 0.000*kinoy\"]"
      ]
     },
     "execution_count": 46,
     "metadata": {},
     "output_type": "execute_result"
    }
   ],
   "source": [
    "npasses = 50\n",
    "ntopics = 50\n",
    "lsi = models.LdaModel(corpus_tfidf, id2word=dictionary, passes=npasses, num_topics=ntopics, distributed=False) # initialize an LSI transformation\n",
    "corpus_lsi = lsi[corpus_tfidf] # create a double wrapper over the original corpus: bow->tfidf->fold-in-lsi\n",
    "lsi.print_topics(3)"
   ]
  },
  {
   "cell_type": "code",
   "execution_count": 1,
   "metadata": {
    "collapsed": false
   },
   "outputs": [
    {
     "name": "stderr",
     "output_type": "stream",
     "text": [
      "Vendor:  Continuum Analytics, Inc.\n",
      "Package: mkl\n",
      "Message: trial mode expires tomorrow\n",
      "\n",
      "    After the trial mode is expired, mkl will stop working.  If you want to\n",
      "    use mkl thereafter, please purchase a license at http://continuum.io\n",
      "    \n",
      "Vendor:  Continuum Analytics, Inc.\n",
      "Package: mkl\n",
      "Message: trial mode expires tomorrow\n",
      "\n",
      "    After the trial mode is expired, mkl will stop working.  If you want to\n",
      "    use mkl thereafter, please purchase a license at http://continuum.io\n",
      "    \n"
     ]
    }
   ],
   "source": [
    ">>> from gensim import corpora, models, similarities\n",
    ">>>\n",
    ">>> documents = [\"Human machine interface for lab abc computer applications\",\n",
    ">>>              \"A survey of user opinion of computer system response time\",\n",
    ">>>              \"The EPS user interface management system\",\n",
    ">>>              \"System and human system engineering testing of EPS\",\n",
    ">>>              \"Relation of user perceived response time to error measurement\",\n",
    ">>>              \"The generation of random binary unordered trees\",\n",
    ">>>              \"The intersection graph of paths in trees\",\n",
    ">>>              \"Graph minors IV Widths of trees and well quasi ordering\",\n",
    ">>>              \"Graph minors A survey\"]"
   ]
  },
  {
   "cell_type": "code",
   "execution_count": 2,
   "metadata": {
    "collapsed": false
   },
   "outputs": [
    {
     "name": "stderr",
     "output_type": "stream",
     "text": [
      "Vendor:  Continuum Analytics, Inc.\n",
      "Package: mkl\n",
      "Message: trial mode expires tomorrow\n",
      "\n",
      "    After the trial mode is expired, mkl will stop working.  If you want to\n",
      "    use mkl thereafter, please purchase a license at http://continuum.io\n",
      "    \n",
      "Vendor:  Continuum Analytics, Inc.\n",
      "Package: mkl\n",
      "Message: trial mode expires tomorrow\n",
      "\n",
      "    After the trial mode is expired, mkl will stop working.  If you want to\n",
      "    use mkl thereafter, please purchase a license at http://continuum.io\n",
      "    \n"
     ]
    },
    {
     "data": {
      "text/plain": [
       "[('1', '2'), ('2', '3'), ('3', '1')]"
      ]
     },
     "execution_count": 2,
     "metadata": {},
     "output_type": "execute_result"
    }
   ],
   "source": [
    "\n",
    ">>> import nltk\n",
    ">>> from nltk.collocations import *\n",
    ">>> bigram_measures = nltk.collocations.BigramAssocMeasures()\n",
    ">>> trigram_measures = nltk.collocations.TrigramAssocMeasures()\n",
    ">>> finder = BigramCollocationFinder.from_words('123123123')\n",
    ">>> finder.nbest(bigram_measures.pmi, 10)  "
   ]
  },
  {
   "cell_type": "code",
   "execution_count": 9,
   "metadata": {
    "collapsed": false
   },
   "outputs": [
    {
     "name": "stdout",
     "output_type": "stream",
     "text": [
      "100 loops, best of 3: 4.06 ms per loop\n",
      "100 loops, best of 3: 3.99 ms per loop\n",
      "100 loops, best of 3: 12.1 ms per loop\n"
     ]
    }
   ],
   "source": [
    "a=[i for i in range(1000)]\n",
    "b=[str(i) for i in a]\n",
    "c=' '.join(b)\n",
    "%timeit finder = BigramCollocationFinder.from_words(a)\n",
    "%timeit finder = BigramCollocationFinder.from_words(b)\n",
    "%timeit finder = BigramCollocationFinder.from_words(c)"
   ]
  }
 ],
 "metadata": {
  "kernelspec": {
   "display_name": "Python 3",
   "language": "python",
   "name": "python3"
  },
  "language_info": {
   "codemirror_mode": {
    "name": "ipython",
    "version": 3
   },
   "file_extension": ".py",
   "mimetype": "text/x-python",
   "name": "python",
   "nbconvert_exporter": "python",
   "pygments_lexer": "ipython3",
   "version": "3.4.3"
  }
 },
 "nbformat": 4,
 "nbformat_minor": 0
}
