{
 "metadata": {
  "name": "",
  "signature": "sha256:a301cde6bb8423ee11229fecc7476f1d75f2c7749a1e4734db160c17ddd85598"
 },
 "nbformat": 3,
 "nbformat_minor": 0,
 "worksheets": [
  {
   "cells": [
    {
     "cell_type": "code",
     "collapsed": false,
     "input": [
      "import pandas as pd\n",
      "import re\n",
      "import math\n",
      "path1 = 'D:\\HowNet_Chinese_WordList.txt'\n",
      "path2 = 'D:\\Doc\\\\research\\word\\ch\\corpus\\movie_srt\\\\Big Srt_PoS.txt'\n",
      "result={}\n",
      "result2={}\n",
      "result3={}\n",
      "wordlist = Counter()\n",
      "\n",
      "#\u5220\u53bb\u6240\u6709\u503c\u4e3a\u7a7a\u96c6\u5408\u7684\u5143\u7d20\uff0c\u8fd4\u56de\u4e00\u4e2a\u65b0\u96c6\u5408\n",
      "def deNull(dic):\n",
      "    return dict((i,dic[i])  for i in dic  if len(dic[i]>0))\n",
      "#\u8f7d\u5165\u591a\u4e49\u5b57\u8868      \n",
      "with open(path1,encoding='utf-8') as f:\n",
      "    checklist = set(l.split(' ')[0] for l in f)\n",
      "#init\u4e00\u4e2a\u5b57\u5178\uff0c\u4f9b\u5b58\u653e\u521d\u59cb\u7edf\u8ba1\u6570\u636e\n",
      "for char in checklist:\n",
      "    result[char] = Counter()\n",
      "#\u5206\u6790\u8bed\u6599\u5e93\n",
      "with open(path2,encoding='utf-8') as f:\n",
      "    for line in f:\n",
      "        #\u5c06\u975e\u6c49\u5b57\u7684\u90e8\u5206\u6362\u4e3a\u4e00\u4e2a\u7a7a\u683c\uff0c\u518d\u4ee5\u7a7a\u683c\u5206\u9694\uff0c\u751f\u6210\u8be5\u53e5\u7684\u8bcd\u888b\n",
      "        words = re.sub(r'([^(\\u4e00-\\u9fa5)]+)',' ',line).split(' ')\n",
      "        #\u627e\u51fa\u6240\u6709\u4e0a\u8ff0\u8bcd\u888b\u4e0e\u591a\u4e49\u5b57\u8868\u91cd\u5408\u7684\u5b57\uff0c\u5c06\u8bcd\u888b\u4e00\u4e00\u5bfc\u5165\uff0c\u5e76\u4ee5Counter\u751f\u6210\u9891\u6b21\u7edf\u8ba1\n",
      "        for char in set(words) & checklist:\n",
      "            result[char].update(words)\n",
      "#\u53bb\u6389\u9891\u6b21\u8fc7\u4f4e\u7684\u5171\u73b0\u8bcd\n",
      "for char in deNull(result):\n",
      "    t = result[char]\n",
      "    del t['']\n",
      "    threhold = t[char]/100+1 # \u8bbe\u7f6e\u9608\u9650\n",
      "    result2[char] = dict([(i,t[i])  for i in t  if t[i]>threhold])\n",
      "    #\u987a\u4fbf\u7edf\u8ba1\u6240\u6709\u8bcd\u7684\u9891\u7387\u5230\u5168\u5c40\u7684wordlist\n",
      "    wordlist.update(list(result2[char].keys()))\n",
      "#\u751f\u6210\u505c\u7528\u8bcd\u8868\n",
      "stopwordlist = [i  for i in wordlist  if wordlist[i] > len(result2)/2]\n",
      "#\u53bb\u6389\u505c\u7528\u8bcd\n",
      "for char in deNull(result2):\n",
      "    words = result2[char]\n",
      "    t = dict((w,words[w])  for w in words  if w not in stopwordlist)\n",
      "    #\u501f\u7528Counter\u6392\u4e2a\u5e8f~\n",
      "    result3[char] = Counter(t)\n",
      "result3"
     ],
     "language": "python",
     "metadata": {},
     "outputs": []
    },
    {
     "cell_type": "code",
     "collapsed": false,
     "input": [
      "with open('D:\\\\re2_freq_more_than_1%_without_stopword.txt',encoding='utf-8',mode='w') as f:\n",
      "    for char in result3:\n",
      "        f.write('----'+'\\n'+char+'\\n')\n",
      "        for words in result3[char].index:\n",
      "            f.write('   '+words+' '+str(result3[char][words]))\n",
      "        f.write('\\n')"
     ],
     "language": "python",
     "metadata": {},
     "outputs": [
      {
       "ename": "AttributeError",
       "evalue": "'Counter' object has no attribute 'index'",
       "output_type": "pyerr",
       "traceback": [
        "\u001b[1;31m---------------------------------------------------------------------------\u001b[0m\n\u001b[1;31mAttributeError\u001b[0m                            Traceback (most recent call last)",
        "\u001b[1;32m<ipython-input-124-033578238c7d>\u001b[0m in \u001b[0;36m<module>\u001b[1;34m()\u001b[0m\n\u001b[0;32m      2\u001b[0m     \u001b[1;32mfor\u001b[0m \u001b[0mchar\u001b[0m \u001b[1;32min\u001b[0m \u001b[0mresult3\u001b[0m\u001b[1;33m:\u001b[0m\u001b[1;33m\u001b[0m\u001b[0m\n\u001b[0;32m      3\u001b[0m         \u001b[0mf\u001b[0m\u001b[1;33m.\u001b[0m\u001b[0mwrite\u001b[0m\u001b[1;33m(\u001b[0m\u001b[1;34m'----'\u001b[0m\u001b[1;33m+\u001b[0m\u001b[1;34m'\\n'\u001b[0m\u001b[1;33m+\u001b[0m\u001b[0mchar\u001b[0m\u001b[1;33m+\u001b[0m\u001b[1;34m'\\n'\u001b[0m\u001b[1;33m)\u001b[0m\u001b[1;33m\u001b[0m\u001b[0m\n\u001b[1;32m----> 4\u001b[1;33m         \u001b[1;32mfor\u001b[0m \u001b[0mwords\u001b[0m \u001b[1;32min\u001b[0m \u001b[0mresult3\u001b[0m\u001b[1;33m[\u001b[0m\u001b[0mchar\u001b[0m\u001b[1;33m]\u001b[0m\u001b[1;33m.\u001b[0m\u001b[0mindex\u001b[0m\u001b[1;33m:\u001b[0m\u001b[1;33m\u001b[0m\u001b[0m\n\u001b[0m\u001b[0;32m      5\u001b[0m             \u001b[0mf\u001b[0m\u001b[1;33m.\u001b[0m\u001b[0mwrite\u001b[0m\u001b[1;33m(\u001b[0m\u001b[1;34m'   '\u001b[0m\u001b[1;33m+\u001b[0m\u001b[0mwords\u001b[0m\u001b[1;33m+\u001b[0m\u001b[1;34m' '\u001b[0m\u001b[1;33m+\u001b[0m\u001b[0mstr\u001b[0m\u001b[1;33m(\u001b[0m\u001b[0mresult3\u001b[0m\u001b[1;33m[\u001b[0m\u001b[0mchar\u001b[0m\u001b[1;33m]\u001b[0m\u001b[1;33m[\u001b[0m\u001b[0mwords\u001b[0m\u001b[1;33m]\u001b[0m\u001b[1;33m)\u001b[0m\u001b[1;33m)\u001b[0m\u001b[1;33m\u001b[0m\u001b[0m\n\u001b[0;32m      6\u001b[0m         \u001b[0mf\u001b[0m\u001b[1;33m.\u001b[0m\u001b[0mwrite\u001b[0m\u001b[1;33m(\u001b[0m\u001b[1;34m'\\n'\u001b[0m\u001b[1;33m)\u001b[0m\u001b[1;33m\u001b[0m\u001b[0m\n",
        "\u001b[1;31mAttributeError\u001b[0m: 'Counter' object has no attribute 'index'"
       ]
      }
     ],
     "prompt_number": 124
    },
    {
     "cell_type": "code",
     "collapsed": false,
     "input": [
      "for char in result2:\n",
      "    words = result2[char]\n",
      "    d = dict((w,words[w]) for w in words if w not in stopwordlist)\n",
      "    result3[char] = Counter(d)\n",
      "result3"
     ],
     "language": "python",
     "metadata": {},
     "outputs": []
    }
   ],
   "metadata": {}
  }
 ]
}