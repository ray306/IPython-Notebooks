{
 "cells": [
  {
   "cell_type": "code",
   "execution_count": 1,
   "metadata": {
    "collapsed": false
   },
   "outputs": [
    {
     "name": "stdout",
     "output_type": "stream",
     "text": [
      "Populating the interactive namespace from numpy and matplotlib\n"
     ]
    },
    {
     "name": "stderr",
     "output_type": "stream",
     "text": [
      "Vendor:  Continuum Analytics, Inc.\n",
      "Package: mkl\n",
      "Message: trial mode expires in 21 days\n",
      "Vendor:  Continuum Analytics, Inc.\n",
      "Package: mkl\n",
      "Message: trial mode expires in 21 days\n"
     ]
    }
   ],
   "source": [
    "# -*- coding: utf-8 -*-\n",
    "import re\n",
    "import os\n",
    "import math\n",
    "from collections import Counter\n",
    "import pickle\n",
    "%pylab inline\n",
    "path = 'D:\\\\nlp\\\\zh\\\\subtitle\\\\'"
   ]
  },
  {
   "cell_type": "code",
   "execution_count": 4,
   "metadata": {
    "collapsed": false
   },
   "outputs": [],
   "source": [
    "import nltk\n",
    "from nltk.corpus.reader.plaintext import PlaintextCorpusReader\n",
    "from nltk.corpus.reader.tagged import TaggedCorpusReader\n",
    "corpus = PlaintextCorpusReader('D:\\\\nlp\\\\zh\\\\subtitle\\\\', ['srt_cleaned.txt'])"
   ]
  },
  {
   "cell_type": "code",
   "execution_count": 2,
   "metadata": {
    "collapsed": false
   },
   "outputs": [],
   "source": [
    "# freq = Counter(corpus.words())\n",
    "fd = nltk.FreqDist(corpus.words())"
   ]
  },
  {
   "cell_type": "code",
   "execution_count": 32,
   "metadata": {
    "collapsed": false
   },
   "outputs": [],
   "source": [
    "stopwords = set()\n",
    "with open('D:\\\\nlp\\\\zh\\\\哈工大停用词表.txt',encoding='utf-8') as f:\n",
    "    for l in f:\n",
    "        stopwords.add(l[:-1])\n",
    "stopwords = stopwords & set(fd.keys())\n",
    "fd_filted = [(k,v) for (k,v) in fd.items() if v>2]"
   ]
  },
  {
   "cell_type": "code",
   "execution_count": 34,
   "metadata": {
    "collapsed": false
   },
   "outputs": [],
   "source": [
    "corpus_cleaned = [w for w in corpus.words() if w not in stopwords and fd[w]>2]\n",
    "with open(path+'srt_cleaned.txt','w',encoding='utf-8') as f:\n",
    "    f.write(' '.join(corpus_cleaned))"
   ]
  },
  {
   "cell_type": "code",
   "execution_count": 9,
   "metadata": {
    "collapsed": false
   },
   "outputs": [],
   "source": [
    "import nltk\n",
    "from nltk.collocations import *\n",
    "bigram_measures = nltk.collocations.BigramAssocMeasures()\n",
    "words = [w for w in corpus.words() if re.match(r'[\\u4e00-\\u9fa5]',w)]\n",
    "finder = BigramCollocationFinder.from_words(words, 10)\n",
    "finder.apply_freq_filter(3)"
   ]
  },
  {
   "cell_type": "code",
   "execution_count": 28,
   "metadata": {
    "collapsed": false
   },
   "outputs": [],
   "source": [
    "with open('h:\\\\ngram_fd','w',encoding='utf-8') as f:\n",
    "    for ((a, b), i) in finder.ngram_fd.items():\n",
    "        if i>2:\n",
    "            f.write(' '.join([a, b, str(i),'\\n']))"
   ]
  },
  {
   "cell_type": "code",
   "execution_count": null,
   "metadata": {
    "collapsed": false
   },
   "outputs": [],
   "source": []
  },
  {
   "cell_type": "code",
   "execution_count": 34,
   "metadata": {
    "collapsed": false
   },
   "outputs": [],
   "source": [
    "bigram_measures = nltk.collocations.BigramAssocMeasures()\n",
    "# finder.score_ngrams(bigram_measures.pmi)\n",
    "# list(finder.ngram_fd.items())\n",
    "for (i,j) in finder.nbest(bigram_measures.pmi, 1000):\n",
    "    if finder.word_fd[i]>500 and finder.word_fd[j]>500:\n",
    "        print((i,j),(finder.word_fd[i],finder.word_fd[i]))"
   ]
  },
  {
   "cell_type": "code",
   "execution_count": null,
   "metadata": {
    "collapsed": false
   },
   "outputs": [],
   "source": [
    "co = {}\n",
    "tokens = set(words)\n",
    "for i in tokens:\n",
    "    co[i]=Counter()\n",
    "    \n",
    "for (i,j) in finder:\n",
    "    co[i].update([j])"
   ]
  },
  {
   "cell_type": "code",
   "execution_count": 85,
   "metadata": {
    "collapsed": false
   },
   "outputs": [],
   "source": [
    "path = 'D:\\\\nlp\\\\zh\\\\subtitle\\\\BigSrt\\\\'\n",
    "doc = []\n",
    "for filename in os.listdir(path):\n",
    "    with open(path+filename,encoding='utf-8') as f:\n",
    "        doc.append(f.read())\n",
    "with open(path+'srt.txt','w',encoding='utf-8') as f:\n",
    "    f.write('\\n'.join(doc))"
   ]
  },
  {
   "cell_type": "code",
   "execution_count": 76,
   "metadata": {
    "collapsed": false
   },
   "outputs": [],
   "source": [
    "import nltk\n",
    "from nltk.collocations import *\n",
    "bigram_measures = nltk.collocations.BigramAssocMeasures()\n",
    "# trigram_measures = nltk.collocations.TrigramAssocMeasures()\n",
    "finder = BigramCollocationFinder.from_words(corpus.words(), 10)\n",
    "# print(finder.nbest(bigram_measures.pmi, 10))\n",
    "# finder.apply_freq_filter(3)"
   ]
  },
  {
   "cell_type": "code",
   "execution_count": 79,
   "metadata": {
    "collapsed": false
   },
   "outputs": [],
   "source": [
    "finder.apply_freq_filter(3)"
   ]
  },
  {
   "cell_type": "code",
   "execution_count": 78,
   "metadata": {
    "collapsed": false
   },
   "outputs": [
    {
     "name": "stdout",
     "output_type": "stream",
     "text": [
      "[('0172', 'Luke'), ('100', '穿着'), ('11', '组合'), ('120', '80'), ('120', '含有'), ('120', '抗生素'), ('120', '神经'), ('120', '组织胺'), ('120', '血液'), ('1600', '页')]\n"
     ]
    }
   ],
   "source": [
    "print(finder.nbest(bigram_measures.pmi, 10))"
   ]
  },
  {
   "cell_type": "code",
   "execution_count": 16,
   "metadata": {
    "collapsed": false
   },
   "outputs": [],
   "source": [
    "doc = ''\n",
    "with open(path+'Big Srt_PoS.txt',encoding='utf-8') as f:\n",
    "    for l in f:\n",
    "        doc += re.sub(\"/[A-Z|a-z]{,4} \", '',l)\n",
    "with open(path+'Big Srt_PoS2.txt','w',encoding='utf-8') as f:\n",
    "    f.write(doc)"
   ]
  },
  {
   "cell_type": "code",
   "execution_count": 33,
   "metadata": {
    "collapsed": false
   },
   "outputs": [],
   "source": [
    "cfd={}\n",
    "tokens = Counter()\n",
    "\n",
    "for filename in os.listdir(path+'clean\\\\'):\n",
    "    with open(path+'clean\\\\'+filename) as f:\n",
    "        wordseq = f.read().split(' ')\n",
    "        tokens.update(wordseq)\n",
    "        \n",
    "        wordseq = [' ']*5 + wordseq\n",
    "        for (index,token) in enumerate(wordseq):\n",
    "            window = wordseq[index-5:index+5]   ## 前后5个单词,窗口\n",
    "            for subtoken in window:\n",
    "                try:\n",
    "                    cfd[token].update({subtoken:1})       ## 增加入当前单词的相关单词\n",
    "                except:\n",
    "                    cfd[token] = Counter({subtoken:1})\n",
    "del cfd['']"
   ]
  },
  {
   "cell_type": "code",
   "execution_count": 10,
   "metadata": {
    "collapsed": false
   },
   "outputs": [],
   "source": [
    "tokens = Counter()\n",
    "\n",
    "for filename in os.listdir(path+'clean\\\\'):\n",
    "    with open(path+'clean\\\\'+filename) as f:\n",
    "        wordseq = f.read().split(' ')\n",
    "        tokens.update(wordseq)"
   ]
  },
  {
   "cell_type": "code",
   "execution_count": null,
   "metadata": {
    "collapsed": false
   },
   "outputs": [],
   "source": [
    "with open(path+'Big Srt_PoS.txt',encoding='utf-8') as f:\n",
    "    count = 1\n",
    "    doc = []\n",
    "    for sent in f:\n",
    "        if sent == '\\n':\n",
    "            with open(path+'clean\\\\'+str(count)+'.txt','w') as f:\n",
    "                f.write(' '.join(doc))\n",
    "                count += 1\n",
    "                doc = []\n",
    "        if 'Subtitle:' in sent:\n",
    "            continue\n",
    "        doc.extend(re.findall(r'([(\\u4e00-\\u9fa5)]+)',sent))"
   ]
  },
  {
   "cell_type": "code",
   "execution_count": 71,
   "metadata": {
    "collapsed": false
   },
   "outputs": [
    {
     "ename": "ImportError",
     "evalue": "No module named 'jieba'",
     "output_type": "error",
     "traceback": [
      "\u001b[1;31m---------------------------------------------------------------------------\u001b[0m\n\u001b[1;31mImportError\u001b[0m                               Traceback (most recent call last)",
      "\u001b[1;32m<ipython-input-71-229ce64e37cf>\u001b[0m in \u001b[0;36m<module>\u001b[1;34m()\u001b[0m\n\u001b[0;32m      1\u001b[0m \u001b[1;33m\u001b[0m\u001b[0m\n\u001b[1;32m----> 2\u001b[1;33m \u001b[1;32mimport\u001b[0m \u001b[0mjieba\u001b[0m\u001b[1;33m\u001b[0m\u001b[0m\n\u001b[0m\u001b[0;32m      3\u001b[0m \u001b[1;32mimport\u001b[0m \u001b[0mjieba\u001b[0m\u001b[1;33m.\u001b[0m\u001b[0mposseg\u001b[0m \u001b[1;32mas\u001b[0m \u001b[0mpseg\u001b[0m\u001b[1;33m\u001b[0m\u001b[0m\n\u001b[0;32m      4\u001b[0m \u001b[1;32mimport\u001b[0m \u001b[0mre\u001b[0m\u001b[1;33m\u001b[0m\u001b[0m\n\u001b[0;32m      5\u001b[0m \u001b[1;32mimport\u001b[0m \u001b[0mtime\u001b[0m\u001b[1;33m\u001b[0m\u001b[0m\n",
      "\u001b[1;31mImportError\u001b[0m: No module named 'jieba'"
     ]
    }
   ],
   "source": [
    "#coding:utf-8\n",
    "import jieba\n",
    "import jieba.posseg as pseg\n",
    "import re\n",
    "import time\n",
    "t1=time.time()\n",
    "count = 1\n",
    "#jieba.enable_parallel(2)\n",
    "\n",
    "with open(\"D:\\\\nlp\\\\zh\\\\subtitle\\\\Big Srt_PoS2.txt\",\"r\",encoding=\"utf-8\") as f: #读取文本\n",
    "    result=[]\n",
    "    for l in f:\n",
    "        if l == '\\n':\n",
    "            with open('D:\\\\DATA\\\\Biao\\\\NLP\\\\BigSrt\\\\'+str(count)+'.txt',\"w\",encoding=\"utf-8\") as f:  \n",
    "                f.write('\\n'.join(result))\n",
    "                count += 1\n",
    "                result = []\n",
    "        elif 'Subtitle:' in l:\n",
    "            continue\n",
    "        else:\n",
    "            s = ' '.join([w for w in jieba.cut(l[:-1]) if re.match(r'[\\u4e00-\\u9fa5a-z0-9A-Z ]',w)])\n",
    "            result.append(s)\n",
    "            #result += ''.join([w.word+\"/\"+str(w.flag)+' ' for w in pseg.cut(l[:-1])]+'\\n'\n",
    "\n",
    "with open('D:\\\\nlp\\\\zh\\\\subtitle\\\\BigSrt\\\\'+str(count)+'.txt',\"w\",encoding=\"utf-8\") as f:  \n",
    "    f.write('\\n'.join(result))\n",
    "                \n",
    "print(\"分词及词性标注完成，耗时：\"+str(time.time()-t1)+\"秒。\")"
   ]
  },
  {
   "cell_type": "code",
   "execution_count": 67,
   "metadata": {
    "collapsed": false
   },
   "outputs": [
    {
     "name": "stdout",
     "output_type": "stream",
     "text": [
      "[('3', '4'), ('2', '3'), ('2', '4'), ('1', '3'), ('3', '1'), ('4', '1'), ('1', '2'), ('2', '2'), ('2', '1'), ('1', '1')]\n"
     ]
    }
   ],
   "source": [
    "\n",
    "import nltk\n",
    "from nltk.collocations import *\n",
    "bigram_measures = nltk.collocations.BigramAssocMeasures()\n",
    "trigram_measures = nltk.collocations.TrigramAssocMeasures()\n",
    "finder = BigramCollocationFinder.from_words('121212341',3)\n",
    "print(finder.nbest(bigram_measures.pmi, 10))\n",
    "finder.apply_freq_filter(3)\n"
   ]
  },
  {
   "cell_type": "code",
   "execution_count": 69,
   "metadata": {
    "collapsed": false
   },
   "outputs": [],
   "source": [
    "import math\n",
    "threshold = 0.5\n",
    "pmi ={}\n",
    "tokens2 = dict([(k,v) for (k, v) in tokens.items() if 500< v ])\n",
    "for i in tokens2:\n",
    "    pmi[i] = {}\n",
    "\n",
    "for t1 in cfd:\n",
    "    for t2 in cfd[t1]:\n",
    "        try:\n",
    "            v = math.log(cfd[t1][t2]*len(tokens)/(tokens2[t1]*tokens2[t2]),2)\n",
    "            if v > threshold:\n",
    "                pmi[t1][t2] = v\n",
    "        except:\n",
    "            pass"
   ]
  },
  {
   "cell_type": "code",
   "execution_count": 12,
   "metadata": {
    "collapsed": false
   },
   "outputs": [],
   "source": [
    "threshold = 0.5\n",
    "pmi_filtered = {}\n",
    "for i in pmi:\n",
    "    pmi_filtered[i] = [(k,v) for (k, v) in pmi[i].items() if v > 0.1]"
   ]
  },
  {
   "cell_type": "code",
   "execution_count": 83,
   "metadata": {
    "collapsed": false
   },
   "outputs": [],
   "source": [
    "for t1 in cfd:\n",
    "    for t2 in cfd[t1]:\n",
    "        try:\n",
    "            v = math.log(cfd[t1][t2]*len(tokens)/(tokens2[t1]*tokens2[t2]),2)\n",
    "            if v > 0.1:\n",
    "                pmi[t1][t2] = v\n",
    "        except:\n",
    "            pass"
   ]
  },
  {
   "cell_type": "code",
   "execution_count": 3,
   "metadata": {
    "collapsed": false
   },
   "outputs": [
    {
     "data": {
      "text/plain": [
       "Counter({3: 8, 1: 6, 5: 1, 6: 1})"
      ]
     },
     "execution_count": 3,
     "metadata": {},
     "output_type": "execute_result"
    }
   ],
   "source": [
    "target = '银行'\n",
    "Counter(dict([(i,cfd[target][i]) for i in cfd[target] if tokens[i]>100])).most_common(50)"
   ]
  }
 ],
 "metadata": {
  "kernelspec": {
   "display_name": "Python 3",
   "language": "python",
   "name": "python3"
  },
  "language_info": {
   "codemirror_mode": {
    "name": "ipython",
    "version": 3
   },
   "file_extension": ".py",
   "mimetype": "text/x-python",
   "name": "python",
   "nbconvert_exporter": "python",
   "pygments_lexer": "ipython3",
   "version": "3.4.3"
  }
 },
 "nbformat": 4,
 "nbformat_minor": 0
}
