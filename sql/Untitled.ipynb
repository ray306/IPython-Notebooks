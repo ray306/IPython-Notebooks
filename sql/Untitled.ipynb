{
 "cells": [
  {
   "cell_type": "code",
   "execution_count": 1,
   "metadata": {
    "collapsed": true
   },
   "outputs": [],
   "source": [
    "from flask import Flask\n",
    "from flask.ext.sqlalchemy import SQLAlchemy\n",
    "\n",
    "app = Flask(__name__)\n",
    "app.config['SQLALCHEMY_DATABASE_URI'] = 'sqlite:///test.db'\n",
    "db = SQLAlchemy(app)\n",
    "\n",
    "class Words(db.Model):\n",
    "    id = db.Column(db.Integer, primary_key=True)\n",
    "    task = db.Column(db.String(40))\n",
    "    word = db.Column(db.String(40))\n",
    "    \n",
    "    def __init__(self, task, word):\n",
    "        self.word = word\n",
    "        self.task = task\n",
    "    \n",
    "    def recording(self, task, word):\n",
    "        item = Word(self, task, word.decode('utf-8'))\n",
    "        db.session.add(item)\n",
    "        db.session.commit()\n",
    "\n",
    "    \n",
    "class Report(db.Model):\n",
    "    id = db.Column(db.Integer, primary_key=True)\n",
    "    task = db.Column(db.String(40))\n",
    "    word = db.Column(db.String(40))\n",
    "    username = db.Column(db.String(40))\n",
    "    score = db.Column(db.Integer)\n",
    "\n",
    "    def __init__(self, task, word, username, score):\n",
    "        self.task = task\n",
    "        self.word = word\n",
    "        self.username = username\n",
    "        self.score = score\n",
    "        \n",
    "    def recording(self, task, word, username, score):\n",
    "        query = Report.query.filter_by(task=task,word=word,username=username)\n",
    "        if query.first()==None:\n",
    "            item = Report(self, task, word.decode('utf-8'), username, score)\n",
    "            db.session.add(item)\n",
    "        else:\n",
    "            query.update({'score': score})\n",
    "        db.session.commit()\n",
    "\n",
    "db.create_all()"
   ]
  },
  {
   "cell_type": "code",
   "execution_count": 1,
   "metadata": {
    "collapsed": true
   },
   "outputs": [],
   "source": [
    "from flask import Flask\n",
    "from flask.ext.sqlalchemy import SQLAlchemy\n",
    "\n",
    "app = Flask(__name__)\n",
    "app.config['SQLALCHEMY_DATABASE_URI'] = 'sqlite:///test.db'\n",
    "db = SQLAlchemy(app)\n",
    "\n",
    "class Words(db.Model):\n",
    "    id = db.Column(db.Integer, primary_key=True)\n",
    "    task = db.Column(db.String(40))\n",
    "    word = db.Column(db.String(40))\n",
    "    \n",
    "    def __init__(self, task, word):\n",
    "        self.word = word.decode('utf-8')\n",
    "        self.task = task\n",
    "        db.session.add(self)\n",
    "        db.session.commit()\n",
    "\n",
    "    \n",
    "class Report(db.Model):\n",
    "    id = db.Column(db.Integer, primary_key=True)\n",
    "    task = db.Column(db.String(40))\n",
    "    word = db.Column(db.String(40))\n",
    "    username = db.Column(db.String(40))\n",
    "    score = db.Column(db.Integer)\n",
    "\n",
    "    def __init__(self, task, word, username, score):\n",
    "        query = Report.query.filter_by(task=task,word=word,username=username)\n",
    "        if query.first()==None:    \n",
    "            self.task = task\n",
    "            self.word = word.decode('utf-8')\n",
    "            self.username = username\n",
    "            self.score = score\n",
    "            db.session.add(self)\n",
    "        else:\n",
    "            query.update({'score': score})\n",
    "        db.session.commit()\n",
    "\n",
    "db.create_all()"
   ]
  },
  {
   "cell_type": "code",
   "execution_count": 4,
   "metadata": {
    "collapsed": false
   },
   "outputs": [],
   "source": [
    "# db.session.rollback()\n",
    "\n",
    "    \n",
    "def recordInReport(task, word, username, score):\n",
    "    query = Report.query.filter_by(task=task,word=word,username=username)\n",
    "    if query.first()==None:\n",
    "        item = Report(task, word.decode('utf-8'), username, score)\n",
    "        db.session.add(item)\n",
    "    else:\n",
    "        query.update({'score': score})\n",
    "    db.session.commit()\n"
   ]
  },
  {
   "cell_type": "code",
   "execution_count": 4,
   "metadata": {
    "collapsed": false
   },
   "outputs": [
    {
     "data": {
      "text/plain": [
       "<__main__.Report at 0x4879e48>"
      ]
     },
     "execution_count": 4,
     "metadata": {},
     "output_type": "execute_result"
    }
   ],
   "source": [
    "Report('1','2','a',1)\n",
    "Report('1','3','a',4)\n",
    "Report('1','3','b',1)"
   ]
  },
  {
   "cell_type": "code",
   "execution_count": 6,
   "metadata": {
    "collapsed": true
   },
   "outputs": [],
   "source": [
    "import numpy as np"
   ]
  },
  {
   "cell_type": "code",
   "execution_count": 13,
   "metadata": {
    "collapsed": false
   },
   "outputs": [],
   "source": [
    "import random\n",
    "random??"
   ]
  },
  {
   "cell_type": "code",
   "execution_count": 30,
   "metadata": {
    "collapsed": false
   },
   "outputs": [
    {
     "data": {
      "text/plain": [
       "500"
      ]
     },
     "execution_count": 30,
     "metadata": {},
     "output_type": "execute_result"
    }
   ],
   "source": [
    "random.choice([450,500,550])"
   ]
  },
  {
   "cell_type": "code",
   "execution_count": 1,
   "metadata": {
    "collapsed": false
   },
   "outputs": [],
   "source": [
    "from flask import Flask\n",
    "from flask.ext.sqlalchemy import SQLAlchemy\n",
    "\n",
    "app = Flask(__name__)\n",
    "app.config['SQLALCHEMY_DATABASE_URI'] = 'sqlite:///test.db'\n",
    "db = SQLAlchemy(app)\n",
    "class User(db.Model):\n",
    "    id = db.Column(db.Integer, primary_key=True)\n",
    "    username = db.Column(db.String(80), unique=True)\n",
    "    email = db.Column(db.String(120), unique=True)\n",
    "\n",
    "    def __init__(self, username, email):\n",
    "        self.username = username\n",
    "        self.email = email\n",
    "\n",
    "    def __repr__(self):\n",
    "        return '<User %r>' % self.username\n",
    "    \n",
    "db.create_all()\n",
    "admin = User('admin', 'admin@example.com')\n",
    "guest = User('guest', 'guest@example.com')\n",
    "db.session.add(admin)\n",
    "db.session.add(guest)\n",
    "db.session.commit()"
   ]
  },
  {
   "cell_type": "code",
   "execution_count": 34,
   "metadata": {
    "collapsed": false
   },
   "outputs": [
    {
     "data": {
      "text/plain": [
       "0"
      ]
     },
     "execution_count": 34,
     "metadata": {},
     "output_type": "execute_result"
    }
   ],
   "source": [
    "Report.query.filter_by(task='1',word='qw',username='aa').update({'score': 8})"
   ]
  },
  {
   "cell_type": "code",
   "execution_count": 5,
   "metadata": {
    "collapsed": false
   },
   "outputs": [
    {
     "name": "stdout",
     "output_type": "stream",
     "text": [
      "1 2 a 1\n",
      "1 3 a 4\n",
      "1 4 b 1\n",
      "1 3 b 1\n"
     ]
    }
   ],
   "source": [
    "for row in Report.query.all():\n",
    "    print row.task, row.word, row.username, row.score"
   ]
  }
 ],
 "metadata": {
  "kernelspec": {
   "display_name": "Python 2",
   "language": "python",
   "name": "python2"
  },
  "language_info": {
   "codemirror_mode": {
    "name": "ipython",
    "version": 2
   },
   "file_extension": ".py",
   "mimetype": "text/x-python",
   "name": "python",
   "nbconvert_exporter": "python",
   "pygments_lexer": "ipython2",
   "version": "2.7.10"
  }
 },
 "nbformat": 4,
 "nbformat_minor": 0
}
