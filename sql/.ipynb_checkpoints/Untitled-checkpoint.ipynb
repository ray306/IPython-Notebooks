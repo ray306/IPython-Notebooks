{
 "cells": [
  {
   "cell_type": "code",
   "execution_count": 1,
   "metadata": {
    "collapsed": true
   },
   "outputs": [],
   "source": [
    "from flask import Flask\n",
    "from flask.ext.sqlalchemy import SQLAlchemy\n",
    "\n",
    "app = Flask(__name__)\n",
    "app.config['SQLALCHEMY_DATABASE_URI'] = 'sqlite:///test.db'\n",
    "db = SQLAlchemy(app)\n",
    "db.create_all()\n",
    "\n",
    "class Words(db.Model):\n",
    "    id = db.Column(db.Integer, primary_key=True)\n",
    "    task = db.Column(db.String(40))\n",
    "    word = db.Column(db.String(40))\n",
    "    \n",
    "    def __init__(self, task, word):\n",
    "        self.word = word\n",
    "        self.task = task\n",
    "\n",
    "    def __repr__(self):\n",
    "        return (self.task, self.word)\n",
    "    \n",
    "class Report(db.Model):\n",
    "    id = db.Column(db.Integer, primary_key=True)\n",
    "    task = db.Column(db.String(40))\n",
    "    word = db.Column(db.String(40))\n",
    "    username = db.Column(db.String(40))\n",
    "    score = db.Column(db.Integer)\n",
    "\n",
    "    def __init__(self, task, word, username, score):\n",
    "        self.task = task\n",
    "        self.word = word\n",
    "        self.username = username\n",
    "        self.score = score\n",
    "\n",
    "    def __repr__(self):\n",
    "        return (self.task,self.word,self.username,self.score)"
   ]
  },
  {
   "cell_type": "code",
   "execution_count": 6,
   "metadata": {
    "collapsed": false
   },
   "outputs": [
    {
     "name": "stderr",
     "output_type": "stream",
     "text": [
      "D:\\Anaconda\\lib\\site-packages\\sqlalchemy\\orm\\session.py:434: SAWarning: Session's state has been changed on a non-active transaction - this state will be discarded.\n",
      "  \"Session's state has been changed on \"\n"
     ]
    }
   ],
   "source": [
    "db.session.rollback()\n",
    "a = Report('宅'.decode('utf-8'), 'ad',5)\n",
    "b = Report('aw', 'aa',4)\n",
    "db.session.add(a)\n",
    "db.session.add(b)\n",
    "db.session.commit()\n"
   ]
  },
  {
   "cell_type": "code",
   "execution_count": 1,
   "metadata": {
    "collapsed": false
   },
   "outputs": [],
   "source": [
    "from flask import Flask\n",
    "from flask.ext.sqlalchemy import SQLAlchemy\n",
    "\n",
    "app = Flask(__name__)\n",
    "app.config['SQLALCHEMY_DATABASE_URI'] = 'sqlite:///test.db'\n",
    "db = SQLAlchemy(app)\n",
    "class User(db.Model):\n",
    "    id = db.Column(db.Integer, primary_key=True)\n",
    "    username = db.Column(db.String(80), unique=True)\n",
    "    email = db.Column(db.String(120), unique=True)\n",
    "\n",
    "    def __init__(self, username, email):\n",
    "        self.username = username\n",
    "        self.email = email\n",
    "\n",
    "    def __repr__(self):\n",
    "        return '<User %r>' % self.username\n",
    "    \n",
    "db.create_all()\n",
    "admin = User('admin', 'admin@example.com')\n",
    "guest = User('guest', 'guest@example.com')\n",
    "db.session.add(admin)\n",
    "db.session.add(guest)\n",
    "db.session.commit()"
   ]
  },
  {
   "cell_type": "code",
   "execution_count": 10,
   "metadata": {
    "collapsed": false
   },
   "outputs": [
    {
     "data": {
      "text/plain": [
       "[<record: u'admin',u'ad',5>,\n",
       " <record: u'\\u5b85',u'ad',5>,\n",
       " <record: u'\\u5b85',u'ad',5>]"
      ]
     },
     "execution_count": 10,
     "metadata": {},
     "output_type": "execute_result"
    }
   ],
   "source": [
    "Report.query.all()\n",
    "Report.query.filter_by(username='ad').all()"
   ]
  }
 ],
 "metadata": {
  "kernelspec": {
   "display_name": "Python 2",
   "language": "python",
   "name": "python2"
  },
  "language_info": {
   "codemirror_mode": {
    "name": "ipython",
    "version": 2
   },
   "file_extension": ".py",
   "mimetype": "text/x-python",
   "name": "python",
   "nbconvert_exporter": "python",
   "pygments_lexer": "ipython2",
   "version": "2.7.10"
  }
 },
 "nbformat": 4,
 "nbformat_minor": 0
}
