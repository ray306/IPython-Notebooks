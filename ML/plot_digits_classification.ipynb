{
 "metadata": {
  "name": "",
  "signature": "sha256:8877df91cb534d7f5f05d71e2ddd705ea31135cca9a16f7981b6de258ecac44a"
 },
 "nbformat": 3,
 "nbformat_minor": 0,
 "worksheets": [
  {
   "cells": [
    {
     "cell_type": "code",
     "collapsed": false,
     "input": [
      "# Standard scientific Python imports\n",
      "import matplotlib.pyplot as plt\n",
      "\n",
      "# Import datasets, classifiers and performance metrics\n",
      "from sklearn import datasets, svm, metrics\n",
      "\n",
      "# The digits dataset\n",
      "digits = datasets.load_digits()\n",
      "# The data that we are interested in is made of 8x8 images of digits, let's\n",
      "# have a look at the first 3 images, stored in the `images` attribute of the\n",
      "# dataset.  If we were working from image files, we could load them using\n",
      "# pylab.imread.  Note that each image must have the same size. For these\n",
      "# images, we know which digit they represent: it is given in the 'target' of\n",
      "# the dataset.\n",
      "images_and_labels = list(zip(digits.images, digits.target))\n",
      "for index, (image, label) in enumerate(images_and_labels[:4]):\n",
      "    plt.subplot(2, 4, index + 1)\n",
      "    plt.axis('off')\n",
      "    plt.imshow(image, cmap=plt.cm.gray_r, interpolation='nearest')\n",
      "    plt.title('Training: %i' % label)\n",
      "plt.show()\n",
      "# To apply a classifier on this data, we need to flatten the image, to\n",
      "# turn the data in a (samples, feature) matrix:\n",
      "import numpy as np\n",
      "n_samples = len(digits.images)\n",
      "data = digits.images.reshape((n_samples, -1))"
     ],
     "language": "python",
     "metadata": {},
     "outputs": [],
     "prompt_number": 1
    },
    {
     "cell_type": "code",
     "collapsed": false,
     "input": [
      "classifier = np.zeros([10,64])\n",
      "for n in range(n_samples/2):\n",
      "    for pix in range(64):\n",
      "        classifier[digits.target[n],pix] += data[n,pix]\n",
      "classifier = classifier/(n_samples/2)*10"
     ],
     "language": "python",
     "metadata": {},
     "outputs": [],
     "prompt_number": 76
    },
    {
     "cell_type": "code",
     "collapsed": false,
     "input": [
      "classifier = np.zeros([10,64])\n",
      "baseline = np.zeros(64)\n",
      "for n in range(n_samples/2):\n",
      "    for pix in range(64):\n",
      "        baseline[pix] += data[n,pix]\n",
      "baseline /= (n_samples/2)\n",
      "\n",
      "for n in range(n_samples/2):\n",
      "    for pix in range(64):\n",
      "        \n",
      "        for i in range(10):\n",
      "            if i == digits.target[n]:\n",
      "                classifier[i,pix] += (data[n,pix]-baseline[pix])\n",
      "            else:\n",
      "                classifier[i,pix] -= (data[n,pix]-baseline[pix])\n",
      "classifier = classifier/(n_samples/2) + baseline"
     ],
     "language": "python",
     "metadata": {},
     "outputs": [],
     "prompt_number": 83
    },
    {
     "cell_type": "code",
     "collapsed": false,
     "input": [
      "correctNum = 0\n",
      "for n in range(n_samples/2,n_samples):\n",
      "    compare = [sum((data[n]-classifier[i])**2) for i in range(10)]\n",
      "    if compare.index(min(compare)) == digits.target[n]:\n",
      "        correctNum +=1\n",
      "correctNum*1.0/(n_samples/2)"
     ],
     "language": "python",
     "metadata": {},
     "outputs": [
      {
       "metadata": {},
       "output_type": "pyout",
       "prompt_number": 84,
       "text": [
        "0.8574610244988864"
       ]
      }
     ],
     "prompt_number": 84
    },
    {
     "cell_type": "code",
     "collapsed": false,
     "input": [
      "# Create a classifier: a support vector classifier\n",
      "classifier = svm.SVC(gamma=0.001)\n",
      "\n",
      "# We learn the digits on the first half of the digits\n",
      "classifier.fit(data[:n_samples / 2], digits.target[:n_samples / 2])"
     ],
     "language": "python",
     "metadata": {},
     "outputs": [
      {
       "metadata": {},
       "output_type": "pyout",
       "prompt_number": 2,
       "text": [
        "SVC(C=1.0, cache_size=200, class_weight=None, coef0=0.0, degree=3,\n",
        "  gamma=0.001, kernel='rbf', max_iter=-1, probability=False,\n",
        "  random_state=None, shrinking=True, tol=0.001, verbose=False)"
       ]
      }
     ],
     "prompt_number": 2
    },
    {
     "cell_type": "code",
     "collapsed": false,
     "input": [
      "# Now predict the value of the digit on the second half:\n",
      "expected = digits.target[n_samples / 2:]\n",
      "predicted = classifier.predict(data[n_samples / 2:])"
     ],
     "language": "python",
     "metadata": {},
     "outputs": [],
     "prompt_number": 3
    },
    {
     "cell_type": "code",
     "collapsed": false,
     "input": [
      "print(\"Classification report for classifier %s:\\n%s\\n\"\n",
      "      % (classifier, metrics.classification_report(expected, predicted)))\n",
      "\n",
      "cm = metrics.confusion_matrix(expected, predicted)\n",
      "print(\"Confusion matrix:\\n%s\" % cm)\n",
      "\n",
      "# Show confusion matrix in a separate window\n",
      "plt.matshow(cm)\n",
      "plt.title('Confusion matrix')\n",
      "plt.colorbar()\n",
      "plt.ylabel('True label')\n",
      "plt.xlabel('Predicted label')\n",
      "plt.show()"
     ],
     "language": "python",
     "metadata": {},
     "outputs": [
      {
       "output_type": "stream",
       "stream": "stdout",
       "text": [
        "Classification report for classifier SVC(C=1.0, cache_size=200, class_weight=None, coef0=0.0, degree=3,\n",
        "  gamma=0.001, kernel=rbf, max_iter=-1, probability=False,\n",
        "  random_state=None, shrinking=True, tol=0.001, verbose=False):\n",
        "             precision    recall  f1-score   support\n",
        "\n",
        "          0       1.00      0.99      0.99        88\n",
        "          1       0.99      0.97      0.98        91\n",
        "          2       0.99      0.99      0.99        86\n",
        "          3       0.98      0.87      0.92        91\n",
        "          4       0.99      0.96      0.97        92\n",
        "          5       0.95      0.97      0.96        91\n",
        "          6       0.99      0.99      0.99        91\n",
        "          7       0.96      0.99      0.97        89\n",
        "          8       0.94      1.00      0.97        88\n",
        "          9       0.93      0.98      0.95        92\n",
        "\n",
        "avg / total       0.97      0.97      0.97       899\n",
        "\n",
        "\n",
        "Confusion matrix:\n",
        "[[87  0  0  0  1  0  0  0  0  0]\n",
        " [ 0 88  1  0  0  0  0  0  1  1]\n",
        " [ 0  0 85  1  0  0  0  0  0  0]\n",
        " [ 0  0  0 79  0  3  0  4  5  0]\n",
        " [ 0  0  0  0 88  0  0  0  0  4]\n",
        " [ 0  0  0  0  0 88  1  0  0  2]\n",
        " [ 0  1  0  0  0  0 90  0  0  0]\n",
        " [ 0  0  0  0  0  1  0 88  0  0]\n",
        " [ 0  0  0  0  0  0  0  0 88  0]\n",
        " [ 0  0  0  1  0  1  0  0  0 90]]\n"
       ]
      }
     ],
     "prompt_number": 4
    }
   ],
   "metadata": {}
  }
 ]
}