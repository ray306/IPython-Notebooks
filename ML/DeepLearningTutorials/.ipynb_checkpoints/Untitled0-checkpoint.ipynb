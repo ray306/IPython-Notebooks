{
 "metadata": {
  "name": "",
  "signature": "sha256:40fcee6eeea8e9e9039bec896868e303ae690b868fce76e94efd846e92d5c90e"
 },
 "nbformat": 3,
 "nbformat_minor": 0,
 "worksheets": []
}