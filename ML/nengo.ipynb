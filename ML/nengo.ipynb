{
 "cells": [
  {
   "cell_type": "code",
   "execution_count": 2,
   "metadata": {
    "collapsed": false
   },
   "outputs": [],
   "source": [
    "import nengo\n",
    "model = nengo.Network(seed=5)\n",
    "with model:\n",
    "    stim = nengo.Ensemble(n_neurons=48, dimensions=1)\n",
    "with model:\n",
    "    my_node = nengo.Node(output=0.5)\n",
    "    \n",
    "with model:\n",
    "    nengo.Connection(my_node, my_ensemble)"
   ]
  }
 ],
 "metadata": {
  "kernelspec": {
   "display_name": "Python 2",
   "language": "python",
   "name": "python2"
  },
  "language_info": {
   "codemirror_mode": {
    "name": "ipython",
    "version": 2
   },
   "file_extension": ".py",
   "mimetype": "text/x-python",
   "name": "python",
   "nbconvert_exporter": "python",
   "pygments_lexer": "ipython2",
   "version": "2.7.10"
  }
 },
 "nbformat": 4,
 "nbformat_minor": 0
}
