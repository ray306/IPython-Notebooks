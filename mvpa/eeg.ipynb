{
 "cells": [
  {
   "cell_type": "code",
   "execution_count": 194,
   "metadata": {
    "collapsed": false
   },
   "outputs": [
    {
     "name": "stdout",
     "output_type": "stream",
     "text": [
      "Populating the interactive namespace from numpy and matplotlib\n"
     ]
    },
    {
     "name": "stderr",
     "output_type": "stream",
     "text": [
      "WARNING: pylab import has clobbered these variables: ['clf']\n",
      "`%matplotlib` prevents importing * from pylab and numpy\n"
     ]
    }
   ],
   "source": [
    "%pylab inline\n",
    "import pandas as pd\n",
    "import scipy.io\n",
    "features = scipy.io.loadmat('F:/eeg/midway/sub12/XY.mat')\n",
    "X = features['X']\n",
    "Y = [str(i)[5:-2] for i in features['Y'][0]]\n",
    "X = np.array([i.flatten() for i in X])\n"
   ]
  },
  {
   "cell_type": "code",
   "execution_count": 1,
   "metadata": {
    "collapsed": false
   },
   "outputs": [
    {
     "name": "stdout",
     "output_type": "stream",
     "text": [
      "Populating the interactive namespace from numpy and matplotlib\n"
     ]
    },
    {
     "name": "stderr",
     "output_type": "stream",
     "text": [
      "Vendor:  Continuum Analytics, Inc.\n",
      "Package: mkl\n",
      "Message: trial mode expires in 22 days\n",
      "Vendor:  Continuum Analytics, Inc.\n",
      "Package: mkl\n",
      "Message: trial mode expires in 22 days\n"
     ]
    }
   ],
   "source": [
    "%pylab inline\n",
    "import pandas as pd\n",
    "import scipy.io\n",
    "conditons = scipy.io.loadmat('F:/eeg/midway/sub12/rawconditions.mat')\n",
    "c1 = conditons['ttg']\n",
    "c2 = conditons['tfg']\n",
    "c3 = conditons['ttl']\n",
    "c4 = conditons['ftl']"
   ]
  },
  {
   "cell_type": "code",
   "execution_count": 2,
   "metadata": {
    "collapsed": true
   },
   "outputs": [],
   "source": [
    "chs = [1, 3, 5, 6, 11, 13, 17, 18, 20, 22, 24, 26, 28]\n",
    "chs = [i-1 for i in chs]\n",
    "tps = range(250,350)"
   ]
  },
  {
   "cell_type": "code",
   "execution_count": 3,
   "metadata": {
    "collapsed": false
   },
   "outputs": [],
   "source": [
    "t_data = c1\n",
    "t_data_tps = t_data[:,tps,:]\n",
    "c1_data = np.array([i.T for i in t_data_tps[chs,:,:]]).reshape((len(chs),t_data.shape[2]*len(tps)))\n",
    "t_data = c2\n",
    "t_data_tps = t_data[:,tps,:]\n",
    "c2_data = np.array([i.T for i in t_data_tps[chs,:,:]]).reshape((len(chs),t_data.shape[2]*len(tps)))\n",
    "t_data = c3\n",
    "t_data_tps = t_data[:,tps,:]\n",
    "c3_data = np.array([i.T for i in t_data_tps[chs,:,:]]).reshape((len(chs),t_data.shape[2]*len(tps)))\n",
    "t_data = c4\n",
    "t_data_tps = t_data[:,tps,:]\n",
    "c4_data = np.array([i.T for i in t_data_tps[chs,:,:]]).reshape((len(chs),t_data.shape[2]*len(tps)))"
   ]
  },
  {
   "cell_type": "code",
   "execution_count": 35,
   "metadata": {
    "collapsed": false
   },
   "outputs": [],
   "source": [
    "scipy.io.savemat('f:/rmat.mat',{'c1':c1_data,'c2':c2_data,'c3':c3_data,'c4':c4_data})"
   ]
  },
  {
   "cell_type": "code",
   "execution_count": 34,
   "metadata": {
    "collapsed": false
   },
   "outputs": [
    {
     "data": {
      "text/plain": [
       "Ttest_relResult(statistic=-12.195671548806697, pvalue=8.3451158227211957e-34)"
      ]
     },
     "execution_count": 34,
     "metadata": {},
     "output_type": "execute_result"
    }
   ],
   "source": [
    "\n",
    "length = min(len(c3_data[1,:]),len(c4_data[1,:]))\n",
    "scipy.stats.ttest_rel(c3_data[1,:][:length],c4_data[1,:][:length])"
   ]
  },
  {
   "cell_type": "code",
   "execution_count": 33,
   "metadata": {
    "collapsed": false
   },
   "outputs": [
    {
     "data": {
      "text/plain": [
       "5900"
      ]
     },
     "execution_count": 33,
     "metadata": {},
     "output_type": "execute_result"
    }
   ],
   "source": [
    "len(c4_data[1,:])"
   ]
  },
  {
   "cell_type": "code",
   "execution_count": 129,
   "metadata": {
    "collapsed": false
   },
   "outputs": [
    {
     "name": "stdout",
     "output_type": "stream",
     "text": [
      "Populating the interactive namespace from numpy and matplotlib\n"
     ]
    }
   ],
   "source": [
    "%pylab inline\n",
    "import scipy.io\n",
    "features = scipy.io.loadmat('F:/eeg/midway/sub12/XY.mat')\n",
    "X = features['X']\n",
    "Y = [str(i)[5:-2] for i in features['Y'][0]]\n",
    "\n",
    "X = np.array([i.flatten() for i in X])\n",
    "from sklearn.decomposition import RandomizedPCA\n",
    "n_components = 200\n",
    "pca = RandomizedPCA(n_components=n_components, whiten=True).fit(X_train)\n",
    "# eigenfaces = pca.components_.reshape((n_components,14,30))\n",
    "\n",
    "X = pca.transform(X)\n",
    "\n"
   ]
  },
  {
   "cell_type": "code",
   "execution_count": 195,
   "metadata": {
    "collapsed": false
   },
   "outputs": [],
   "source": [
    "table = pd.DataFrame(X)\n",
    "table['trial'] = Y\n",
    "table = table[table.trial.str.contains('tL')]\n",
    "\n",
    "\n",
    "table=table.reindex(random.permutation(table.index))\n",
    "table.index = list(range(len(table)))\n",
    "\n",
    "X = np.array(table.ix[:,:-1])\n",
    "Y = np.array(table.ix[:,-1])\n",
    "\n",
    "Y = [int('T' in i) for i in Y]"
   ]
  },
  {
   "cell_type": "code",
   "execution_count": 285,
   "metadata": {
    "collapsed": false
   },
   "outputs": [
    {
     "name": "stdout",
     "output_type": "stream",
     "text": [
      "             precision    recall  f1-score   support\n",
      "\n",
      "          0       0.46      1.00      0.63        11\n",
      "          1       0.00      0.00      0.00        13\n",
      "\n",
      "avg / total       0.21      0.46      0.29        24\n",
      "\n",
      "Counter({0: 48, 1: 47})\n"
     ]
    },
    {
     "name": "stderr",
     "output_type": "stream",
     "text": [
      "D:\\Anaconda3\\lib\\site-packages\\sklearn\\metrics\\classification.py:958: UndefinedMetricWarning: Precision and F-score are ill-defined and being set to 0.0 in labels with no predicted samples.\n",
      "  'precision', 'predicted', average, warn_for)\n"
     ]
    }
   ],
   "source": [
    "from sklearn.cross_validation import train_test_split\n",
    "from sklearn.metrics import classification_report\n",
    "from sklearn import svm\n",
    "\n",
    "X_train, X_test, Y_train, Y_test = train_test_split(X, Y, test_size=0.2)\n",
    "\n",
    "clf = svm.SVC(C=12.0, class_weight='auto', tol=0.00001)\n",
    "clf.fit(X_train, Y_train) \n",
    "Y_pred = clf.predict(X_test)\n",
    "print(classification_report(Y_test, Y_pred))\n",
    "print(Counter(Y_train))"
   ]
  },
  {
   "cell_type": "code",
   "execution_count": null,
   "metadata": {
    "collapsed": true
   },
   "outputs": [],
   "source": [
    "SVC(C=1.0, cache_size=200, class_weight='auto', coef0=0.0, degree=3,\n",
    "  gamma=0.0, kernel='sigmoid', max_iter=-1, probability=False,\n",
    "  random_state=None, shrinking=True, tol=0.001, verbose=False)"
   ]
  },
  {
   "cell_type": "code",
   "execution_count": 292,
   "metadata": {
    "collapsed": false
   },
   "outputs": [
    {
     "name": "stdout",
     "output_type": "stream",
     "text": [
      "             precision    recall  f1-score   support\n",
      "\n",
      "          0       0.54      0.54      0.54        13\n",
      "          1       0.45      0.45      0.45        11\n",
      "\n",
      "avg / total       0.50      0.50      0.50        24\n",
      "\n",
      "Counter({1: 49, 0: 46})\n"
     ]
    }
   ],
   "source": [
    "\n",
    "from sklearn.lda import LDA\n",
    "X_train, X_test, Y_train, Y_test = train_test_split(X, Y, test_size=0.2)\n",
    "\n",
    "clf = LDA(solver='lsqr', shrinkage='auto', tol=0.0001)\n",
    "clf.fit(X_train, Y_train) \n",
    "Y_pred = clf.predict(X_test)\n",
    "print(classification_report(Y_test, Y_pred))\n",
    "print(Counter(Y_train))"
   ]
  },
  {
   "cell_type": "code",
   "execution_count": 293,
   "metadata": {
    "collapsed": false
   },
   "outputs": [
    {
     "name": "stdout",
     "output_type": "stream",
     "text": [
      "             precision    recall  f1-score   support\n",
      "\n",
      "          0       0.50      0.73      0.59        11\n",
      "          1       0.62      0.38      0.48        13\n",
      "\n",
      "avg / total       0.57      0.54      0.53        24\n",
      "\n",
      "Counter({0: 48, 1: 47})\n"
     ]
    },
    {
     "name": "stderr",
     "output_type": "stream",
     "text": [
      "D:\\Anaconda3\\lib\\site-packages\\sklearn\\qda.py:133: UserWarning: Variables are collinear\n",
      "  warnings.warn(\"Variables are collinear\")\n"
     ]
    }
   ],
   "source": [
    "from sklearn.qda import QDA\n",
    "X_train, X_test, Y_train, Y_test = train_test_split(X, Y, test_size=0.2)\n",
    "\n",
    "clf = QDA()\n",
    "clf.fit(X_train, Y_train, store_covariances=True) \n",
    "Y_pred = clf.predict(X_test)\n",
    "print(classification_report(Y_test, Y_pred))\n",
    "print(Counter(Y_train))"
   ]
  },
  {
   "cell_type": "code",
   "execution_count": 306,
   "metadata": {
    "collapsed": false
   },
   "outputs": [
    {
     "name": "stdout",
     "output_type": "stream",
     "text": [
      "             precision    recall  f1-score   support\n",
      "\n",
      "          0       0.67      0.57      0.62        14\n",
      "          1       0.50      0.60      0.55        10\n",
      "\n",
      "avg / total       0.60      0.58      0.59        24\n",
      "\n",
      "Counter({1: 50, 0: 45})\n"
     ]
    }
   ],
   "source": [
    "from sklearn.linear_model import LogisticRegression\n",
    "X_train, X_test, Y_train, Y_test = train_test_split(X, Y, test_size=0.2)\n",
    "\n",
    "clf = LogisticRegression(C=25.0, penalty='l1', max_iter=600, tol=0.000001)\n",
    "clf.fit(X_train, Y_train) \n",
    "Y_pred = clf.predict(X_test)\n",
    "print(classification_report(Y_test, Y_pred))\n",
    "print(Counter(Y_train))"
   ]
  }
 ],
 "metadata": {
  "kernelspec": {
   "display_name": "Python 3",
   "language": "python",
   "name": "python3"
  },
  "language_info": {
   "codemirror_mode": {
    "name": "ipython",
    "version": 3
   },
   "file_extension": ".py",
   "mimetype": "text/x-python",
   "name": "python",
   "nbconvert_exporter": "python",
   "pygments_lexer": "ipython3",
   "version": "3.4.3"
  }
 },
 "nbformat": 4,
 "nbformat_minor": 0
}
