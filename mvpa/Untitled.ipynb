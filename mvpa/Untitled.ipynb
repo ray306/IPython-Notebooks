{
 "cells": [
  {
   "cell_type": "code",
   "execution_count": 1,
   "metadata": {
    "collapsed": false,
    "scrolled": false
   },
   "outputs": [
    {
     "name": "stderr",
     "output_type": "stream",
     "text": [
      "H:\\Anaconda\\lib\\site-packages\\numpy\\lib\\utils.py:95: DeprecationWarning: `scipy.weave` is deprecated, use `weave` instead!\n",
      "  warnings.warn(depdoc, DeprecationWarning)\n",
      "H:\\Anaconda\\lib\\site-packages\\scipy\\integrate\\quadpack.py:352: IntegrationWarning: Extremely bad integrand behavior occurs at some points of the\n",
      "  integration interval.\n",
      "  warnings.warn(msg, IntegrationWarning)\n",
      "H:\\Anaconda\\lib\\site-packages\\numpy\\lib\\utils.py:95: DeprecationWarning: `scipy.linalg.calc_lwork` is deprecated!\n",
      "\n",
      "calc_lwork was an internal module in Scipy and has been removed.\n",
      "\n",
      "Several functions in scipy.linalg.lapack have *_lwork variants\n",
      "that perform the lwork calculation (from Scipy >= 0.15.0), or\n",
      "allow passing in LWORK=-1 argument to perform the computation.\n",
      "\n",
      "\n",
      "  warnings.warn(depdoc, DeprecationWarning)\n"
     ]
    },
    {
     "data": {
      "text/plain": [
       "(4L, 3L)"
      ]
     },
     "execution_count": 1,
     "metadata": {},
     "output_type": "execute_result"
    }
   ],
   "source": [
    "from mvpa2.tutorial_suite import *\n",
    "data = [[  1,  1, -1],\n",
    "        [  2,  0,  0],\n",
    "        [  3,  1,  1],\n",
    "        [  4,  0, -1]]\n",
    "ds = Dataset(data)\n",
    "ds.shape"
   ]
  },
  {
   "cell_type": "code",
   "execution_count": 1,
   "metadata": {
    "collapsed": false
   },
   "outputs": [
    {
     "name": "stderr",
     "output_type": "stream",
     "text": [
      "H:\\Anaconda\\lib\\site-packages\\numpy\\lib\\utils.py:95: DeprecationWarning: `scipy.weave` is deprecated, use `weave` instead!\n",
      "  warnings.warn(depdoc, DeprecationWarning)\n",
      "H:\\Anaconda\\lib\\site-packages\\scipy\\integrate\\quadpack.py:352: IntegrationWarning: Extremely bad integrand behavior occurs at some points of the\n",
      "  integration interval.\n",
      "  warnings.warn(msg, IntegrationWarning)\n"
     ]
    },
    {
     "name": "stdout",
     "output_type": "stream",
     "text": [
      "WARNING: Detected incorrect (nan) scl_ fields. Resetting to scl_slope=1.0 and scl_inter=0.0\n",
      " * Please note: warnings are printed only once, but underlying problem might occur many times *\n"
     ]
    },
    {
     "name": "stderr",
     "output_type": "stream",
     "text": [
      "H:\\Anaconda\\lib\\site-packages\\numpy\\lib\\utils.py:95: DeprecationWarning: `scipy.linalg.calc_lwork` is deprecated!\n",
      "\n",
      "calc_lwork was an internal module in Scipy and has been removed.\n",
      "\n",
      "Several functions in scipy.linalg.lapack have *_lwork variants\n",
      "that perform the lwork calculation (from Scipy >= 0.15.0), or\n",
      "allow passing in LWORK=-1 argument to perform the computation.\n",
      "\n",
      "\n",
      "  warnings.warn(depdoc, DeprecationWarning)\n"
     ]
    }
   ],
   "source": [
    "from mvpa2.tutorial_suite import *\n",
    "\n",
    "ds = fmri_dataset('E:\\\\Data\\\\tutorial\\\\swfmriblocks009.nii')"
   ]
  },
  {
   "cell_type": "code",
   "execution_count": 5,
   "metadata": {
    "collapsed": false
   },
   "outputs": [],
   "source": [
    "path = 'E:\\\\Data\\\\tutorial\\\\swfmriblocks009.nii'\n",
    "dhandle = OpenFMRIDataset(path)"
   ]
  },
  {
   "cell_type": "code",
   "execution_count": 4,
   "metadata": {
    "collapsed": false
   },
   "outputs": [
    {
     "name": "stdout",
     "output_type": "stream",
     "text": [
      "WARNING: Detected incorrect (nan) scl_ fields. Resetting to scl_slope=1.0 and scl_inter=0.0\n",
      " * Please note: warnings are printed only once, but underlying problem might occur many times *\n"
     ]
    }
   ],
   "source": [
    "from mvpa2.suite import *\n",
    "attr = SampleAttributes(os.path.join(pymvpa_dataroot, 'attributes_literal.txt' ))\n",
    "dataset = fmri_dataset(\n",
    "    samples=os.path.join(pymvpa_dataroot, 'bold.nii.gz' ),\n",
    "    targets=attr.targets,\n",
    "    chunks=attr.chunks,\n",
    "    mask=os.path.join(pymvpa_dataroot, 'mask.nii.gz' ))"
   ]
  },
  {
   "cell_type": "code",
   "execution_count": 5,
   "metadata": {
    "collapsed": true
   },
   "outputs": [],
   "source": [
    "poly_detrend(dataset, polyord=1, chunks_attr='chunks')\n",
    "zscore(dataset, param_est=('targets', [ 'rest']), dtype='float32')"
   ]
  },
  {
   "cell_type": "code",
   "execution_count": 15,
   "metadata": {
    "collapsed": false
   },
   "outputs": [],
   "source": [
    "interesting = np.array([i in [ 'face', 'house'] for i in dataset.sa.targets])\n",
    "dataset = dataset[interesting]"
   ]
  },
  {
   "cell_type": "code",
   "execution_count": 13,
   "metadata": {
    "collapsed": true
   },
   "outputs": [],
   "source": [
    "cv = CrossValidation(SMLR(), OddEvenPartitioner())\n",
    "error = cv(dataset)"
   ]
  },
  {
   "cell_type": "code",
   "execution_count": 18,
   "metadata": {
    "collapsed": false
   },
   "outputs": [
    {
     "data": {
      "text/plain": [
       "SampleAttributesCollection(items=[ArrayCollectable(name='chunks', doc=None, value=array([  0.,   0.,   0.,   0.,   0.,   0.,   0.,   0.,   0.,   0.,   0.,\n",
       "         0.,   0.,   0.,   0.,   0.,   0.,   0.,   1.,   1.,   1.,   1.,\n",
       "         1.,   1.,   1.,   1.,   1.,   1.,   1.,   1.,   1.,   1.,   1.,\n",
       "         1.,   1.,   1.,   2.,   2.,   2.,   2.,   2.,   2.,   2.,   2.,\n",
       "         2.,   2.,   2.,   2.,   2.,   2.,   2.,   2.,   2.,   2.,   3.,\n",
       "         3.,   3.,   3.,   3.,   3.,   3.,   3.,   3.,   3.,   3.,   3.,\n",
       "         3.,   3.,   3.,   3.,   3.,   3.,   4.,   4.,   4.,   4.,   4.,\n",
       "         4.,   4.,   4.,   4.,   4.,   4.,   4.,   4.,   4.,   4.,   4.,\n",
       "         4.,   4.,   5.,   5.,   5.,   5.,   5.,   5.,   5.,   5.,   5.,\n",
       "         5.,   5.,   5.,   5.,   5.,   5.,   5.,   5.,   5.,   6.,   6.,\n",
       "         6.,   6.,   6.,   6.,   6.,   6.,   6.,   6.,   6.,   6.,   6.,\n",
       "         6.,   6.,   6.,   6.,   6.,   7.,   7.,   7.,   7.,   7.,   7.,\n",
       "         7.,   7.,   7.,   7.,   7.,   7.,   7.,   7.,   7.,   7.,   7.,\n",
       "         7.,   8.,   8.,   8.,   8.,   8.,   8.,   8.,   8.,   8.,   8.,\n",
       "         8.,   8.,   8.,   8.,   8.,   8.,   8.,   8.,   9.,   9.,   9.,\n",
       "         9.,   9.,   9.,   9.,   9.,   9.,   9.,   9.,   9.,   9.,   9.,\n",
       "         9.,   9.,   9.,   9.,  10.,  10.,  10.,  10.,  10.,  10.,  10.,\n",
       "        10.,  10.,  10.,  10.,  10.,  10.,  10.,  10.,  10.,  10.,  10.,\n",
       "        11.,  11.,  11.,  11.,  11.,  11.,  11.,  11.,  11.,  11.,  11.,\n",
       "        11.,  11.,  11.,  11.,  11.,  11.,  11.]), length=216), ArrayCollectable(name='time_indices', doc=None, value=array([  21,   22,   23,   24,   25,   26,   27,   28,   29,   63,   64,\n",
       "         65,   66,   67,   68,   69,   70,   71,  127,  128,  129,  130,\n",
       "        131,  132,  133,  134,  135,  213,  214,  215,  216,  217,  218,\n",
       "        219,  220,  221,  334,  335,  336,  337,  338,  339,  340,  341,\n",
       "        342,  348,  349,  350,  351,  352,  353,  354,  355,  356,  384,\n",
       "        385,  386,  387,  388,  389,  390,  391,  392,  426,  427,  428,\n",
       "        429,  430,  431,  432,  433,  434,  490,  491,  492,  493,  494,\n",
       "        495,  496,  497,  498,  533,  534,  535,  536,  537,  538,  539,\n",
       "        540,  541,  611,  612,  613,  614,  615,  616,  617,  618,  619,\n",
       "        640,  641,  642,  643,  644,  645,  646,  647,  648,  732,  733,\n",
       "        734,  735,  736,  737,  738,  739,  740,  804,  805,  806,  807,\n",
       "        808,  809,  810,  811,  812,  853,  854,  855,  856,  857,  858,\n",
       "        859,  860,  861,  953,  954,  955,  956,  957,  958,  959,  960,\n",
       "        961,  974,  975,  976,  977,  978,  979,  980,  981,  982, 1017,\n",
       "       1018, 1019, 1020, 1021, 1022, 1023, 1024, 1025, 1095, 1096, 1097,\n",
       "       1098, 1099, 1100, 1101, 1102, 1103, 1138, 1139, 1140, 1141, 1142,\n",
       "       1143, 1144, 1145, 1146, 1288, 1289, 1290, 1291, 1292, 1293, 1294,\n",
       "       1295, 1296, 1302, 1303, 1304, 1305, 1306, 1307, 1308, 1309, 1310,\n",
       "       1352, 1353, 1354, 1355, 1356, 1357, 1358, 1359, 1360, 1394, 1395,\n",
       "       1396, 1397, 1398, 1399, 1400, 1401, 1402]), length=216), ArrayCollectable(name='targets', doc=None, value=array(['face', 'face', 'face', 'face', 'face', 'face', 'face', 'face',\n",
       "       'face', 'house', 'house', 'house', 'house', 'house', 'house',\n",
       "       'house', 'house', 'house', 'face', 'face', 'face', 'face', 'face',\n",
       "       'face', 'face', 'face', 'face', 'house', 'house', 'house', 'house',\n",
       "       'house', 'house', 'house', 'house', 'house', 'face', 'face', 'face',\n",
       "       'face', 'face', 'face', 'face', 'face', 'face', 'house', 'house',\n",
       "       'house', 'house', 'house', 'house', 'house', 'house', 'house',\n",
       "       'house', 'house', 'house', 'house', 'house', 'house', 'house',\n",
       "       'house', 'house', 'face', 'face', 'face', 'face', 'face', 'face',\n",
       "       'face', 'face', 'face', 'house', 'house', 'house', 'house', 'house',\n",
       "       'house', 'house', 'house', 'house', 'face', 'face', 'face', 'face',\n",
       "       'face', 'face', 'face', 'face', 'face', 'house', 'house', 'house',\n",
       "       'house', 'house', 'house', 'house', 'house', 'house', 'face',\n",
       "       'face', 'face', 'face', 'face', 'face', 'face', 'face', 'face',\n",
       "       'face', 'face', 'face', 'face', 'face', 'face', 'face', 'face',\n",
       "       'face', 'house', 'house', 'house', 'house', 'house', 'house',\n",
       "       'house', 'house', 'house', 'face', 'face', 'face', 'face', 'face',\n",
       "       'face', 'face', 'face', 'face', 'house', 'house', 'house', 'house',\n",
       "       'house', 'house', 'house', 'house', 'house', 'face', 'face', 'face',\n",
       "       'face', 'face', 'face', 'face', 'face', 'face', 'house', 'house',\n",
       "       'house', 'house', 'house', 'house', 'house', 'house', 'house',\n",
       "       'face', 'face', 'face', 'face', 'face', 'face', 'face', 'face',\n",
       "       'face', 'house', 'house', 'house', 'house', 'house', 'house',\n",
       "       'house', 'house', 'house', 'house', 'house', 'house', 'house',\n",
       "       'house', 'house', 'house', 'house', 'house', 'face', 'face', 'face',\n",
       "       'face', 'face', 'face', 'face', 'face', 'face', 'house', 'house',\n",
       "       'house', 'house', 'house', 'house', 'house', 'house', 'house',\n",
       "       'face', 'face', 'face', 'face', 'face', 'face', 'face', 'face',\n",
       "       'face'], \n",
       "      dtype='|S12'), length=216), ArrayCollectable(name='time_coords', doc=None, value=array([   52.5,    55. ,    57.5,    60. ,    62.5,    65. ,    67.5,\n",
       "          70. ,    72.5,   157.5,   160. ,   162.5,   165. ,   167.5,\n",
       "         170. ,   172.5,   175. ,   177.5,   317.5,   320. ,   322.5,\n",
       "         325. ,   327.5,   330. ,   332.5,   335. ,   337.5,   532.5,\n",
       "         535. ,   537.5,   540. ,   542.5,   545. ,   547.5,   550. ,\n",
       "         552.5,   835. ,   837.5,   840. ,   842.5,   845. ,   847.5,\n",
       "         850. ,   852.5,   855. ,   870. ,   872.5,   875. ,   877.5,\n",
       "         880. ,   882.5,   885. ,   887.5,   890. ,   960. ,   962.5,\n",
       "         965. ,   967.5,   970. ,   972.5,   975. ,   977.5,   980. ,\n",
       "        1065. ,  1067.5,  1070. ,  1072.5,  1075. ,  1077.5,  1080. ,\n",
       "        1082.5,  1085. ,  1225. ,  1227.5,  1230. ,  1232.5,  1235. ,\n",
       "        1237.5,  1240. ,  1242.5,  1245. ,  1332.5,  1335. ,  1337.5,\n",
       "        1340. ,  1342.5,  1345. ,  1347.5,  1350. ,  1352.5,  1527.5,\n",
       "        1530. ,  1532.5,  1535. ,  1537.5,  1540. ,  1542.5,  1545. ,\n",
       "        1547.5,  1600. ,  1602.5,  1605. ,  1607.5,  1610. ,  1612.5,\n",
       "        1615. ,  1617.5,  1620. ,  1830. ,  1832.5,  1835. ,  1837.5,\n",
       "        1840. ,  1842.5,  1845. ,  1847.5,  1850. ,  2010. ,  2012.5,\n",
       "        2015. ,  2017.5,  2020. ,  2022.5,  2025. ,  2027.5,  2030. ,\n",
       "        2132.5,  2135. ,  2137.5,  2140. ,  2142.5,  2145. ,  2147.5,\n",
       "        2150. ,  2152.5,  2382.5,  2385. ,  2387.5,  2390. ,  2392.5,\n",
       "        2395. ,  2397.5,  2400. ,  2402.5,  2435. ,  2437.5,  2440. ,\n",
       "        2442.5,  2445. ,  2447.5,  2450. ,  2452.5,  2455. ,  2542.5,\n",
       "        2545. ,  2547.5,  2550. ,  2552.5,  2555. ,  2557.5,  2560. ,\n",
       "        2562.5,  2737.5,  2740. ,  2742.5,  2745. ,  2747.5,  2750. ,\n",
       "        2752.5,  2755. ,  2757.5,  2845. ,  2847.5,  2850. ,  2852.5,\n",
       "        2855. ,  2857.5,  2860. ,  2862.5,  2865. ,  3220. ,  3222.5,\n",
       "        3225. ,  3227.5,  3230. ,  3232.5,  3235. ,  3237.5,  3240. ,\n",
       "        3255. ,  3257.5,  3260. ,  3262.5,  3265. ,  3267.5,  3270. ,\n",
       "        3272.5,  3275. ,  3380. ,  3382.5,  3385. ,  3387.5,  3390. ,\n",
       "        3392.5,  3395. ,  3397.5,  3400. ,  3485. ,  3487.5,  3490. ,\n",
       "        3492.5,  3495. ,  3497.5,  3500. ,  3502.5,  3505. ]), length=216)])"
      ]
     },
     "execution_count": 18,
     "metadata": {},
     "output_type": "execute_result"
    }
   ],
   "source": [
    "dataset.sa"
   ]
  }
 ],
 "metadata": {
  "kernelspec": {
   "display_name": "Python 2",
   "language": "python",
   "name": "python2"
  },
  "language_info": {
   "codemirror_mode": {
    "name": "ipython",
    "version": 2
   },
   "file_extension": ".py",
   "mimetype": "text/x-python",
   "name": "python",
   "nbconvert_exporter": "python",
   "pygments_lexer": "ipython2",
   "version": "2.7.9"
  }
 },
 "nbformat": 4,
 "nbformat_minor": 0
}
