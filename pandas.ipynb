{
 "metadata": {
  "name": "",
  "signature": "sha256:1fa315c1fce8603847904b56c2c2f5fa7748962c5541d1f23942bbd113b9fb63"
 },
 "nbformat": 3,
 "nbformat_minor": 0,
 "worksheets": [
  {
   "cells": [
    {
     "cell_type": "code",
     "collapsed": false,
     "input": [
      "import pandas as pd\n",
      "path = 'D:\\Doc\\\\research\\word\\ch\\corpus\\hownet\\HowNet_Chinese_WordList.txt'\n",
      "d = pd.read_csv(path,sep=' ',skiprows=2)"
     ],
     "language": "python",
     "metadata": {},
     "outputs": []
    },
    {
     "cell_type": "code",
     "collapsed": false,
     "input": [
      "import pandas as pd\n",
      "import sqlite3\n",
      "con = sqlite3.connect('h:\\lab\\hanzi.db')\n",
      "d = pd.DataFrame({'one' : ['\u9a89',3,4,5],'two' : [6,7,8,9],'three' : [9,10,11,12]}, index=['a', 'b', 'd', 'c'])\n",
      "\n",
      "d.to_sql('test2', con)#o = pd.Series([4, 7, -5, 3], index=['d', 'b', 'a', 'c'],Name='four'"
     ],
     "language": "python",
     "metadata": {},
     "outputs": []
    }
   ],
   "metadata": {}
  }
 ]
}