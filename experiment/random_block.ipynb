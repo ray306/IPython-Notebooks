{
 "cells": [
  {
   "cell_type": "code",
   "execution_count": 47,
   "metadata": {
    "collapsed": false
   },
   "outputs": [],
   "source": [
    "import numpy as np\n",
    "import pandas as pd\n",
    "# import random\n",
    "path='F:\\\\Coding\\\\py\\\\py3\\\\experiment\\\\'\n",
    "stimuli = pd.read_csv(path+'stimuli.csv',sep=',',encoding='gbk')\n",
    "# 用做Global判断\n",
    "globalStimuli = stimuli.copy(deep=True)\n",
    "globalStimuli = random_df(globalStimuli)\n",
    "globalStimuli['Pos'] = 0\n",
    "\n",
    "# 用做local判断\n",
    "pos = [1,2] * (len(stimuli)//4//2)\n",
    "random_pos = []\n",
    "for i in range(4):\n",
    "    while 1:\n",
    "        rand_pos = np.random.permutation(pos).tolist()\n",
    "        r_count_max = 0\n",
    "        l_count_max = 0\n",
    "        r_count = 0\n",
    "        l_count = 0\n",
    "        for i in rand_pos:\n",
    "            if i==1:\n",
    "                l_count+=1\n",
    "                r_count = 0\n",
    "            else:\n",
    "                r_count+=1\n",
    "                l_count = 0\n",
    "            r_count_max = max(r_count_max,r_count)\n",
    "            l_count_max = max(l_count_max,l_count)\n",
    "            \n",
    "        if r_count_max<5 and l_count_max<5:\n",
    "            break\n",
    "                \n",
    "    random_pos += rand_pos\n",
    "    \n",
    "localStimuli = stimuli.copy(deep=True)\n",
    "localStimuli = random_df(localStimuli)\n",
    "localStimuli['Pos'] = random_pos\n",
    "\n",
    "block_count = len(stimuli)//4\n",
    "blocks_list = []\n",
    "\n",
    "for i in range(4):\n",
    "    blocks_list.append(globalStimuli[i*block_count:(i+1)*block_count])\n",
    "    blocks_list.append(localStimuli[i*block_count:(i+1)*block_count])\n",
    "\n",
    "while 1:\n",
    "    np.random.shuffle(blocks_list)\n",
    "    blocks = pd.concat(blocks_list)\n",
    "    g_count_max = 0\n",
    "    l_count_max = 0\n",
    "    g_count = 0\n",
    "    l_count = 0\n",
    "    for ind,i in blocks.iterrows():\n",
    "        if i.Pos==0:\n",
    "            g_count+=1\n",
    "            l_count = 0\n",
    "        else:\n",
    "            l_count+=1\n",
    "            g_count = 0\n",
    "        g_count_max = max(g_count_max,g_count)\n",
    "        l_count_max = max(l_count_max,l_count)\n",
    "    if g_count_max<=128 and l_count_max<=128:\n",
    "        break\n",
    "    \n",
    "\n",
    "blocks['block'] = [i//(len(blocks)/8)+1 for i in range(len(blocks))]\n",
    "blocks.to_csv('f:/0_result.csv',index=None)"
   ]
  },
  {
   "cell_type": "code",
   "execution_count": 16,
   "metadata": {
    "collapsed": false
   },
   "outputs": [],
   "source": [
    "stimuli1 = random_df(stimuli)"
   ]
  },
  {
   "cell_type": "code",
   "execution_count": 39,
   "metadata": {
    "collapsed": false
   },
   "outputs": [
    {
     "data": {
      "text/plain": [
       "'接下来您需要判断12的真伪。 请按 [空格] 继续。'"
      ]
     },
     "execution_count": 39,
     "metadata": {},
     "output_type": "execute_result"
    }
   ],
   "source": [
    "\"接下来您需要判断%s的真伪。 请按 [空格] 继续。\" %12\n"
   ]
  },
  {
   "cell_type": "code",
   "execution_count": 28,
   "metadata": {
    "collapsed": false
   },
   "outputs": [],
   "source": []
  },
  {
   "cell_type": "code",
   "execution_count": 15,
   "metadata": {
    "collapsed": false
   },
   "outputs": [],
   "source": [
    "# # 用做Global判断\n",
    "# globalStimuli = stimuli.copy(deep=True)\n",
    "# globalStimuli['Pos'] = 0\n",
    "\n",
    "def random_df(df):\n",
    "    indexs = list(range(len(df)))\n",
    "    df.index = indexs\n",
    "    df = df.reindex(np.random.permutation(df.index))\n",
    "    df.index = indexs\n",
    "    return(df)\n",
    "\n",
    "\n",
    "\n"
   ]
  }
 ],
 "metadata": {
  "kernelspec": {
   "display_name": "Python 3",
   "language": "python",
   "name": "python3"
  },
  "language_info": {
   "codemirror_mode": {
    "name": "ipython",
    "version": 3
   },
   "file_extension": ".py",
   "mimetype": "text/x-python",
   "name": "python",
   "nbconvert_exporter": "python",
   "pygments_lexer": "ipython3",
   "version": "3.4.3"
  }
 },
 "nbformat": 4,
 "nbformat_minor": 0
}
