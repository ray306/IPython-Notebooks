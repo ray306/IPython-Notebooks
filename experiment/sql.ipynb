{
 "cells": [
  {
   "cell_type": "code",
   "execution_count": 2,
   "metadata": {
    "collapsed": false
   },
   "outputs": [
    {
     "ename": "ImportError",
     "evalue": "No module named MySQLdb",
     "output_type": "error",
     "traceback": [
      "\u001b[1;31m---------------------------------------------------------------------------\u001b[0m",
      "\u001b[1;31mImportError\u001b[0m                               Traceback (most recent call last)",
      "\u001b[1;32m<ipython-input-2-dd22983d5391>\u001b[0m in \u001b[0;36m<module>\u001b[1;34m()\u001b[0m\n\u001b[1;32m----> 1\u001b[1;33m \u001b[1;32mimport\u001b[0m \u001b[0mMySQLdb\u001b[0m\u001b[1;33m\u001b[0m\u001b[0m\n\u001b[0m",
      "\u001b[1;31mImportError\u001b[0m: No module named MySQLdb"
     ]
    }
   ],
   "source": [
    "import MySQLdb\n",
    "import pandas as pd\n",
    "con = MySQLdb.connect(host=\"sqld.duapp.com\", port=4050,\n",
    "                      user='queZmS6mzzV5Ys8jnNuTT5aK',passwd='PYUP7WRZXcgrNZ69BTD9PpLXBL28OGqb', \n",
    "                      db='juswNKRZvlCHhgfaguFy')\n",
    "report = pd.read_sql('select * from report', con)"
   ]
  },
  {
   "cell_type": "code",
   "execution_count": 43,
   "metadata": {
    "collapsed": false
   },
   "outputs": [],
   "source": [
    "import pandas as pd\n",
    "report = pd.read_csv('f:/report.csv',header=None)\n",
    "del report[0]\n",
    "report.columns = ['task','word','subj','score','rt','redo']\n",
    "report[report.rt<500] = None\n",
    "report.iloc[report[report.rt>10000].index,4] = None\n",
    "report = report[report.task==2]"
   ]
  },
  {
   "cell_type": "code",
   "execution_count": 47,
   "metadata": {
    "collapsed": false
   },
   "outputs": [],
   "source": [
    "import pandas as pd\n",
    "report = pd.read_csv('f:/report.csv',header=None)\n",
    "del report[0]\n",
    "report.columns = ['task','word','subj','score','rt','redo']\n",
    "report[report.rt<500] = None\n",
    "report.iloc[report[report.rt>10000].index,4] = None"
   ]
  },
  {
   "cell_type": "code",
   "execution_count": 48,
   "metadata": {
    "collapsed": true
   },
   "outputs": [],
   "source": [
    "stats = []\n",
    "for word,item in report.groupby('word'):    \n",
    "    mean = item.rt.mean()\n",
    "    std = item.rt.std()\n",
    "    rt = item[((mean - 2*std) < item.rt) & (item.rt< (mean + 2*std))].rt.mean()\n",
    "    \n",
    "    mean = item.score.mean()\n",
    "    std = item.score.std()\n",
    "    score = item[((mean - 2*std) <= item.score) & (item.score<= (mean + 2*std))].score.mean()\n",
    "    \n",
    "    stats.append([word,round(score,1),int(rt)])\n",
    "stats = pd.DataFrame(stats)\n",
    "\n",
    "words=[]\n",
    "for ind,i in stats[stats[0].str.len()==4].iterrows():\n",
    "    p1 = stats[stats[0]==i[0][:2]]\n",
    "    p2 = stats[stats[0]==i[0][:2]]\n",
    "    words.append([i[0],i[1],i[2],p1.iloc[0,1],p1.iloc[0,2],p2.iloc[0,1],p2.iloc[0,2]])\n",
    "words = pd.DataFrame(words)\n",
    "words.columns = ['word','s0','t0','s1','t1','s2','t2']"
   ]
  },
  {
   "cell_type": "code",
   "execution_count": 29,
   "metadata": {
    "collapsed": false
   },
   "outputs": [],
   "source": [
    "import random\n",
    "parts = []\n",
    "for w in words[(words.s0>4) & (words.s1<2) & (words.s1<2) & (words.t0<1500)].word.tolist():\n",
    "    parts.append(w[:2])\n",
    "    parts.append(w[2:])\n",
    "random.shuffle(parts)\n",
    "Fff = [a+b for a,b in zip(parts[:len(parts)//2],parts[len(parts)//2:])]"
   ]
  },
  {
   "cell_type": "code",
   "execution_count": 25,
   "metadata": {
    "collapsed": false
   },
   "outputs": [
    {
     "data": {
      "text/html": [
       "<div>\n",
       "<table border=\"1\" class=\"dataframe\">\n",
       "  <thead>\n",
       "    <tr style=\"text-align: right;\">\n",
       "      <th></th>\n",
       "      <th>word</th>\n",
       "      <th>s0</th>\n",
       "      <th>t0</th>\n",
       "      <th>s1</th>\n",
       "      <th>t1</th>\n",
       "      <th>s2</th>\n",
       "      <th>t2</th>\n",
       "    </tr>\n",
       "  </thead>\n",
       "  <tbody>\n",
       "    <tr>\n",
       "      <th>101</th>\n",
       "      <td>喧宾夺主</td>\n",
       "      <td>5</td>\n",
       "      <td>1520</td>\n",
       "      <td>1.2</td>\n",
       "      <td>1571</td>\n",
       "      <td>1.2</td>\n",
       "      <td>1571</td>\n",
       "    </tr>\n",
       "    <tr>\n",
       "      <th>231</th>\n",
       "      <td>日进斗金</td>\n",
       "      <td>5</td>\n",
       "      <td>1523</td>\n",
       "      <td>1.7</td>\n",
       "      <td>2420</td>\n",
       "      <td>1.7</td>\n",
       "      <td>2420</td>\n",
       "    </tr>\n",
       "    <tr>\n",
       "      <th>335</th>\n",
       "      <td>积少成多</td>\n",
       "      <td>5</td>\n",
       "      <td>1517</td>\n",
       "      <td>1.5</td>\n",
       "      <td>2246</td>\n",
       "      <td>1.5</td>\n",
       "      <td>2246</td>\n",
       "    </tr>\n",
       "    <tr>\n",
       "      <th>407</th>\n",
       "      <td>轻而易举</td>\n",
       "      <td>5</td>\n",
       "      <td>1568</td>\n",
       "      <td>1.3</td>\n",
       "      <td>1366</td>\n",
       "      <td>1.3</td>\n",
       "      <td>1366</td>\n",
       "    </tr>\n",
       "  </tbody>\n",
       "</table>\n",
       "</div>"
      ],
      "text/plain": [
       "     word  s0    t0   s1    t1   s2    t2\n",
       "101  喧宾夺主   5  1520  1.2  1571  1.2  1571\n",
       "231  日进斗金   5  1523  1.7  2420  1.7  2420\n",
       "335  积少成多   5  1517  1.5  2246  1.5  2246\n",
       "407  轻而易举   5  1568  1.3  1366  1.3  1366"
      ]
     },
     "execution_count": 25,
     "metadata": {},
     "output_type": "execute_result"
    }
   ],
   "source": [
    "# words[(words.s0>4) & (words.s1>4) & (words.s1>4) & (words.t0>1300)] # ex雄心壮志\n",
    "words[(words.s0>4) & (words.s1<2) & (words.s1<2)]"
   ]
  },
  {
   "cell_type": "code",
   "execution_count": 28,
   "metadata": {
    "collapsed": false
   },
   "outputs": [
    {
     "name": "stdout",
     "output_type": "stream",
     "text": [
      "1148.0361445783133 1119.4421768707482\n"
     ]
    }
   ],
   "source": [
    "print(words[(words.s0>4) & (words.s1<2) & (words.s1<2)].t0.mean(), # T tt\n",
    "      words[(words.s0>4) & (words.s1>4) & (words.s1>4)].t0.mean()) #T ff"
   ]
  },
  {
   "cell_type": "code",
   "execution_count": 188,
   "metadata": {
    "collapsed": false
   },
   "outputs": [
    {
     "data": {
      "text/plain": [
       "(153, 88, 110, 67)"
      ]
     },
     "execution_count": 188,
     "metadata": {},
     "output_type": "execute_result"
    }
   ],
   "source": [
    "T = 4\n",
    "F = 2\n",
    "Ttt = words[(words.s0>T) & (words.s1>T) & (words.s1>T)]\n",
    "Ftt = words[(words.s0<F) & (words.s1>T) & (words.s1>T)]\n",
    "Tff = words[(words.s0>T) & (words.s1<F) & (words.s1<F)]\n",
    "Fff = words[(words.s0<F) & (words.s1<F) & (words.s1<F)]\n",
    "len(Ttt),len(Tff),len(Ftt),len(Fff)\n",
    "Ttt1.to_csv('',index=None)\n",
    "Tff1 = pd.DataFrame(Tff1)\n",
    "Ftt1 = pd.DataFrame(Ftt1)\n",
    "Fff1 = pd.DataFrame(Fff1)"
   ]
  },
  {
   "cell_type": "code",
   "execution_count": 202,
   "metadata": {
    "collapsed": false
   },
   "outputs": [],
   "source": [
    "def sample(stimuli):\n",
    "    indexs = list(range(len(stimuli)))\n",
    "    stimuli.index = indexs\n",
    "\n",
    "    rows = random.sample(range(len(stimuli)), 64)\n",
    "    new = stimuli.ix[rows,0]\n",
    "    return new\n",
    "con_result = pd.concat([sample(Ttt),sample(Tff),sample(Ftt),sample(Fff)])\n",
    "con_result.to_csv('F:\\Coding\\py\\py3\\experiment\\stimuli1.csv',index=None)"
   ]
  },
  {
   "cell_type": "code",
   "execution_count": 72,
   "metadata": {
    "collapsed": true
   },
   "outputs": [],
   "source": [
    "Ttt1 = []\n",
    "Tff1 = []\n",
    "Ftt1 = []\n",
    "Fff1 = []\n",
    "\n",
    "T = 4\n",
    "F = 2\n",
    "Ttt = words[(words.s0>T) & (words.s1>T) & (words.s1>T)]\n",
    "Ftt = words[(words.s0<F) & (words.s1>T) & (words.s1>T)]\n",
    "Tff = words[(words.s0>T) & (words.s1<F) & (words.s1<F)]\n",
    "Fff = words[(words.s0<F) & (words.s1<F) & (words.s1<F)]\n",
    "\n",
    "def parts(words):\n",
    "    w=[]\n",
    "    for i in words.word:\n",
    "        w.append(i[:2])\n",
    "        w.append(i[2:])\n",
    "    return set(w)\n",
    "\n",
    "inter = parts(Ttt).intersection(parts(Ftt))\n",
    "for ind,i in Ttt.iterrows():\n",
    "    if i.word[:2] in inter and i.word[2:] in inter:\n",
    "        Ttt1.append(i)\n",
    "for ind,i in Ftt.iterrows():\n",
    "    if i.word[:2] in inter and i.word[2:] in inter:\n",
    "        Ftt1.append(i)\n",
    "        \n",
    "inter = parts(Tff).intersection(parts(Fff))\n",
    "for ind,i in Tff.iterrows():\n",
    "    if i.word[:2] in inter and i.word[2:] in inter:\n",
    "        Tff1.append(i)\n",
    "for ind,i in Fff.iterrows():\n",
    "    if i.word[:2] in inter and i.word[2:] in inter:\n",
    "        Fff1.append(i)\n",
    "        \n",
    "Ttt1 = pd.DataFrame(Ttt1)\n",
    "Tff1 = pd.DataFrame(Tff1)\n",
    "Ftt1 = pd.DataFrame(Ftt1)\n",
    "Fff1 = pd.DataFrame(Fff1)"
   ]
  },
  {
   "cell_type": "code",
   "execution_count": 133,
   "metadata": {
    "collapsed": false
   },
   "outputs": [],
   "source": [
    "\n",
    "new = []\n",
    "for i in Ftt1:\n",
    "    new.append([i[:2],0,i[2:],0])\n",
    "Ftt2 = pd.DataFrame(new)\n",
    "new = []\n",
    "for i in Fff1:\n",
    "    new.append([i[:2],0,i[2:],0])\n",
    "Fff2 = pd.DataFrame(new)"
   ]
  },
  {
   "cell_type": "code",
   "execution_count": 117,
   "metadata": {
    "collapsed": false
   },
   "outputs": [],
   "source": [
    "import random\n",
    "\n",
    "for i in range(10000):\n",
    "    state = 1\n",
    "    s = set()\n",
    "    POSs = []\n",
    "    for i in Ttt1:\n",
    "        pos = random.randint(0,1)\n",
    "        s.add(i.word[pos*2:pos*2+2])\n",
    "        POSs.append(pos)\n",
    "    for i in Ftt1:\n",
    "        if i.word[:2] in s and i.word[2:] in s:\n",
    "            state = 0\n",
    "            break\n",
    "    if state == 1:\n",
    "        print(POSs)\n",
    "        break\n",
    "            \n",
    "        \n",
    "        "
   ]
  },
  {
   "cell_type": "code",
   "execution_count": null,
   "metadata": {
    "collapsed": true
   },
   "outputs": [],
   "source": [
    "import random\n",
    "state = 1\n",
    "s = set()\n",
    "POSs = []\n",
    "i = 0\n",
    "redo = [0]\n",
    "while 1:\n",
    "    word = Ttt1[i]\n",
    "    if redo[i]==0:\n",
    "        pos = random.randint(0,1)\n",
    "        redo[i]+=1\n",
    "    elif redo[i]==1:\n",
    "        pos = 1-pos\n",
    "        redo[i]+=1\n",
    "    else:\n",
    "        i-=1\n",
    "        continue\n",
    "        \n",
    "    part = word[pos*2:pos*2+2]\n",
    "    exist1 = Ftt2[Ftt2[0]==part].index\n",
    "    exist2 = Ftt2[Ftt2[2]==part].index\n",
    "    if len(exist1)>0 & len(exist2)>0:\n",
    "        i-=1\n",
    "        continue\n",
    "    elif len(exist1) + len(exist2) == 0:\n",
    "        Ftt2.iloc[Ftt2[Ftt2[0]==part].index,3] == 1\n",
    "\n",
    "        POSs.append(pos)\n",
    "    elif len(exist1)>0:\n",
    "        \n",
    "        \n",
    "    i+=1\n",
    "    redo[i] = 0"
   ]
  },
  {
   "cell_type": "code",
   "execution_count": 169,
   "metadata": {
    "collapsed": false
   },
   "outputs": [],
   "source": [
    "import sqlite3\n",
    "con = sqlite3.connect('d:\\\\lab\\\\hanzi.db')\n",
    "# import pandas.io.sql as sql\n",
    "# t=sql.read_frame('SELECT Character,Stroke_Num FROM hanzi',con)\n",
    "\n",
    "c = con.cursor()\n",
    "c.execute('SELECT Character,Stroke_Num FROM hanzi')\n",
    "sql_result = dict(c.fetchall())"
   ]
  },
  {
   "cell_type": "code",
   "execution_count": null,
   "metadata": {
    "collapsed": true
   },
   "outputs": [],
   "source": [
    "for i in Ftt1:\n",
    "    state1 = i.word[:2] in s\n",
    "    state2 = i.word[2:] in s\n",
    "    if state1 and state2:\n",
    "        state = 0\n",
    "        break\n",
    "    elif (not state1) and (not state2):\n",
    "        pos = random.randint(0,1)\n",
    "        s.add(i.word[pos*2:pos*2+2])"
   ]
  },
  {
   "cell_type": "code",
   "execution_count": 36,
   "metadata": {
    "collapsed": false
   },
   "outputs": [
    {
     "name": "stdout",
     "output_type": "stream",
     "text": [
      "zhangyingying 83.0\n",
      "test 3.0\n",
      "gengshuang 83.0\n",
      "hansizhu 83.0\n",
      "wangyuhao 83.0\n",
      "wuhuining 83.0\n",
      "xinyushi 83.0\n",
      "luocheng 83.0\n",
      "zhangruiqing 83.0\n"
     ]
    }
   ],
   "source": [
    "for i in set(report.subj):\n",
    "   print(i,report[report.subj==i].size/6) "
   ]
  },
  {
   "cell_type": "code",
   "execution_count": 71,
   "metadata": {
    "collapsed": false
   },
   "outputs": [
    {
     "data": {
      "text/plain": [
       "85"
      ]
     },
     "execution_count": 71,
     "metadata": {},
     "output_type": "execute_result"
    }
   ],
   "source": [
    "len(list(t.groupby('word')))"
   ]
  }
 ],
 "metadata": {
  "kernelspec": {
   "display_name": "Python 3",
   "language": "python",
   "name": "python3"
  },
  "language_info": {
   "codemirror_mode": {
    "name": "ipython",
    "version": 3
   },
   "file_extension": ".py",
   "mimetype": "text/x-python",
   "name": "python",
   "nbconvert_exporter": "python",
   "pygments_lexer": "ipython3",
   "version": "3.4.3"
  }
 },
 "nbformat": 4,
 "nbformat_minor": 0
}
