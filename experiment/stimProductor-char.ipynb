{
 "metadata": {
  "name": "",
  "signature": "sha256:426242180d6c060513dfd9f65f0f8c75676371723555c145614e4c11f325da38"
 },
 "nbformat": 3,
 "nbformat_minor": 0,
 "worksheets": [
  {
   "cells": [
    {
     "cell_type": "code",
     "collapsed": false,
     "input": [
      "import pandas as pd\n",
      "import random\n",
      "import itertools  \n",
      "%pylab inline\n",
      "path='D:\\\\Coding\\\\py\\\\py3\\\\experiment\\\\'\n",
      "rawdata = pd.read_csv(path+'bichar.csv',encoding='gbk')\n",
      "del rawdata['Unnamed: 0']\n",
      "rawdata['match'] = rawdata[['c1_match','c2_match']].apply(lambda x: (eval(x[0]),eval(x[1])),axis=1)"
     ],
     "language": "python",
     "metadata": {},
     "outputs": [
      {
       "output_type": "stream",
       "stream": "stdout",
       "text": [
        "Populating the interactive namespace from numpy and matplotlib\n"
       ]
      },
      {
       "output_type": "stream",
       "stream": "stderr",
       "text": [
        "WARNING: pylab import has clobbered these variables: ['random']\n",
        "`%matplotlib` prevents importing * from pylab and numpy\n"
       ]
      }
     ],
     "prompt_number": 1
    },
    {
     "cell_type": "code",
     "collapsed": false,
     "input": [
      "plot(sorted(blockTables[0].w_freq))"
     ],
     "language": "python",
     "metadata": {},
     "outputs": [
      {
       "metadata": {},
       "output_type": "pyout",
       "prompt_number": 27,
       "text": [
        "[<matplotlib.lines.Line2D at 0x9f68d30>]"
       ]
      },
      {
       "metadata": {},
       "output_type": "display_data",
       "png": "[encoded data removed]",
       "text": [
        "<matplotlib.figure.Figure at 0x8f40da0>"
       ]
      }
     ],
     "prompt_number": 27
    },
    {
     "cell_type": "code",
     "collapsed": false,
     "input": [
      "def randomInBlock(result,conditions,blockCount):\n",
      "    blocks = [[] for i in range(blockCount)]\n",
      "    result = result.reindex(random.permutation(result.index))\n",
      "        \n",
      "    conditionGroups=[]\n",
      "    conditionCombination = list(itertools.product(*[[(k,v) for v in conditions[k]] for k in conditions]))\n",
      "    for k in conditionCombination:    \n",
      "        queryCmd = ' & '.join([i[0]+'=='+str(i[1]) for i in k])\n",
      "        conditionGroups.append(result.query(queryCmd))\n",
      "    \n",
      "    n = len(result)//len(conditionCombination)//blockCount\n",
      "    for idx,b in enumerate(blocks):\n",
      "        for c in conditionGroups:\n",
      "            b.append(c[n*idx:n*(idx+1)])\n",
      "    \n",
      "    for i,b in enumerate(blocks):\n",
      "        b = pd.concat(b)\n",
      "        blocks[i] = b.reindex(random.permutation(b.index))\n",
      "    return blocks\n",
      "  \n",
      "def factory(data,idx,conditions=None):\n",
      "    stimli =[]\n",
      "    for wordID,i in enumerate(idx):\n",
      "        now = data.ix[i]\n",
      "        for Target,TargetAcc in ((now.word,1),(now.pseudo_word,0)):\n",
      "            for PrimePos in (0,1):\n",
      "                for Prime,PrimeAcc in ((Target[PrimePos],1),(now.match[PrimePos][TargetAcc],0)):    \n",
      "                    stimli.append({'WordID':wordID,'Prime':Prime,'Target':Target,\n",
      "                     'PrimeAcc':PrimeAcc,'TargetAcc':TargetAcc,'PrimePos':PrimePos,\n",
      "                     'w_freq':now.w_freq,'c1_freq':now.c1_freq,'c2_freq':now.c2_freq,'c1_strokeN':now.c1_strokeN,'c2_strokeN':now.c2_strokeN})\n",
      "\n",
      "    table = pd.DataFrame(stimli,columns=['WordID','Prime','Target','PrimeAcc','TargetAcc','PrimePos','w_freq','c1_freq','c2_freq','c1_strokeN','c2_strokeN'])\n",
      "    \n",
      "    part1 = table[:len(table)//2]\n",
      "    part2 = table[len(table)//2:]\n",
      "    samplePosL = part1[part1.PrimePos==0]\n",
      "    samplePosR = part2[part2.PrimePos==1]\n",
      "    comb = samplePosL.append(samplePosR)\n",
      "\n",
      "    if conditions == None:\n",
      "        result = comb.reindex(random.permutation(comb.index))\n",
      "    else:\n",
      "        result = randomInBlock(comb,conditions,2)\n",
      "    return result\n",
      "\n",
      "tdata = rawdata[(rawdata.w_freq<30000) & (rawdata.c1_freq>100000) & (rawdata.c1_freq>100000) & (rawdata.c1_strokeN.isin(range(7,14))) & (rawdata.c2_strokeN.isin(range(7,14)))]\n",
      "tdata.index = list(range(len(tdata)))\n",
      "\n",
      "practice_data=tdata[:4]\n",
      "experiment_data=tdata[4:]\n",
      "sampleNum = 40\n",
      "sampleIdx = random.choice(list(range(4,len(experiment_data))),sampleNum)\n",
      "\n",
      "practiceTable = factory(practice_data,[0,1,2,3])\n",
      "practiceTable.to_csv('d:\\\\stims_block0.csv')\n",
      "\n",
      "blockTables = factory(experiment_data,sampleIdx,{'PrimeAcc':[0,1],'TargetAcc':[0,1],'PrimePos':[0,1]})\n",
      "for i,blockTable in enumerate(blockTables):\n",
      "    blockTable.to_csv('d:\\\\stims_block'+str(i+1)+'.csv')"
     ],
     "language": "python",
     "metadata": {},
     "outputs": [],
     "prompt_number": 25
    },
    {
     "cell_type": "code",
     "collapsed": false,
     "input": [
      "def factory(data,idx):\n",
      "    stimli =[]\n",
      "    for wordID,i in enumerate(idx):\n",
      "        now = data.ix[i]\n",
      "        for Target,TargetAcc in ((now.word,1),(now.pseudo_word,0)):\n",
      "            for PrimePos in (0,1):\n",
      "                for Prime,PrimeAcc in ((Target[PrimePos],1),(now.match[PrimePos][TargetAcc],0)):    \n",
      "                    stimli.append({'WordID':wordID,'Prime':Prime,'Target':Target,\n",
      "                     'PrimeAcc':PrimeAcc,'TargetAcc':TargetAcc,'PrimePos':PrimePos,\n",
      "                     'w_freq':now.w_freq,'c1_freq':now.c1_freq,'c2_freq':now.c2_freq,'c1_strokeN':now.c1_strokeN,'c2_strokeN':now.c2_strokeN})\n",
      "\n",
      "    table = pd.DataFrame(stimli,columns=['WordID','Prime','Target','PrimeAcc','TargetAcc','PrimePos','w_freq','c1_freq','c2_freq','c1_strokeN','c2_strokeN'])\n",
      "    \n",
      "    part1 = table[:len(table)//2]\n",
      "    part2 = table[len(table)//2:]\n",
      "    samplePosL = part1[part1.PrimePos==0]\n",
      "    samplePosR = part2[part2.PrimePos==1]\n",
      "    result = samplePosL.append(samplePosR)\n",
      "    result = result.reindex(random.permutation(result.index))\n",
      "    result.index = list(range(len(result)))\n",
      "    return result\n",
      "\n",
      "practice_data=rawdata[:4]\n",
      "experiment_data=rawdata[4:]\n",
      "sampleNum = 32\n",
      "sampleIdx = random.choice(list(range(4,len(experiment_data))),sampleNum)\n",
      "\n",
      "practiceTable = factory(practice_data,[0,1,2,3])\n",
      "stimliTable = factory(experiment_data,sampleIdx)\n",
      "practiceTable.to_csv('d:\\\\stims_block0.csv')\n",
      "stimliTable.to_csv('d:\\\\stims_block1.csv')"
     ],
     "language": "python",
     "metadata": {},
     "outputs": [],
     "prompt_number": 169
    }
   ],
   "metadata": {}
  }
 ]
}