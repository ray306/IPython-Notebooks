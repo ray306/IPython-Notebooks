{
 "metadata": {
  "name": "",
  "signature": "sha256:0dd44c9c8fa555d6662e1c269fae0b8a823b662f58095a4d1bf9b44a6ad8242d"
 },
 "nbformat": 3,
 "nbformat_minor": 0,
 "worksheets": [
  {
   "cells": [
    {
     "cell_type": "code",
     "collapsed": false,
     "input": [
      "%pylab inline\n",
      "import pandas as pd\n",
      "path='D:\\\\Coding\\\\py\\\\py3\\\\experiment\\\\'\n",
      "data = pd.concat([pd.read_csv(path+'result_block'+str(i)+'.csv',encoding='utf-8') for i in range(1,5)])\n",
      "data.targetIsTrue = data.targetIsTrue == 1\n",
      "data.respKey = data.respKey == 'z'\n",
      "\n",
      "data.insert(11,'Acc',None)\n",
      "data.Acc = True - (data.respKey ^ data.targetIsTrue)"
     ],
     "language": "python",
     "metadata": {},
     "outputs": [
      {
       "output_type": "stream",
       "stream": "stdout",
       "text": [
        "Populating the interactive namespace from numpy and matplotlib\n"
       ]
      }
     ],
     "prompt_number": 11
    },
    {
     "cell_type": "code",
     "collapsed": false,
     "input": [
      "for i in range(1,5):\n",
      "    data = pd.read_csv(path+'result_block'+str(i)+'.csv',encoding='utf-8')\n",
      "    data.targetIsTrue = data.targetIsTrue == 1\n",
      "    data.respKey = data.respKey == 'z'\n",
      "\n",
      "    data.insert(11,'Acc',None)\n",
      "    data.Acc = True - (data.respKey ^ data.targetIsTrue)\n",
      "    group_bigram = []\n",
      "    group_control = []\n",
      "    group_diff=[]\n",
      "    # correctResp = set(range(144)) - set(list(data[(data.Acc==False)|(data.RT=='None')]['Unnamed: 0']))\n",
      "    li = [1,2,4,7,8,10,11,12,15,20,22,26,28,32,34,37,42,45,47,50,64,65,67,72,74,75,77,79,90,91,93,94,104,111,117,120,124,125,128,130,131,132,139,140,141,143]\n",
      "    \n",
      "    correctResp = set(range(144))\n",
      "    for i,now in data.iterrows():\n",
      "\n",
      "        if now.bigram==1 and now.targetIsTrue==True:\n",
      "            group_bigram.append(int(now.RT))\n",
      "        elif now.bigram==0 and now.targetIsTrue==True:\n",
      "            group_control.append(int(now.RT))\n",
      "\n",
      "    print(mean(group_bigram),mean(group_control))"
     ],
     "language": "python",
     "metadata": {},
     "outputs": [
      {
       "output_type": "stream",
       "stream": "stdout",
       "text": [
        "465.666666667 472.0\n",
        "557.666666667 527.666666667\n",
        "513.666666667 423.0\n",
        "470.0 512.333333333\n"
       ]
      }
     ],
     "prompt_number": 44
    },
    {
     "cell_type": "code",
     "collapsed": false,
     "input": [
      "a=[]\n",
      "b=[]\n",
      "c=[]\n",
      "group_bigram = []\n",
      "group_control = []\n",
      "group_diff=[]\n",
      "\n",
      "data.rename(columns = {'Unnamed: 0':'idx'}, inplace=True)\n",
      "# data[data['idx'].isin(correctResp)].to_csv(path+'result.csv')\n",
      "\n",
      "# correctResp = set(range(144)) - set(list(data[(data.Acc==False)|(data.RT=='None')]['Unnamed: 0']))\n",
      "li = [1,2,4,7,8,10,11,12,15,20,22,26,28,32,34,37,42,45,47,50,64,65,67,72,74,75,77,79,90,91,93,94,104,111,117,120,124,125,128,130,131,132,139,140,141,143]\n",
      "correctResp = set(data['idx'])\n",
      "for i in correctResp:\n",
      "    now = data[data['idx']==i]\n",
      "    bigram_false = int(now[(now.bigram==1) & (now.targetIsTrue==False)].RT.values[0])\n",
      "    bigram_true = int(now[(now.bigram==1) & (now.targetIsTrue==True)].RT.values[0])\n",
      "    control_false = int(now[(now.bigram==0) & (now.targetIsTrue==False)].RT.values[0])\n",
      "    control_true = int(now[(now.bigram==0) & (now.targetIsTrue==True)].RT.values[0])\n",
      "    if i in li:\n",
      "        a.append(bigram_true - control_true)\n",
      "    else:\n",
      "        b.append(bigram_true - control_true)\n",
      "\n",
      "    group_bigram.append(bigram_true-bigram_false)\n",
      "    group_control.append(control_true-control_false)\n",
      "    group_diff.append(bigram_false-control_false)"
     ],
     "language": "python",
     "metadata": {},
     "outputs": [],
     "prompt_number": 40
    },
    {
     "cell_type": "code",
     "collapsed": false,
     "input": [
      "bigram = []\n",
      "with open('D:\\\\nlp\\\\zh\\\\sogouR.txt') as f:\n",
      "    for l in f:\n",
      "        bigram.append(l.split()[0].replace('-',''))\n",
      "bigram = ' '.join(bigram)      \n",
      "\n",
      "for i in range(144):\n",
      "    p = tuple(data[(data['Unnamed: 0']==i)&(data.bigram==0)&(data.targetIsTrue==True)].prime)[0]\n",
      "    if p in bigram:\n",
      "        print(p)"
     ],
     "language": "python",
     "metadata": {},
     "outputs": [],
     "prompt_number": 2
    },
    {
     "cell_type": "code",
     "collapsed": false,
     "input": [
      "from scipy.stats import ttest_ind\n",
      "from scipy.stats import ttest_rel\n",
      "\n",
      "print(ttest_ind(a,b))\n",
      "print(ttest_rel(a,b))"
     ],
     "language": "python",
     "metadata": {},
     "outputs": [
      {
       "metadata": {},
       "output_type": "pyout",
       "prompt_number": 43,
       "text": [
        "(1.2201481062783315, 0.24792164796067323)"
       ]
      }
     ],
     "prompt_number": 43
    },
    {
     "cell_type": "code",
     "collapsed": false,
     "input": [
      "%pylab inline\n",
      "sortData  = pd.DataFrame(np.array([group_bigram, group_control]))\n",
      "plt.plot(sortData.T.sort_index(by=1).values)\n",
      "# plt.plot(sorted(group_diff))"
     ],
     "language": "python",
     "metadata": {},
     "outputs": [
      {
       "output_type": "stream",
       "stream": "stdout",
       "text": [
        "Populating the interactive namespace from numpy and matplotlib\n"
       ]
      },
      {
       "metadata": {},
       "output_type": "pyout",
       "prompt_number": 31,
       "text": [
        "[<matplotlib.lines.Line2D at 0x7ac8eb8>,\n",
        " <matplotlib.lines.Line2D at 0x7acf278>]"
       ]
      },
      {
       "metadata": {},
       "output_type": "display_data",
       "png": "[encoded data removed]",
       "text": [
        "<matplotlib.figure.Figure at 0x83ef518>"
       ]
      }
     ],
     "prompt_number": 31
    }
   ],
   "metadata": {}
  }
 ]
}