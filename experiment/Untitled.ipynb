{
 "cells": [
  {
   "cell_type": "code",
   "execution_count": 22,
   "metadata": {
    "collapsed": false
   },
   "outputs": [],
   "source": [
    "# coding:utf-8\n",
    "import io\n",
    "import os\n",
    "import sys\n",
    "import numpy as np\n",
    "import pandas as pd\n",
    "import pygame as pg\n",
    "from pygame.locals import *\n",
    "\n",
    "def readStim(filename):\n",
    "    stimuli = pd.read_csv(filename,sep=',',encoding='gbk')\n",
    "    try:\n",
    "        del stimuli['Unnamed: 0']\n",
    "    except:\n",
    "        pass\n",
    "    return stimuli\n",
    "path='D:\\\\Coding\\\\py\\\\py3\\\\experiment\\\\'\n",
    "stimuli= readStim(path+'stimli.csv')\n",
    "\n",
    "pos = [0,0,1,2] * (len(stimuli)//4//4)\n",
    "random_pos = []\n",
    "for i in range(4):\n",
    "    random_pos += np.random.permutation(pos).tolist()\n",
    "stimuli['Pos'] = random_pos"
   ]
  },
  {
   "cell_type": "code",
   "execution_count": 19,
   "metadata": {
    "collapsed": false
   },
   "outputs": [
    {
     "name": "stdout",
     "output_type": "stream",
     "text": [
      "1.00099992752\n"
     ]
    }
   ],
   "source": [
    "import ctypes\n",
    "import time\n",
    "Objdll = ctypes.windll.LoadLibrary(\"inpoutx64.dll\")\n",
    "t=time.time()\n",
    "Objdll.Out32(0xD010,1)\n",
    "while 1:\n",
    "    if (time.time()-t)>1:\n",
    "        Objdll.Out32(0xD010,1)\n",
    "        break\n",
    "print(time.time()-t)"
   ]
  },
  {
   "cell_type": "code",
   "execution_count": 16,
   "metadata": {
    "collapsed": false
   },
   "outputs": [
    {
     "data": {
      "text/plain": [
       "1439705206.722"
      ]
     },
     "execution_count": 16,
     "metadata": {},
     "output_type": "execute_result"
    }
   ],
   "source": [
    "class PParallelInpOut32(object):\n",
    "    \"\"\"\n",
    "    This class provides read/write access to the parallel port on a PC\n",
    "    using inpout32 (for instance for Windows 7 64-bit)\n",
    "    \"\"\"\n",
    "    def __init__(self, address=0xD010):\n",
    "\n",
    "\n",
    "        from numpy import uint8\n",
    "        from ctypes import windll\n",
    "\n",
    "        if isinstance(address, basestring) and address.startswith('0x'): #convert u\"0x0378\" into 0x0378\n",
    "            self.base = int(address, 16)\n",
    "        else:\n",
    "            self.base = address\n",
    "        self.port = windll.inpout32\n",
    "\n",
    "        BYTEMODEMASK = uint8(1 << 5 | 1 << 6 | 1 << 7)\n",
    "\n",
    "        # Put the port into Byte Mode (ECP register)\n",
    "        self.port.Out32( self.base + 0x402,\n",
    "                    int((self.port.Inp32(self.base + 0x402) & ~BYTEMODEMASK) | (1 << 5)) )\n",
    "\n",
    "        # Now to make sure the port is in output mode we need to make\n",
    "        # sure that bit 5 of the control register is not set\n",
    "        self.port.Out32( self.base + 2, int(self.port.Inp32(self.base + 2) & ~uint8( 1 << 5 )) )\n",
    "        self.status = None\n",
    "\n",
    "    def setData(self, data):\n",
    "        self.port.Out32( self.base, data )\n",
    "\n",
    "    def setPin(self, pinNumber, state):\n",
    "        \"\"\"Set a desired pin to be high(1) or low(0).\n",
    "\n",
    "        Only pins 2-9 (incl) are normally used for data output::\n",
    "\n",
    "            parallel.setPin(3, 1)#sets pin 3 high\n",
    "            parallel.setPin(3, 0)#sets pin 3 low\n",
    "        \"\"\"\n",
    "        # I can't see how to do this without reading and writing the data\n",
    "        if state:\n",
    "            self.port.Out32( self.base, self.port.Inp32( self.base ) | (2**(pinNumber-2)) )\n",
    "        else:\n",
    "            self.port.Out32( self.base, self.port.Inp32( self.base ) & (255 ^ 2**(pinNumber-2)) )"
   ]
  },
  {
   "cell_type": "code",
   "execution_count": 5,
   "metadata": {
    "collapsed": false
   },
   "outputs": [
    {
     "name": "stdout",
     "output_type": "stream",
     "text": [
      "The slowest run took 60.92 times longer than the fastest. This could mean that an intermediate result is being cached \n",
      "1000000 loops, best of 3: 595 ns per loop\n",
      "The slowest run took 8.15 times longer than the fastest. This could mean that an intermediate result is being cached \n",
      "1000000 loops, best of 3: 593 ns per loop\n"
     ]
    }
   ],
   "source": [
    "import ctypes\n",
    "Objdll = ctypes.windll.LoadLibrary(\"inpoutx64.dll\")\n",
    "%timeit Objdll.Out32(0xD010,1)\n",
    "%timeit Objdll.Out32(0xD010,31)"
   ]
  },
  {
   "cell_type": "code",
   "execution_count": 23,
   "metadata": {
    "collapsed": false
   },
   "outputs": [
    {
     "data": {
      "text/plain": [
       "60"
      ]
     },
     "execution_count": 23,
     "metadata": {},
     "output_type": "execute_result"
    }
   ],
   "source": [
    "len(stimuli[(stimuli.WholeAcc==1)&(stimuli.LeftAcc==1)&(stimuli.Pos==0)])"
   ]
  }
 ],
 "metadata": {
  "kernelspec": {
   "display_name": "Python 3",
   "language": "python",
   "name": "python3"
  },
  "language_info": {
   "codemirror_mode": {
    "name": "ipython",
    "version": 3
   },
   "file_extension": ".py",
   "mimetype": "text/x-python",
   "name": "python",
   "nbconvert_exporter": "python",
   "pygments_lexer": "ipython3",
   "version": "3.4.3"
  }
 },
 "nbformat": 4,
 "nbformat_minor": 0
}
