{
 "cells": [
  {
   "cell_type": "code",
   "execution_count": 4,
   "metadata": {
    "collapsed": false
   },
   "outputs": [],
   "source": [
    "import pygame.mixer\n",
    "pygame.init()\n",
    "pygame.display.set_mode((800,600), pygame.HWSURFACE | pygame.DOUBLEBUF)\n",
    "pygame.mixer.pre_init(44100, -16, 2)\n",
    "pygame.mixer.music.load('F:\\\\Coding\\\\py\\\\py3\\\\experiment_test\\\\0040.mp3')\n",
    "pygame.mixer.music.play(0)"
   ]
  },
  {
   "cell_type": "code",
   "execution_count": 13,
   "metadata": {
    "collapsed": false
   },
   "outputs": [],
   "source": [
    "import pygame\n",
    "import numpy as np\n",
    "import math\n",
    "import time\n",
    "\n",
    "sample_rate = 44100\n",
    "bits = 16\n",
    "duration = 2\n",
    "total_sample = int(sample_rate*2)\n",
    "#setup our numpy array to handle 16 bit ints, which is what we set our mixer to expect with \"bits\" up above\n",
    "sound = np.zeros((total_sample, 2), dtype = numpy.int16)\n",
    "max_sample = 2**(bits - 1) - 1\n",
    "\n",
    "#convert the frequences to sinusoid, and put them into the sound object\n",
    "\n",
    "for s in range(total_sample):\n",
    "    t = float(s)/sample_rate    # time in seconds\n",
    "    sound[s] = int(round(max_sample*math.sin(2*math.pi*1000*t)))\n",
    "\n",
    "#淡入淡出背景音音轨5ms\n",
    "segment = int(44100*0.01)\n",
    "start = sound[:,0][:segment]*np.array(list(range(segment)))//segment\n",
    "start = np.array(start,int)\n",
    "end = sound[:,0][-segment:]*np.array(list(range(segment,0,-1)))//segment\n",
    "end = np.array(end,int)\n",
    "sound[:,0][:segment] = start\n",
    "sound[:,0][-segment:] = end\n",
    "sound[:,1][:segment] = start\n",
    "sound[:,1][-segment:] = end\n",
    "\n",
    "\n",
    "#pygame environment\n",
    "pygame.mixer.pre_init(sample_rate, -bits, 2)\n",
    "pygame.init()\n",
    "pygame.display.set_mode((800,600), pygame.HWSURFACE | pygame.DOUBLEBUF)\n",
    "music = pygame.sndarray.make_sound(sound)\n",
    "music.play(0)\n",
    "time.sleep(duration)\n",
    "pygame.quit()"
   ]
  },
  {
   "cell_type": "code",
   "execution_count": 7,
   "metadata": {
    "collapsed": false
   },
   "outputs": [
    {
     "data": {
      "text/plain": [
       "array([     0,   4653,   9211, ..., -13583,  -9211,  -4653], dtype=int16)"
      ]
     },
     "execution_count": 7,
     "metadata": {},
     "output_type": "execute_result"
    }
   ],
   "source": [
    "sound[:,0]"
   ]
  },
  {
   "cell_type": "code",
   "execution_count": null,
   "metadata": {
    "collapsed": false
   },
   "outputs": [],
   "source": [
    "import wave \n",
    "import struct \n",
    "import matplotlib.pyplot as plt \n",
    " \n",
    "data_set = [] \n",
    "f = wave.open('2.0@2_0.5.wav', 'r') \n",
    "print('[+] WAV parameters ',f.getparams() )\n",
    "print('[+] No. of Frames ',f.getnframes() )\n",
    "for i in range(f.getnframes()): \n",
    "    single_frame = f.readframes(1)\n",
    "    sint = struct.unpack('<h', single_frame)[0]\n",
    "    data_set.append(sint) \n",
    "f.close() \n",
    "plt.plot(data_set) \n",
    "plt.ylabel('Amplitude')\n",
    "plt.xlabel('Time') \n",
    "plt.show()"
   ]
  },
  {
   "cell_type": "code",
   "execution_count": 40,
   "metadata": {
    "collapsed": false
   },
   "outputs": [
    {
     "name": "stdout",
     "output_type": "stream",
     "text": [
      "Populating the interactive namespace from numpy and matplotlib\n"
     ]
    }
   ],
   "source": [
    "%pylab inline\n",
    "import wave \n",
    "import struct \n",
    "import matplotlib.pyplot as plt \n",
    "\n",
    "## 制作主音轨\n",
    "wr1 = wave.open('G:/English/word/词以类记/006环境.wav', 'r') \n",
    "par1 = list(wr1.getparams()) # Get the parameters from the input.\n",
    "\n",
    "# 读取9s后的数据\n",
    "trim = 44100*9 \n",
    "wr1.readframes(trim)\n",
    "primary = wr1.readframes(wr1.getnframes()-trim)\n",
    "\n",
    "da1 = np.fromstring(primary, dtype=np.int16)\n",
    "da1 = np.append(repeat([0,0],44100*5), da1)\n",
    "wr1.close()\n",
    "\n",
    "## 制作背景音音轨\n",
    "wr2 = wave.open('D:/Tsuki Kasa.wav', 'r') \n",
    "par2 = list(wr2.getparams()) # Get the parameters from the input.\n",
    "\n",
    "if par2[3]>par1[3]:\n",
    "    da2 = np.fromstring(wr2.readframes(wr.getnframes()-1), dtype=np.int16)\n",
    "else:\n",
    "    da2 = np.fromstring(wr2.readframes(wr2.getnframes()), dtype=np.int16)\n",
    "    # 重复此sound,直到和主音轨长度一致\n",
    "    da2_t = []\n",
    "    while len(da2_t)<len(da1):\n",
    "        da2_t = np.append(da2_t,da2)\n",
    "    da2 = da2_t[:len(da1)]\n",
    "\n",
    "#淡入淡出背景音音轨1s\n",
    "start = da2[:44100]*np.array(list(range(44100)))//44100\n",
    "start = np.array(start,int)\n",
    "end = da2[-44100:]*np.array(list(range(44100,0,-1)))//44100\n",
    "end = np.array(end,int)\n",
    "da2[:44100] = start\n",
    "da2[-44100:] = end\n",
    "\n",
    "wr2.close()\n",
    "\n",
    "da3 = da1 + da2\n",
    "ns = np.column_stack(da3).ravel().astype(np.int16)\n",
    "\n",
    "with wave.open('G:/English/word/006环境.wav', 'w') as writer:\n",
    "    par[3] = 0 # The number of samples will be set by writeframes\n",
    "    writer.setparams(tuple(par)) # Use the same parameters as the input file.\n",
    "    writer.writeframes(ns.tostring())\n"
   ]
  },
  {
   "cell_type": "code",
   "execution_count": 15,
   "metadata": {
    "collapsed": false
   },
   "outputs": [
    {
     "name": "stdout",
     "output_type": "stream",
     "text": [
      "[1, 2, 44100, 17640, 'NONE', 'not compressed']\n"
     ]
    }
   ],
   "source": [
    "import wave \n",
    "wr1 = wave.open('F:\\\\Coding\\\\py\\\\py3\\\\experiment_test\\\\1000hz.wav', 'r') \n",
    "par1 = list(wr1.getparams()) # Get the parameters from the input.\n",
    "print(par1)"
   ]
  },
  {
   "cell_type": "code",
   "execution_count": 16,
   "metadata": {
    "collapsed": false
   },
   "outputs": [
    {
     "data": {
      "text/plain": [
       "0.4"
      ]
     },
     "execution_count": 16,
     "metadata": {},
     "output_type": "execute_result"
    }
   ],
   "source": [
    "17640/44100"
   ]
  },
  {
   "cell_type": "code",
   "execution_count": null,
   "metadata": {
    "collapsed": true
   },
   "outputs": [],
   "source": [
    "\n",
    "#单文件测试\n",
    "\n",
    "%pylab inline\n",
    "import wave \n",
    "import struct \n",
    "import matplotlib.pyplot as plt \n",
    "\n",
    "data_set = [] \n",
    "wr = wave.open('G:/English/word/词以类记/006环境.wav', 'r') \n",
    "\n",
    "par = list(wr.getparams()) # Get the parameters from the input.\n",
    "par[3] = 0 # The number of samples will be set by writeframes\n",
    "\n",
    "trim = 44100*9 # Read and process 1 second at a time.\n",
    "wr.readframes(trim)\n",
    "blank = np.fromstring(wr.readframes(1), dtype=np.int16)\n",
    "da = np.fromstring(wr.readframes(wr.getnframes()-trim), dtype=np.int16)\n",
    "da = np.append(repeat(blank,44100*9), da)\n",
    "ns = np.column_stack(da).ravel().astype(np.int16)\n",
    "wr.close()\n",
    "\n",
    "with wave.open('G:/English/word/006环境.wav', 'w') as writer:\n",
    "    writer.setparams(tuple(par)) # Use the same parameters as the input file.\n",
    "    writer.writeframes(ns.tostring())\n"
   ]
  },
  {
   "cell_type": "code",
   "execution_count": 10,
   "metadata": {
    "collapsed": true
   },
   "outputs": [],
   "source": [
    "with wave.open('G:/English/word/006环境.wav', 'w') as writer:\n",
    "    writer.setparams(tuple(par)) # Use the same parameters as the input file.\n",
    "    writer.writeframes(ns.tostring())"
   ]
  },
  {
   "cell_type": "code",
   "execution_count": 3,
   "metadata": {
    "collapsed": false
   },
   "outputs": [
    {
     "name": "stdout",
     "output_type": "stream",
     "text": [
      "Populating the interactive namespace from numpy and matplotlib\n"
     ]
    }
   ],
   "source": [
    "%pylab inline\n",
    "import wave \n",
    "import struct \n",
    "import matplotlib.pyplot as plt \n",
    "import os\n",
    "\n",
    "path = 'G:/English/word/词以类记－TOEFL.iBT词汇/'\n",
    "\n",
    "for file in os.listdir(path): \n",
    "    if '.mp3' not in file:\n",
    "        continue\n",
    "    wr = wave.open(os.path.join(path, file), 'r')\n",
    "    par = list(wr.getparams()) # Get the parameters from the input.\n",
    "    # This file is stereo, 2 bytes/sample, 44.1 kHz.\n",
    "    par[3] = 0 # The number of samples will be set by writeframes\n",
    "\n",
    "    trim = 44100*9 # Read and process 1 second at a time.\n",
    "    wr.readframes(trim)\n",
    "    blank = np.fromstring(wr.readframes(1), dtype=np.int16)\n",
    "    da = np.fromstring(wr.readframes(wr.getnframes()-trim), dtype=np.int16)\n",
    "    da = np.append(repeat(blank,44100*5), da)\n",
    "    ns = np.column_stack(da).ravel().astype(np.int16)\n",
    "    wr.close()\n",
    "\n",
    "    with wave.open('G:/English/word/词以类记/' + file, 'w') as writer:\n",
    "        writer.setparams(tuple(par)) # Use the same parameters as the input file.\n",
    "        writer.writeframes(ns.tostring())\n",
    "    "
   ]
  },
  {
   "cell_type": "code",
   "execution_count": null,
   "metadata": {
    "collapsed": false
   },
   "outputs": [],
   "source": [
    "from matplotlib.mlab import find\n",
    "import pyaudio\n",
    "import numpy as np\n",
    "import math\n",
    "from array import array\n",
    "from sys import byteorder\n",
    "\n",
    "noteStrings = [\"C\", \"C#\", \"D\", \"D#\", \"E\", \"F\", \"F#\", \"G\", \"G#\", \"A\", \"A#\", \"B\"]\n",
    "\n",
    "def noteFromPitch( frequency ):\n",
    "    noteNum = 12 * (math.log( frequency / 440 )/math.log(2) )\n",
    "    return round( noteNum ) + 69\n",
    "\n",
    "def noteName(noteID):\n",
    "    distance2C = noteID -60\n",
    "    return noteStrings[distance2C%12],distance2C//12+2\n",
    "\n",
    "chunk = 1024\n",
    "FORMAT = pyaudio.paInt16\n",
    "CHANNELS = 1\n",
    "RATE = 44100\n",
    "RECORD_SECONDS = 20\n",
    "\n",
    "def Pitch(signal):\n",
    "    signal = np.fromstring(signal, 'Int16');\n",
    "    crossing = [math.copysign(1.0, s) for s in signal]\n",
    "    index = find(np.diff(crossing));\n",
    "    return round(len(index) *RATE /(2*np.prod(len(signal))))\n",
    "\n",
    "p = pyaudio.PyAudio()\n",
    "stream = p.open(format = FORMAT,channels = CHANNELS,rate = RATE,input = True,output = True,frames_per_buffer = chunk)\n",
    "\n",
    "lastNote = -1\n",
    "sheet = []\n",
    "for i in range(0, RATE // chunk * RECORD_SECONDS):\n",
    "    data = stream.read(chunk)\n",
    "    Frequency=Pitch(data)\n",
    "    snd_data = array('h', data)\n",
    "    if byteorder == 'big':\n",
    "        snd_data.byteswap()\n",
    "    if max(snd_data) >500:\n",
    "        note = noteFromPitch(Frequency)\n",
    "        if lastNote != note:\n",
    "            lastNote = note\n",
    "            print(noteName(note))\n",
    "#     else:\n",
    "#         note = 0\n",
    "#     sheet.append(note)\n",
    "\n",
    "# plot([sum(sheet[i-2:i+3])//4 for i in range(2,len(sheet)-1)], 'ro')"
   ]
  },
  {
   "cell_type": "code",
   "execution_count": 103,
   "metadata": {
    "collapsed": false
   },
   "outputs": [
    {
     "name": "stdout",
     "output_type": "stream",
     "text": [
      "Populating the interactive namespace from numpy and matplotlib\n"
     ]
    },
    {
     "name": "stderr",
     "output_type": "stream",
     "text": [
      "WARNING: pylab import has clobbered these variables: ['record', 'datetime', 'normalize', 'array']\n",
      "`%matplotlib` prevents importing * from pylab and numpy\n"
     ]
    },
    {
     "data": {
      "text/plain": [
       "[<matplotlib.lines.Line2D at 0xaa595f8>]"
      ]
     },
     "execution_count": 103,
     "metadata": {},
     "output_type": "execute_result"
    },
    {
     "data": {
      "image/png": "[encoded data removed]",
      "text/plain": [
       "<matplotlib.figure.Figure at 0x9fae550>"
      ]
     },
     "metadata": {},
     "output_type": "display_data"
    }
   ],
   "source": [
    "%pylab inline\n",
    "fs, sig = wavfile.read('2015-03-26_15_25_27.wav')\n",
    "plot(sig)"
   ]
  },
  {
   "cell_type": "code",
   "execution_count": 7,
   "metadata": {
    "collapsed": false
   },
   "outputs": [],
   "source": [
    "def smooth(x,window_len=11,window='hanning'):\n",
    "    \"\"\"smooth the data using a window with requested size.\n",
    "    \n",
    "    This method is based on the convolution of a scaled window with the signal.\n",
    "    The signal is prepared by introducing reflected copies of the signal \n",
    "    (with the window size) in both ends so that transient parts are minimized\n",
    "    in the begining and end part of the output signal.\n",
    "    \n",
    "    input:\n",
    "        x: the input signal \n",
    "        window_len: the dimension of the smoothing window; should be an odd integer\n",
    "        window: the type of window from 'flat', 'hanning', 'hamming', 'bartlett', 'blackman'\n",
    "            flat window will produce a moving average smoothing.\n",
    "\n",
    "    output:\n",
    "        the smoothed signal\n",
    "        \n",
    "    example:\n",
    "\n",
    "    t=linspace(-2,2,0.1)\n",
    "    x=sin(t)+randn(len(t))*0.1\n",
    "    y=smooth(x)\n",
    "    \n",
    "    see also: \n",
    "    \n",
    "    numpy.hanning, numpy.hamming, numpy.bartlett, numpy.blackman, numpy.convolve\n",
    "    scipy.signal.lfilter\n",
    " \n",
    "    TODO: the window parameter could be the window itself if an array instead of a string\n",
    "    NOTE: length(output) != length(input), to correct this: return y[(window_len/2-1):-(window_len/2)] instead of just y.\n",
    "    \"\"\"\n",
    "\n",
    "    if x.ndim != 1:\n",
    "        raise(ValueError, \"smooth only accepts 1 dimension arrays.\")\n",
    "\n",
    "    if x.size < window_len:\n",
    "        raise(ValueError, \"Input vector needs to be bigger than window size.\")\n",
    "\n",
    "\n",
    "    if window_len<3:\n",
    "        return x\n",
    "\n",
    "\n",
    "    s=numpy.r_[x[window_len-1:0:-1],x,x[-1:-window_len:-1]]\n",
    "    #print(len(s))\n",
    "    if window == 'flat': #moving average\n",
    "        w=numpy.ones(window_len,'d')\n",
    "    else:\n",
    "        w=eval('numpy.'+window+'(window_len)')\n",
    "\n",
    "    y=numpy.convolve(w/w.sum(),s,mode='valid')\n",
    "    return y"
   ]
  }
 ],
 "metadata": {
  "kernelspec": {
   "display_name": "Python 3",
   "language": "python",
   "name": "python3"
  },
  "language_info": {
   "codemirror_mode": {
    "name": "ipython",
    "version": 3
   },
   "file_extension": ".py",
   "mimetype": "text/x-python",
   "name": "python",
   "nbconvert_exporter": "python",
   "pygments_lexer": "ipython3",
   "version": "3.4.3"
  }
 },
 "nbformat": 4,
 "nbformat_minor": 0
}
