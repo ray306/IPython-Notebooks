{
 "cells": [
  {
   "cell_type": "code",
   "execution_count": 8,
   "metadata": {
    "collapsed": false
   },
   "outputs": [
    {
     "name": "stdout",
     "output_type": "stream",
     "text": [
      "42453\n",
      "42453\n",
      "163920\n",
      "163920\n"
     ]
    }
   ],
   "source": [
    "# phase vocoder example https://audioprograming.wordpress.com/2012/03/02/a-phase-vocoder-in-python/\n",
    "import sys\n",
    "from scipy import *\n",
    "from pylab import *\n",
    "from scipy.io import wavfile\n",
    "import pandas as pd\n",
    "\n",
    "def stretch(sound_array, f):\n",
    "    N = 256 #window_size\n",
    "    win = np.hanning(N)\n",
    "    H = N/4\n",
    "    # read input and get the timescale factor\n",
    "    (sr,signalin) = wavfile.read(sound_array)\n",
    "    try:\n",
    "        signalin = signalin[:,1]\n",
    "    except:\n",
    "        pass\n",
    "        \n",
    "    L = len(signalin)\n",
    "    print(L)\n",
    "    tscale = float(f)\n",
    "    # signal blocks for processing and output\n",
    "    phi = np.zeros(N)\n",
    "    out = np.zeros(N, dtype=complex)\n",
    "    sigout = np.zeros(L/tscale+N)\n",
    "    try:\n",
    "        signalin = signalin[:,1]\n",
    "    except:\n",
    "        pass\n",
    "    # max input amp, window\n",
    "    amp = max(signalin)\n",
    "    \n",
    "    p = 0\n",
    "    pp = 0\n",
    "\n",
    "    while p < L-(N+H):\n",
    "        # take the spectra of two consecutive windows\n",
    "        p1 = int(p)\n",
    "        spec1 =  fft(win*signalin[p1:p1+N])\n",
    "        spec2 =  fft(win*signalin[p1+H:p1+N+H])\n",
    "        # take their phase difference and integrate\n",
    "        phi += (angle(spec2) - angle(spec1))\n",
    "        # bring the phase back to between pi and -pi\n",
    "        while phi[0]< -pi: \n",
    "            phi += 2*pi\n",
    "        while phi[0] >= pi: \n",
    "            phi -= 2*pi\n",
    "        out.real, out.imag = cos(phi), sin(phi)\n",
    "        # inverse FFT and overlap-add\n",
    "        sigout[pp:pp+N] += win*ifft(abs(spec2)*out)\n",
    "        pp += H\n",
    "        p += H*tscale\n",
    "\n",
    "    #  write file to output, scaling it to original amp\n",
    "    wavfile.write(str(f)+'@'+sound_array,sr,array(amp*sigout/max(sigout), dtype='int16'))\n",
    "\n",
    "\n",
    "sounds = pd.read_csv('files.csv',sep=',',encoding='gbk')\n",
    "for s in sounds.iterrows():\n",
    "    stretch(s[1].file,s[1].speed)"
   ]
  },
  {
   "cell_type": "code",
   "execution_count": null,
   "metadata": {
    "collapsed": false
   },
   "outputs": [],
   "source": [
    "def stretch(sound_array, f, window_size, h):\n",
    "    \"\"\" 将音频按系数`f`拉伸 \"\"\"\n",
    " \n",
    "    phase  = np.zeros(window_size)\n",
    "    hanning_window = np.hanning(window_size)\n",
    "    result = np.zeros( len(sound_array) /f + window_size)\n",
    " \n",
    "    for i in np.arange(0, len(sound_array)-(window_size+h), h*f):\n",
    " \n",
    "        # 两个可能互相重叠的子数列\n",
    "        a1 = sound_array[i: i + window_size]\n",
    "        a2 = sound_array[i + h: i + window_size + h]\n",
    " \n",
    "        # 按第一个数列重新同步第二个数列\n",
    "        s1 =  np.fft.fft(hanning_window * a1)\n",
    "        s2 =  np.fft.fft(hanning_window * a2)\n",
    "        phase = (phase + np.angle(s2/s1)) % 2*np.pi\n",
    "        a2_rephased = np.fft.ifft(np.abs(s2)*np.exp(1j*phase))\n",
    " \n",
    "        # 加入到结果中\n",
    "        i2 = int(i/f)\n",
    "        result[i2 : i2 + window_size] += hanning_window*a2_rephased\n",
    " \n",
    "    result = ((2**(16-4)) * result/result.max()) # 归一化 (16bit)\n",
    " \n",
    "    return result.astype('int16')"
   ]
  }
 ],
 "metadata": {
  "kernelspec": {
   "display_name": "Python 3",
   "language": "python",
   "name": "python3"
  },
  "language_info": {
   "codemirror_mode": {
    "name": "ipython",
    "version": 3
   },
   "file_extension": ".py",
   "mimetype": "text/x-python",
   "name": "python",
   "nbconvert_exporter": "python",
   "pygments_lexer": "ipython3",
   "version": "3.4.3"
  }
 },
 "nbformat": 4,
 "nbformat_minor": 0
}
