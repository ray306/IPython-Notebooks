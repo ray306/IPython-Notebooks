{
 "cells": [
  {
   "cell_type": "code",
   "execution_count": 1,
   "metadata": {
    "collapsed": false
   },
   "outputs": [],
   "source": [
    "text='0x51, 0x2d, 0x28, 0x95, 0x12, 0xeb, 0xe6, 0x7c, 0xfa, 0x3a, 0x9f, 0xca, 0x3e, 0xc2, 0x4d, 0x8a, 0xb0, 0x1d, 0x30, 0x18, 0x00, 0x00, 0x00, 0x00, 0xa8, 0x16, 0x94, 0x4a, 0x89, 0x75, 0x73, 0x3e, 0x7d, 0x9d, 0x4f, 0x65, 0x1f, 0xe1, 0x26, 0x45, 0xd8, 0x0e, 0x18, 0x0c, 0x00, 0x00, 0x00, 0x00'"
   ]
  },
  {
   "cell_type": "code",
   "execution_count": 1,
   "metadata": {
    "collapsed": true
   },
   "outputs": [],
   "source": [
    "import pandas as pd\n",
    "\n",
    "a = pd.DataFrame([[1,2,3],[4,5,6]])"
   ]
  },
  {
   "cell_type": "code",
   "execution_count": 26,
   "metadata": {
    "collapsed": false
   },
   "outputs": [
    {
     "data": {
      "text/plain": [
       "'Q-'"
      ]
     },
     "execution_count": 26,
     "metadata": {},
     "output_type": "execute_result"
    }
   ],
   "source": [
    "b'\\x51\\x2d'.decode('utf-8')\n"
   ]
  },
  {
   "cell_type": "code",
   "execution_count": 16,
   "metadata": {
    "collapsed": false
   },
   "outputs": [
    {
     "data": {
      "text/plain": [
       "'0x51\\\\x2d\\\\x28\\\\x95\\\\x12\\\\xeb\\\\xe6\\\\x7c\\\\xfa\\\\x3a\\\\x9f\\\\xca\\\\x3e\\\\xc2\\\\x4d\\\\x8a\\\\xb0\\\\x1d\\\\x30\\\\x18\\\\x00\\\\x00\\\\x00\\\\x00\\\\xa8\\\\x16\\\\x94\\\\x4a\\\\x89\\\\x75\\\\x73\\\\x3e\\\\x7d\\\\x9d\\\\x4f\\\\x65\\\\x1f\\\\xe1\\\\x26\\\\x45\\\\xd8\\\\x0e\\\\x18\\\\x0c\\\\x00\\\\x00\\\\x00\\\\x00'"
      ]
     },
     "execution_count": 16,
     "metadata": {},
     "output_type": "execute_result"
    }
   ],
   "source": [
    "text.replace(', 0','\\\\')"
   ]
  },
  {
   "cell_type": "code",
   "execution_count": 18,
   "metadata": {
    "collapsed": false
   },
   "outputs": [],
   "source": [
    "a=b'\\x51\\x2d\\x28\\x95\\x12\\xeb\\xe6\\x7c\\xfa\\x3a\\x9f\\xca\\x3e\\xc2\\x4d\\x8a\\xb0\\x1d\\x30\\x18\\x00\\x00\\x00\\x00\\xa8\\x16\\x94\\x4a\\x89\\x75\\x73\\x3e\\x7d\\x9d\\x4f\\x65\\x1f\\xe1\\x26\\x45\\xd8\\x0e\\x18\\x0c\\x00\\x00\\x00\\x00'"
   ]
  }
 ],
 "metadata": {
  "kernelspec": {
   "display_name": "Python 3",
   "language": "python",
   "name": "python3"
  },
  "language_info": {
   "codemirror_mode": {
    "name": "ipython",
    "version": 3
   },
   "file_extension": ".py",
   "mimetype": "text/x-python",
   "name": "python",
   "nbconvert_exporter": "python",
   "pygments_lexer": "ipython3",
   "version": "3.4.1"
  }
 },
 "nbformat": 4,
 "nbformat_minor": 0
}
