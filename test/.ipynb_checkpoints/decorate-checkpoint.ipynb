{
 "metadata": {
  "name": "",
  "signature": "sha256:93e92873cafab8c1e5292c29260ef61aa3338ed734b8a0e116884e2e315050c9"
 },
 "nbformat": 3,
 "nbformat_minor": 0,
 "worksheets": [
  {
   "cells": [
    {
     "cell_type": "code",
     "collapsed": false,
     "input": [
      "def a(f):\n",
      "    def wapper(*args):\n",
      "        print(f(*args)+10)\n",
      "    return wapper\n",
      "\n",
      "@a\n",
      "def b(n,m):\n",
      "    return n+m\n",
      "\n",
      "\n",
      "b(20,10)"
     ],
     "language": "python",
     "metadata": {},
     "outputs": []
    }
   ],
   "metadata": {}
  }
 ]
}