{
 "cells": [
  {
   "cell_type": "code",
   "execution_count": 5,
   "metadata": {
    "collapsed": false
   },
   "outputs": [],
   "source": [
    "text='philadelphia observation differ indicate device evidence psychodynamic saturated resemble volcanic steel supplement basin gulf enhance transfer access dispersal highlighted availability musician attract surrounding vast origin immune virtually spear gradually provide fossil initial crust belief study scale extra fuel theme chemical theory detailed industrialization painting traditional investigation ritual cave capacity universe apprentice panel generally band frame machinery delicate form increase Jupiter Ohio artisan portrait gathering scholar skeleton oak puzzling employed local mechanized wheel layer transition ultimately act grass galaxy extent selection edge nervous claim catastrophe viewed agent arrangement cretaceou freight construction moderare merchant geological manufacturing branch relatively nouveau stability root remain nerve structure attained route dutch measure antarctica generated questionnaire coarse national crude ecosystem compound fort rarely upper wire colonial action diet pose greek whale current category consisting earthquake display considered seal article characteristic whig visual reptile symbol trading string proportion diversity apart tract respect imitate lip flourished repress decrease confined cell terrestrial solution object physical independence figure trace reaction location uniform citizen export dweller balance absorb innovation accurate sinking schedule technology jet timberline legislation defense copper mark emotion absence remarkable scarce complex regardless adjacent surface tissue major energy role Pennsylvania mill specimen cucumber aggressive creative vapor rely extracted amount whatever assemble consumed fit replaced volume weapon hydrogen frontier environment maintained opposite columbia formal aid therefore handle effort pollutant nevertheless fragile desire fungus intriguing mirror partially extreme severe hinterland conventional crisis helium intense fluctuate fundamental produced introductory metal pool vent experience grazing engaged pueblo clay feather cattle topic suited vitamin remove square unfortunately abandoned thus essential harlem falcon specific canal forecasting tuna tribe mechanism groundwater sign attempt appear orchestra detect compared organic clue spin wealthy range task cetacean resistance exist region animation bake Atlantic entrance bottom predict motion approach mass supply bacterium drought armat competing shrub semiskilled turbine engraving since destructive refer cycle federal mud decay flexible gap domestic consequence rigid cognitive anthropologist survey effect ideal political literature lichen termite ancient normally residential violin classified item offshore figurine moral sheet iron giant renaissance practical plant migration tropical appealing hypothalamus immediately cultivated missing reduction squirrel barbed psychological affected proposed focus particle ecologist theater atmosphere fiction motif embryo terrain opportunity composed moisture pace emit fragment nutritional crucial firm squeeze parlor climax financial realist glacier represented mineral beam heat obtained imported occur aurora variety type latitude former electron nitrogen previously gas drag brick pterosaur rejected convert hence sentence impulse butterfly distribution twig permitted private primate European substantial sanctuary massive commercial logging pleasure decline encounter extend furthermore decade maria valued agratian wagon center archaeology script slope raw brief huge immigrant primitive protected president century altitude melting sharp relationship fiber portrayed defined revised aquifer voyage roost element readily content block sophisticated enclose apparently carving withstand roof discovered coast possess government preferred stress eventually vision trail microscope combined canopy magnetic conclusion virtue gill wherea prevailing proved valley adequate tide fail electricity explosion dinosaur tablet parasite potash enormou strip favor vessel himalaya roughly facial appropriate well Lo nutrient spot  settler issue style recognized inevitable furniture era ware prevent odor quantity divided permanently occasionally signal internal function involve accumulated economic hypothesis random personal adopt sufficient performance goal evolved maximum substance to stem nest draw fresh regular presented movement period craft publisher precede profit Angele meteorite buried drain invented symptom tulip rapid evident global pot depression population source potential forage core bead zone noticeable significant sculptor prehistoric art conflict justified transformed pure interior comet sustain leadership interaction communication consciousness respond oxygen arch distant factor trapped sieve tube continue technique power adapted continent molecule wherever height preserved concept seek dramatic ceased contributed organism thrive cast probe dissolved occupy distinguished depended crow raised purchase hominid tailed minimum carbon advanced rite stimulated sandstone barrier extinction shelter complicated steam held expression press durable loose satire component subject derived opposed republic shell accompanying shape urge flooded performed texture author silver gain established tension belong attacked cone fireplace depicted liquid activity hole familiar released society reveal expansion deposit award critical manipulated acid marine term plastic commonly dust finch spiral participant representative climate rural landscape individual basis herd response succession debris conserve attention master drilling aspect solid foot acorn realism acquired muscle realization alder academy inner hind artist speculation norwegian method decoration upon reflect demonstrate flat igneou health aesthetic sediment candidate coal tone excavate hatching desert contemporary orchid distinct feeding ash tiny account pole photograph plain splitting threatened progressively culture particular originated collectively sculpture specialized stream reformer frequently throughout unique chain historian scheme positive complete include  community predator analyze conducted status concentration superior overcome ray contrast neolithic transportation enlarged inhabitant illustrate habitat interest rent impact peak active retain watercolor suck appreciate ancestor good column plate biological beneath negative molten behavior condition approximately attitude ordinary perfect stretch pore flight confirmed medium exposed myth pressure restricted instance crack ability border minor canoe cosmic interpret insect emphasize paleolithic bare labor inspired design principal avoid adult prosperity abundance pheromone responsible dominated mask advantage process modified stage prior documented stored pleistocene planet quality petroleum temperate series stable contained semiarid latter margin awareness capital explore project glaze livestock mantle annual struggle expected multiple chip valuable engine datum piano visible california practice native bronze subsequent strength isolated crystal striking folk philosophy erosion worth urban mentioned dye instrument creature of journeyman improvement eroded satisfy cause evolution spread promote pry plankton thereby benefit bill rate democrat crater applied ocean spontaneou mixture boom identified naturally grain exhibition emerging oral assumed religiou serve novel sumerian pottery coutrol textile classical revolution atom solar wing property venu storage based florida entire summary irrigation charged gar mammal encourage architecture chimpanzee portion reverse feature surge corn rise audience physic pacific lack popular union principle due modern primarily mesozoic mississippian skull typically stove influence ceremoney collide ridge geometric force wheat railroad alternative vertebrate eliminate perspective popularity accelerated molt character estimated prey bubble phase related standard ecological equal species civil constant generation dioxide turnpike survive pleasant investment state impression archaeopteryx nucleus'\n",
    "words = text.split(' ')"
   ]
  },
  {
   "cell_type": "code",
   "execution_count": 12,
   "metadata": {
    "collapsed": false
   },
   "outputs": [
    {
     "data": {
      "text/plain": [
       "matrix([[1, 2, 1]], dtype=int32)"
      ]
     },
     "execution_count": 12,
     "metadata": {},
     "output_type": "execute_result"
    }
   ],
   "source": [
    "import scipy\n",
    "from scipy.sparse import lil_matrix\n",
    "t = lil_matrix([[1,2,0],[0,1,1]])\n",
    "t.astype(bool).sum(0)"
   ]
  },
  {
   "cell_type": "code",
   "execution_count": 14,
   "metadata": {
    "collapsed": false
   },
   "outputs": [],
   "source": [
    "with open('d:/1.txt',encoding='utf-8') as f:\n",
    "    text = f.read()"
   ]
  },
  {
   "cell_type": "code",
   "execution_count": 6,
   "metadata": {
    "collapsed": false
   },
   "outputs": [
    {
     "data": {
      "text/plain": [
       "array([  3, 129], dtype=uint32)"
      ]
     },
     "execution_count": 6,
     "metadata": {},
     "output_type": "execute_result"
    }
   ],
   "source": [
    "import numpy as np\n",
    "t = np.array([[1,2],[64,65]],dtype=np.uint8)\n",
    "t.sum(1)"
   ]
  },
  {
   "cell_type": "code",
   "execution_count": 15,
   "metadata": {
    "collapsed": false
   },
   "outputs": [
    {
     "data": {
      "text/plain": [
       "array([  2.49949997e+15,   3.74964990e+16,   1.62490501e+17, ...,\n",
       "         9.99250150e+27,   9.99550021e+27,   9.99850009e+27], dtype=float32)"
      ]
     },
     "execution_count": 15,
     "metadata": {},
     "output_type": "execute_result"
    }
   ],
   "source": [
    "t = np.arange(100000000,dtype=np.single).reshape(10000,10000)\n",
    "t=t**3\n",
    "t.sum(1)"
   ]
  },
  {
   "cell_type": "code",
   "execution_count": 25,
   "metadata": {
    "collapsed": true
   },
   "outputs": [],
   "source": [
    "t = np.arange(100000000,dtype=np.single).reshape(10000,10000)"
   ]
  },
  {
   "cell_type": "code",
   "execution_count": 26,
   "metadata": {
    "collapsed": false
   },
   "outputs": [
    {
     "data": {
      "text/plain": [
       "80"
      ]
     },
     "execution_count": 26,
     "metadata": {},
     "output_type": "execute_result"
    }
   ],
   "source": [
    "import sys\n",
    "sys.getsizeof(np.arange(1000000,dtype=np.double).reshape(1000,1000))"
   ]
  },
  {
   "cell_type": "code",
   "execution_count": 15,
   "metadata": {
    "collapsed": false
   },
   "outputs": [],
   "source": [
    "terms=text.split('\\n\\n')"
   ]
  },
  {
   "cell_type": "code",
   "execution_count": 17,
   "metadata": {
    "collapsed": false
   },
   "outputs": [],
   "source": [
    "n=''\n",
    "for i,t in enumerate(terms):\n",
    "    n += (str(i+1)+'. '+t+'\\n\\n')\n",
    "with open('d:/1.txt','w',encoding='utf-8') as f:\n",
    "    f.write(n)"
   ]
  }
 ],
 "metadata": {
  "kernelspec": {
   "display_name": "Python 3",
   "language": "python",
   "name": "python3"
  },
  "language_info": {
   "codemirror_mode": {
    "name": "ipython",
    "version": 3
   },
   "file_extension": ".py",
   "mimetype": "text/x-python",
   "name": "python",
   "nbconvert_exporter": "python",
   "pygments_lexer": "ipython3",
   "version": "3.4.3"
  }
 },
 "nbformat": 4,
 "nbformat_minor": 0
}
