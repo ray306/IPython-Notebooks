{
 "metadata": {
  "name": "",
  "signature": "sha256:c1256efe020907e957f4b4aa7b49be6bfaaca33f0e83184e001fe8fd628f4cfb"
 },
 "nbformat": 3,
 "nbformat_minor": 0,
 "worksheets": [
  {
   "cells": [
    {
     "cell_type": "code",
     "collapsed": false,
     "input": [
      "a=u'\\u8868'\n",
      "print(a)\n",
      "\n",
      "b=u'\u9a89'\n",
      "print(repr(b)[4:-1].upper())\n",
      "\n",
      "test = '\u54c8\u54c8'\n",
      "unicode(test, 'utf-8')"
     ],
     "language": "python",
     "metadata": {},
     "outputs": []
    }
   ],
   "metadata": {}
  }
 ]
}