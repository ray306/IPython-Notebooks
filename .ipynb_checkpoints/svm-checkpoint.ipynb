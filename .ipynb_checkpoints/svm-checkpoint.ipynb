{
 "metadata": {
  "name": "",
  "signature": "sha256:111d1699ba7f4838076ca6192a6926144d9350bbf4f41a2f9c19c2ac0bb4173a"
 },
 "nbformat": 3,
 "nbformat_minor": 0,
 "worksheets": []
}