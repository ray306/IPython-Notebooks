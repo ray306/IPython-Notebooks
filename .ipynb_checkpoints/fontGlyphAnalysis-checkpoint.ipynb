{
 "metadata": {
  "name": "",
  "signature": "sha256:64918583706cc787d0be39310fe3b65959ed59566ae8fd42ecdee0363d4a6095"
 },
 "nbformat": 3,
 "nbformat_minor": 0,
 "worksheets": []
}