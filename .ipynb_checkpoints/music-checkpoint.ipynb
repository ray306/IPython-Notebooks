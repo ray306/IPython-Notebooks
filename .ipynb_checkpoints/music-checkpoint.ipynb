{
 "metadata": {
  "name": "",
  "signature": "sha256:c16bdf7e3f6fe84c1e1b142a2bf0682b27326e5d422f8857ae99456f6edc8ba7"
 },
 "nbformat": 3,
 "nbformat_minor": 0,
 "worksheets": [
  {
   "cells": [
    {
     "cell_type": "code",
     "collapsed": false,
     "input": [
      "pygame.mixer.pre_init(frequency=96000,size=-16,channels=1)\n",
      "pygame.mixer.music.load('E:/Music/ACG/Rewrite/reply.mp3')\n",
      "pygame.mixer.music.play(-1)"
     ],
     "language": "python",
     "metadata": {},
     "outputs": [],
     "prompt_number": 68
    },
    {
     "cell_type": "code",
     "collapsed": false,
     "input": [
      "# from pygame.locals import *\n",
      "import pygame\n",
      "import math\n",
      "import numpy\n",
      "\n",
      "sheet = [8,7,8,10,7,7,6,5,6,8,5,5,4,3,4,8,7,5,5,6,7,8,10,9,9,9,8,7,8,10,7,5,6,7,8,9,10,10,11,10,9,8,7,10,5,7,6] ## sheet input\n",
      "beat = 0.5 # duration of each note (second)\n",
      "\n",
      "#parameter of sound\n",
      "sample_rate = 44100\n",
      "bits = 16\n",
      "#scales (C Major is 0)\n",
      "scales = [-1,0,2,4,5,7,9,11,12,14,16,17,19,21,23,24]\n",
      "\n",
      "#compute the total time duration and the numner of samples\n",
      "duration = len(sheet)*beat\n",
      "total_sample = int(duration*sample_rate)\n",
      "#setup our numpy array to handle 16 bit ints, which is what we set our mixer to expect with \"bits\" up above\n",
      "sound = numpy.zeros((total_sample, 2), dtype = numpy.int16)\n",
      "max_sample = 2**(bits - 1) - 1\n",
      "\n",
      "#convert the sheet to frequences\n",
      "freqs= []\n",
      "for note in sheet:\n",
      "    for i in range(int(sample_rate*beat)):\n",
      "        pitch = scales[note] + 60 # the pitch of C4 is 60 in MIDI standard\n",
      "        freq = int(440*(2**((pitch-69)/12))) # \u5341\u4e8c\u5e73\u5747\u5f8b\uff08well-tempered system\uff09\n",
      "        freqs.append(freq)\n",
      "#convert the frequences to sinusoid, and put them into the sound object\n",
      "for s in range(total_sample):\n",
      "    t = float(s)/sample_rate    # time in seconds\n",
      "    sound[s] = int(round(max_sample*math.sin(2*math.pi*freqs[s]*t)))\n",
      "\n",
      "\n",
      "\n",
      "#pygame environment\n",
      "pygame.mixer.pre_init(sample_rate, -bits, 2)\n",
      "pygame.init()\n",
      "pygame.display.set_mode((800,600), pygame.HWSURFACE | pygame.DOUBLEBUF)\n",
      "\n",
      "music = pygame.sndarray.make_sound(sound)\n",
      "music.play(0)\n",
      "sleep(duration)\n",
      "pygame.quit()"
     ],
     "language": "python",
     "metadata": {},
     "outputs": [],
     "prompt_number": 171
    }
   ],
   "metadata": {}
  }
 ]
}