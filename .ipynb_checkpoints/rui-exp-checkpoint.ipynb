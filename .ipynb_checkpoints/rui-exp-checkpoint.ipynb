{
 "metadata": {
  "name": "",
  "signature": "sha256:af1479906b67bd78104e7bbb485d0b7f919b752fd25eb4554e16586cac6f0e1f"
 },
 "nbformat": 3,
 "nbformat_minor": 0,
 "worksheets": [
  {
   "cells": [
    {
     "cell_type": "code",
     "collapsed": false,
     "input": [
      "n = 15\n",
      "n2 = n * n\n",
      "# points = np.array(\n",
      "#     [[2, 2], [8, 2], [14, 2], [4, 4], [8, 4], [12, 4], [6, 6], [8, 6], [10, 6], [2, 8], [4, 8], [6, 8],\n",
      "#      [8, 8], [10, 8], [12, 8], [14, 8], [6, 10], [8, 10], [10, 10], [4, 12], [8, 12, ], [12, 12], [2, 14], [8, 14], [14, 14]])\n",
      "points = np.array([[i,i] for i in range(n)])\n",
      "plist = possiblePointsList(n, points)\n",
      "\n",
      "listMat = [[] for i in range(n2)]\n",
      "vert = [set() for i in range(n)]\n",
      "valMat = [''] * n2\n",
      "\n",
      "ableList = list(range(n))\n",
      "shuffle(ableList)\n",
      "valMat[0], listMat[0] = ableList[0], ableList[1:]\n",
      "i = 1\n",
      "\n",
      "t = time()\n",
      "while i < n2:\n",
      "    if i % n ==  0:\n",
      "        vert = [set(valMat[k:i:n]) for k in range(n)]\n",
      "    if valMat[i]!='':\n",
      "        if not listMat[i]:\n",
      "            valMat[i] = ''\n",
      "            i -= 1\n",
      "        else:\n",
      "            valMat[i] = listMat[i].pop()\n",
      "            i += 1\n",
      "    else:\n",
      "        x = i % n\n",
      "        ableList = list(plist[valMat[i - 1]] - (vert[x] | set(valMat[i - x:i])))\n",
      "\n",
      "        if len(ableList) == 1:\n",
      "            valMat[i] = ableList[0]\n",
      "            i += 1\n",
      "        elif not ableList:\n",
      "            i -= 1\n",
      "        else:\n",
      "            #shuffle(ableList)\n",
      "            valMat[i], listMat[i] = ableList[0], ableList[1:]\n",
      "            i += 1\n",
      "\n",
      "print(np.array(valMat, dtype=np.object).reshape((n, n)))\n",
      "print(time() - t)\n"
     ],
     "language": "python",
     "metadata": {},
     "outputs": []
    },
    {
     "cell_type": "code",
     "collapsed": false,
     "input": [
      "%pylab inline\n",
      "import pandas as pd\n",
      "\n",
      "raw = pd.read_excel('D:\\\\Coding\\\\py\\\\py2\\\\rui\\\\model.xlsx', 'Sheet1', index_col=None, na_values=['NA'])\n",
      "valid = raw[pd.isnull(raw.bug)]\n",
      "\n",
      "valid.RT = valid.RT.astype(int)\n",
      "x = pd.DataFrame(valid.Location.apply(lambda x :x.split(' ')[0]))\n",
      "y = pd.DataFrame(valid.Location.apply(lambda x :x.split(' ')[1]))\n",
      "x.columns = [u'x']\n",
      "y.columns = [u'y']\n",
      "valid = pd.concat([valid, x],axis=1)\n",
      "valid = pd.concat([valid, y],axis=1)\n",
      "\n",
      "p = pd.pivot_table(valid, values = 'RT', rows = ['x','y'], cols = ['Structure'], aggfunc=np.mean)#\u4ee5A\u3001B\u4e3a\u884c\u6807\u7b7e\uff0c\u4ee5C\u4e3a\u5217\u6807\u7b7e\u5c06D\u5217\u7684\u503c\u6c47\u603b\u6c42\u548c\n",
      "p = pd.concat([p, pd.DataFrame(p.mean(1),columns=['MeanL'])], axis=1)# \u884c\u7684\u5e73\u5747\u503c\n",
      "\n",
      "p1 = p.reset_index()\n",
      "plt.scatter(list(p1.x),p1.y,s=p1.MeanL-600)\n",
      "\n",
      "# p = pd.concat([p, pd.DataFrame(p.mean(),columns=['MeanS']).T])# \u5217\u7684\u5e73\u5747\u503c\n",
      "# p = pd.concat([p, pd.DataFrame(p.mean(1),columns=['MeanL'])], axis=1)# \u884c\u7684\u5e73\u5747\u503c\n",
      "\n",
      "# pd.scatter_matrix(p)\n",
      "# print(valid.Location)"
     ],
     "language": "python",
     "metadata": {},
     "outputs": [
      {
       "output_type": "stream",
       "stream": "stdout",
       "text": [
        "Populating the interactive namespace from numpy and matplotlib\n"
       ]
      },
      {
       "metadata": {},
       "output_type": "pyout",
       "prompt_number": 34,
       "text": [
        "<matplotlib.collections.PathCollection at 0xdd254e0>"
       ]
      },
      {
       "metadata": {},
       "output_type": "display_data",
       "png": "[encoded data removed]",
       "text": [
        "<matplotlib.figure.Figure at 0xd988588>"
       ]
      }
     ],
     "prompt_number": 34
    }
   ],
   "metadata": {}
  }
 ]
}