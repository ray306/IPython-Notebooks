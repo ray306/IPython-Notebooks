{
 "metadata": {
  "name": "",
  "signature": "sha256:2b8d57d868d3c13692d195b0f42ac07935a46e60277181dc02978111598c6c8e"
 },
 "nbformat": 3,
 "nbformat_minor": 0,
 "worksheets": [
  {
   "cells": [
    {
     "cell_type": "code",
     "collapsed": false,
     "input": [
      "with open('d:\\\\bi_frame.csv') as f:\n",
      "    context = f.read()\n",
      "    context"
     ],
     "language": "python",
     "metadata": {},
     "outputs": [],
     "prompt_number": 50
    },
    {
     "cell_type": "code",
     "collapsed": false,
     "input": [
      "import requests\n",
      "data = {'signature': '364205830a1d1da115b0bef67761d9f654f5ef7b', 'echostr': '2491676939031131004','timestamp':'1422627196','nonce':'400990394'}\n",
      "r=requests.get('http://gold3h.oicp.net', data=data)\n",
      "# r=requests.post('http://gold3h.oicp.net/main.html?signature=931c63204f605a89da0382a93b6cc03d0d3d5f66&echostr=5330785218018123627&timestamp=1422630763&nonce=628606562',body='123')"
     ],
     "language": "python",
     "metadata": {},
     "outputs": [],
     "prompt_number": 17
    },
    {
     "cell_type": "code",
     "collapsed": false,
     "input": [
      "import pandas as pd\n",
      "# with open('D:\\\\nlp\\\\zh\\\\SogouLabDic.dic','r') as f:\n",
      "dic=pd.read_csv('D:\\\\nlp\\\\zh\\\\SogouLabDic1.dic',sep='\\t',header=None)\n",
      "dic.columns=['word','freq','pos']\n",
      "bichar=dic[dic.word.str.len()==2]"
     ],
     "language": "python",
     "metadata": {},
     "outputs": [],
     "prompt_number": 13
    },
    {
     "cell_type": "code",
     "collapsed": false,
     "input": [
      "import sqlite3\n",
      "conn = sqlite3.connect('H:\\\\lab\\\\hanzi.db')\n",
      "#conn.text_factory = str\n",
      "c = conn.cursor()\n",
      "\n",
      "c.execute('SELECT character,\"Freq(GBKdata)\" FROM hanzi')\n",
      "char_freq2 = c.fetchall()\n",
      "char_freq2=dict(char_freq2)\n",
      "\n",
      "stroke2char = {}\n",
      "c.execute('SELECT Character,Stroke_Num FROM hanzi')\n",
      "result = c.fetchall()\n",
      "char2stroke = dict(result)\n",
      "for k,v in result:\n",
      "    try:\n",
      "        stroke2char[v].add(k)\n",
      "    except:\n",
      "        stroke2char[v]=set([k])\n",
      "conn.commit()\n",
      "conn.close()\n",
      "\n",
      "bias = 2\n",
      "fuzzyStroke2char = {}\n",
      "for stroke in stroke2char:\n",
      "    fuzzyStroke2char[stroke] = set()\n",
      "    for i in range(stroke-bias,stroke+bias+1):\n",
      "        try:\n",
      "            fuzzyStroke2char[stroke]|=(stroke2char[i])\n",
      "        except:\n",
      "            pass\n",
      "        \n",
      "char_freq = {}\n",
      "with open('d:\\\\char_freq.csv',encoding='utf-8') as f:\n",
      "    for l in f:\n",
      "        k,v = l.split(',')\n",
      "        char_freq[k]=int(v)\n",
      "\n",
      "bicharNoun = bichar[bichar.pos.notnull() & bichar.pos.str.contains('N,')]\n",
      "bicharNoun['stroke1']=bicharNoun.apply(lambda x: char2stroke[x[0][0]], axis=1)\n",
      "bicharNoun['stroke2']=bicharNoun.apply(lambda x: char2stroke[x[0][1]], axis=1)\n",
      "bicharNoun['freq1']=bicharNoun.apply(lambda x: char_freq2[x[0][0]], axis=1)\n",
      "bicharNoun['freq2']=bicharNoun.apply(lambda x: char_freq2[x[0][1]], axis=1)\n",
      "bicharNoun.to_csv('D:\\\\nlp\\\\zh\\\\bicharNoun.csv')"
     ],
     "language": "python",
     "metadata": {},
     "outputs": [
      {
       "ename": "NameError",
       "evalue": "name 'bichar' is not defined",
       "output_type": "pyerr",
       "traceback": [
        "\u001b[1;31m---------------------------------------------------------------------------\u001b[0m\n\u001b[1;31mNameError\u001b[0m                                 Traceback (most recent call last)",
        "\u001b[1;32m<ipython-input-10-8216500f32ec>\u001b[0m in \u001b[0;36m<module>\u001b[1;34m()\u001b[0m\n\u001b[0;32m     36\u001b[0m         \u001b[0mchar_freq\u001b[0m\u001b[1;33m[\u001b[0m\u001b[0mk\u001b[0m\u001b[1;33m]\u001b[0m\u001b[1;33m=\u001b[0m\u001b[0mint\u001b[0m\u001b[1;33m(\u001b[0m\u001b[0mv\u001b[0m\u001b[1;33m)\u001b[0m\u001b[1;33m\u001b[0m\u001b[0m\n\u001b[0;32m     37\u001b[0m \u001b[1;33m\u001b[0m\u001b[0m\n\u001b[1;32m---> 38\u001b[1;33m \u001b[0mbicharNoun\u001b[0m \u001b[1;33m=\u001b[0m \u001b[0mbichar\u001b[0m\u001b[1;33m[\u001b[0m\u001b[0mbichar\u001b[0m\u001b[1;33m.\u001b[0m\u001b[0mpos\u001b[0m\u001b[1;33m.\u001b[0m\u001b[0mnotnull\u001b[0m\u001b[1;33m(\u001b[0m\u001b[1;33m)\u001b[0m \u001b[1;33m&\u001b[0m \u001b[0mbichar\u001b[0m\u001b[1;33m.\u001b[0m\u001b[0mpos\u001b[0m\u001b[1;33m.\u001b[0m\u001b[0mstr\u001b[0m\u001b[1;33m.\u001b[0m\u001b[0mcontains\u001b[0m\u001b[1;33m(\u001b[0m\u001b[1;34m'N,'\u001b[0m\u001b[1;33m)\u001b[0m\u001b[1;33m]\u001b[0m\u001b[1;33m\u001b[0m\u001b[0m\n\u001b[0m\u001b[0;32m     39\u001b[0m \u001b[0mbicharNoun\u001b[0m\u001b[1;33m[\u001b[0m\u001b[1;34m'stroke1'\u001b[0m\u001b[1;33m]\u001b[0m\u001b[1;33m=\u001b[0m\u001b[0mbicharNoun\u001b[0m\u001b[1;33m.\u001b[0m\u001b[0mapply\u001b[0m\u001b[1;33m(\u001b[0m\u001b[1;32mlambda\u001b[0m \u001b[0mx\u001b[0m\u001b[1;33m:\u001b[0m \u001b[0mchar2stroke\u001b[0m\u001b[1;33m[\u001b[0m\u001b[0mx\u001b[0m\u001b[1;33m[\u001b[0m\u001b[1;36m0\u001b[0m\u001b[1;33m]\u001b[0m\u001b[1;33m[\u001b[0m\u001b[1;36m0\u001b[0m\u001b[1;33m]\u001b[0m\u001b[1;33m]\u001b[0m\u001b[1;33m,\u001b[0m \u001b[0maxis\u001b[0m\u001b[1;33m=\u001b[0m\u001b[1;36m1\u001b[0m\u001b[1;33m)\u001b[0m\u001b[1;33m\u001b[0m\u001b[0m\n\u001b[0;32m     40\u001b[0m \u001b[0mbicharNoun\u001b[0m\u001b[1;33m[\u001b[0m\u001b[1;34m'stroke2'\u001b[0m\u001b[1;33m]\u001b[0m\u001b[1;33m=\u001b[0m\u001b[0mbicharNoun\u001b[0m\u001b[1;33m.\u001b[0m\u001b[0mapply\u001b[0m\u001b[1;33m(\u001b[0m\u001b[1;32mlambda\u001b[0m \u001b[0mx\u001b[0m\u001b[1;33m:\u001b[0m \u001b[0mchar2stroke\u001b[0m\u001b[1;33m[\u001b[0m\u001b[0mx\u001b[0m\u001b[1;33m[\u001b[0m\u001b[1;36m0\u001b[0m\u001b[1;33m]\u001b[0m\u001b[1;33m[\u001b[0m\u001b[1;36m1\u001b[0m\u001b[1;33m]\u001b[0m\u001b[1;33m]\u001b[0m\u001b[1;33m,\u001b[0m \u001b[0maxis\u001b[0m\u001b[1;33m=\u001b[0m\u001b[1;36m1\u001b[0m\u001b[1;33m)\u001b[0m\u001b[1;33m\u001b[0m\u001b[0m\n",
        "\u001b[1;31mNameError\u001b[0m: name 'bichar' is not defined"
       ]
      }
     ],
     "prompt_number": 10
    },
    {
     "cell_type": "code",
     "collapsed": false,
     "input": [
      "import random\n",
      "\n",
      "def predictability(token):\n",
      "    char1=token[0]\n",
      "    char2=token[1]\n",
      "    t1=dic[dic.word.str.contains(char1)]\n",
      "    t2=dic[dic.word.str.contains(char2)]\n",
      "    return dic[dic.word==token].freq.item()/sum(t1.freq),dic[dic.word==token].freq.item()/sum(t2.freq)\n",
      "\n",
      "def pseudoWord(freq,stroke=8):\n",
      "    candidate = list(fuzzyStroke2char[stroke]&set(i for i,v in char_freq.items() if freq[0]<v<freq[1]))\n",
      "    while 1:\n",
      "        token = random.choice(candidate)+random.choice(candidate)\n",
      "        if len(dic[dic.word.str.contains(token)])==0:\n",
      "            break\n",
      "    return token \n",
      "\n",
      "def factory(candidate,wfreq,cfreq,num,stroke=(8,2)):\n",
      "    wfreqL,wfreqH = wfreq[0],wfreq[1]\n",
      "    cfreqL,cfreqH = cfreq[0],cfreq[1]\n",
      "    stroke=list(range(stroke[0]-stroke[1],stroke[0]+stroke[1]+1))\n",
      "    result = []\n",
      "    for i in candidate.query(' & '.join(\n",
      "[str(wfreqL)+'<freq<'+str(wfreqH), str(cfreqL)+'<freq1<'+str(cfreqH), str(cfreqL)+'<freq2<'+str(cfreqH)])).iterrows():\n",
      "        char0 = i[1][0][0]\n",
      "        char1 = i[1][0][1]\n",
      "        if char2stroke[char0] in stroke and char2stroke[char1] in stroke:\n",
      "            a,b=predictability(i[1][0])\n",
      "            if a<0.1 and b<0.1:\n",
      "                result.append([i[1][0],i[1][1],i[1][2],a,b,char_freq2[char0],char_freq2[char1]])\n",
      "            if len(result)==num:\n",
      "                break\n",
      "    return pd.DataFrame(result,columns=['word','freq','pos','predict1','predict2','freq1','freq2'])\n"
     ],
     "language": "python",
     "metadata": {},
     "outputs": [],
     "prompt_number": 9
    },
    {
     "cell_type": "code",
     "collapsed": false,
     "input": [
      "resultHighF = factory(bicharNoun,(2**23,2**25),(200000,4000000),100)\n",
      "resultLowF = factory(bicharNoun,(2**16,2**18),(200000,4000000),150)\n",
      "t=[]\n",
      "for i in range(100):\n",
      "    token = pseudoWord((200000,4000000))\n",
      "    t.append([token,0,None,0,0,char_freq2[token[0]],char_freq2[token[1]]])\n",
      "resultPseudo = pd.DataFrame(t,columns=['word','freq','pos','predict1','predict2','freq1','freq2'])\n",
      "\n",
      "resultHighF.to_csv('D:\\\\nlp\\\\zh\\\\resultHighF.csv')\n",
      "resultLowF.to_csv('D:\\\\nlp\\\\zh\\\\resultLowF.csv')\n",
      "resultPseudo.to_csv('D:\\\\nlp\\\\zh\\\\resultPseudo.csv')"
     ],
     "language": "python",
     "metadata": {},
     "outputs": [],
     "prompt_number": 89
    },
    {
     "cell_type": "code",
     "collapsed": false,
     "input": [
      "import pandas as pd\n",
      "resultHighF=pd.read_csv('D:\\\\nlp\\\\zh\\\\resultHighF.csv',encoding='gbk')\n",
      "resultLowF=pd.read_csv('D:\\\\nlp\\\\zh\\\\resultLowF.csv',encoding='gbk')\n",
      "resultPseudo=pd.read_csv('D:\\\\nlp\\\\zh\\\\resultPseudo.csv',encoding='gbk')"
     ],
     "language": "python",
     "metadata": {},
     "outputs": [],
     "prompt_number": 3
    },
    {
     "cell_type": "code",
     "collapsed": false,
     "input": [
      "%pylab inline\n",
      "import math"
     ],
     "language": "python",
     "metadata": {},
     "outputs": [
      {
       "output_type": "stream",
       "stream": "stdout",
       "text": [
        "Populating the interactive namespace from numpy and matplotlib\n"
       ]
      },
      {
       "output_type": "stream",
       "stream": "stderr",
       "text": [
        "WARNING: pylab import has clobbered these variables: ['f', 'random']\n",
        "`%matplotlib` prevents importing * from pylab and numpy\n"
       ]
      }
     ],
     "prompt_number": 19
    },
    {
     "cell_type": "code",
     "collapsed": false,
     "input": [
      "import scipy.stats\n",
      "a=[]\n",
      "b=[]\n",
      "for i in char_freq2:\n",
      "    a.append(char_freq2[i])\n",
      "    try:\n",
      "        b.append(char_freq[i])\n",
      "    except:\n",
      "        b.append(char_freq2[i])\n",
      "scipy.stats.pearsonr(a,b)"
     ],
     "language": "python",
     "metadata": {},
     "outputs": [
      {
       "metadata": {},
       "output_type": "pyout",
       "prompt_number": 175,
       "text": [
        "(0.93520393535522328, 0.0)"
       ]
      }
     ],
     "prompt_number": 175
    },
    {
     "cell_type": "code",
     "collapsed": false,
     "input": [
      "resultAll = pd.concat([resultHighF,resultLowF,resultPseudo])\n",
      "resultAll.index=list(range(64*3))\n",
      "resultAll = resultAll.reindex(random.permutation(resultAll.index))"
     ],
     "language": "python",
     "metadata": {},
     "outputs": [],
     "prompt_number": 285
    },
    {
     "cell_type": "code",
     "collapsed": false,
     "input": [
      "exist = set(resultHighF.word.str[0])|set(resultHighF.word.str[1])|set(resultLowF.word.str[0])|set(resultLowF.word.str[1])|set(resultPseudo.word.str[0])|set(resultPseudo.word.str[1])\n",
      "\n",
      "def freqMatched(token):\n",
      "    return set([k for k,v in char_freq2.items() if int(char_freq2[token]*0.5)<v and v<int(char_freq2[token]*1.5)])\n",
      "\n",
      "def match(token):\n",
      "    return freqMatched(token)&fuzzyStroke2char[8]-set(token)-exist\n",
      "\n",
      "def prime(word,target,PrimeAcc):\n",
      "    char=word[target]\n",
      "    if PrimeAcc==0:\n",
      "        while 1:\n",
      "            r = random.choice(list(match(char)))\n",
      "            if len(dic[dic.word.str.contains(r+word[0]) | dic.word.str.contains(r+word[1])])==0 and r!=word[0] and r!=word[1]:\n",
      "                break\n",
      "        return r\n",
      "    else:\n",
      "        return char\n",
      "resultHighF['Prime']=resultHighF[['word','target','PrimeAcc']].apply(lambda x: prime(x[0],int(x[1]),x[2]),axis=1)\n",
      "resultLowF['Prime']=resultLowF[['word','target','PrimeAcc']].apply(lambda x: prime(x[0],int(x[1]),x[2]),axis=1)\n",
      "resultPseudo['Prime']=resultPseudo[['word','target','PrimeAcc']].apply(lambda x: prime(x[0],int(x[1]),x[2]),axis=1)"
     ],
     "language": "python",
     "metadata": {},
     "outputs": [],
     "prompt_number": 14
    },
    {
     "cell_type": "code",
     "collapsed": false,
     "input": [
      "\n",
      "block4 = pd.concat([resultPseudo[16:32],resultPseudo[32:48]])\n",
      "block5 = pd.concat([resultLowF[16:32],resultLowF[32:48]])\n",
      "block6 = pd.concat([resultHighF[16:32],resultHighF[32:48]])\n",
      "\n",
      "block123=pd.concat([resultHighF[:16],resultHighF[48:],resultLowF[:16],resultLowF[48:],resultPseudo[:16],resultPseudo[48:]])\n",
      "block123.index=list(range(len(block123)))\n",
      "block123 = block123.reindex(random.permutation(block123.index))\n",
      "block1=block123[:32]\n",
      "block2=block123[32:64]\n",
      "block3=block123[64:]\n",
      "\n",
      "block1=block1.reindex(random.permutation(block1.index))\n",
      "block2=block2.reindex(random.permutation(block2.index))\n",
      "block3=block3.reindex(random.permutation(block3.index))\n",
      "block4=block4.reindex(random.permutation(block4.index))\n",
      "block5=block5.reindex(random.permutation(block5.index))\n",
      "block6=block6.reindex(random.permutation(block6.index))"
     ],
     "language": "python",
     "metadata": {},
     "outputs": [],
     "prompt_number": 20
    },
    {
     "cell_type": "code",
     "collapsed": false,
     "input": [
      "# re.findall(r'00000',''.join(random.permutation(['0','1']*16)))\n",
      "block1.to_csv('d:\\\\stims_block1.csv')\n",
      "block2.to_csv('d:\\\\stims_block2.csv')\n",
      "block3.to_csv('d:\\\\stims_block3.csv')\n",
      "block4.to_csv('d:\\\\stims_block4.csv')\n",
      "block5.to_csv('d:\\\\stims_block5.csv')\n",
      "block6.to_csv('d:\\\\stims_block6.csv')"
     ],
     "language": "python",
     "metadata": {},
     "outputs": [],
     "prompt_number": 21
    },
    {
     "cell_type": "code",
     "collapsed": false,
     "input": [
      "t=block1\n",
      "while 1:\n",
      "    check1=''.join(list(t.target.astype(int).astype(str)))\n",
      "    print(check1)\n",
      "    check2=''.join(list(t.PrimeAcc.astype(str)))\n",
      "#     if len(re.findall(r'000000',check1))>0 and len(re.findall(r'000000',check2))>0 and len(re.findall(r'111111',check1))>0 and len(re.findall(r'111111',check2))>0:\n",
      "    if len(re.findall(r'00000',check1))>0:\n",
      "        t.reindex(random.permutation(t.index))\n",
      "    else:\n",
      "        break\n",
      "t"
     ],
     "language": "python",
     "metadata": {},
     "outputs": []
    },
    {
     "cell_type": "code",
     "collapsed": false,
     "input": [
      "resultHighF['target'] = resultHighF[['freq1','freq2']].apply(\n",
      "lambda x: 0 if ((x[0]>x[1]) & (1000000>x[1])) else 1 if ((x[0]<x[1]) & (1000000>x[0])) else None,axis=1)\n",
      "resultLowF['target'] = resultLowF[['freq1','freq2']].apply(\n",
      "lambda x: 0 if ((x[0]>x[1]) & (600000>x[1])) else 1 if ((x[0]<x[1]) & (600000>x[0])) else None,axis=1)\n",
      "resultPseudo['target'] = resultPseudo[['freq1','freq2']].apply(\n",
      "lambda x: 0 if ((x[0]>x[1]) & (1000000>x[1])) else 1 if ((x[0]<x[1]) & (1000000>x[0])) else None,axis=1)\n",
      "\n",
      "l=len(resultLowF)//2\n",
      "seqTargetPos1 = [0]*(l-len(resultHighF[resultHighF['target']==0])) + [1]*(l-len(resultHighF[resultHighF['target']==1]))\n",
      "seqTargetPos2 = [0]*(l-len(resultLowF[resultLowF['target']==0])) + [1]*(l-len(resultLowF[resultLowF['target']==1]))\n",
      "seqTargetPos3 = [0]*(l-len(resultPseudo[resultPseudo['target']==0])) + [1]*(l-len(resultPseudo[resultPseudo['target']==1]))\n",
      "random.shuffle(seqTargetPos1)\n",
      "random.shuffle(seqTargetPos2)\n",
      "random.shuffle(seqTargetPos3)\n",
      "resultHighF['target']=resultHighF['target'].apply(lambda x: seqTargetPos1.pop() if x not in [0,1] else x)\n",
      "resultLowF['target']=resultLowF['target'].apply(lambda x: seqTargetPos2.pop() if x not in [0,1] else x)\n",
      "resultPseudo['target']=resultPseudo['target'].apply(lambda x: seqTargetPos3.pop() if x not in [0,1] else x)\n",
      "\n",
      "resultHighF=resultHighF.sort(columns='target')\n",
      "seqPrimeAcc=[1,0]*32\n",
      "resultHighF['PrimeAcc']=resultHighF.apply(lambda x: seqPrimeAcc.pop(),axis=1)\n",
      "\n",
      "resultLowF=resultLowF.sort(columns='target')\n",
      "seqPrimeAcc=[1,0]*32\n",
      "resultLowF['PrimeAcc']=resultLowF.apply(lambda x: seqPrimeAcc.pop(),axis=1)\n",
      "\n",
      "resultPseudo=resultPseudo.sort(columns='target')\n",
      "seqPrimeAcc=[1,0]*32\n",
      "resultPseudo['PrimeAcc']=resultPseudo.apply(lambda x: seqPrimeAcc.pop(),axis=1)\n",
      "\n",
      "resultHighF['type']=2\n",
      "resultLowF['type']=1\n",
      "resultPseudo['type']=0"
     ],
     "language": "python",
     "metadata": {},
     "outputs": [],
     "prompt_number": 7
    },
    {
     "cell_type": "code",
     "collapsed": false,
     "input": [
      "len(resultHighF[resultHighF['target']==0])"
     ],
     "language": "python",
     "metadata": {},
     "outputs": [
      {
       "metadata": {},
       "output_type": "pyout",
       "prompt_number": 209,
       "text": [
        "32"
       ]
      }
     ],
     "prompt_number": 209
    },
    {
     "cell_type": "code",
     "collapsed": false,
     "input": [
      "%pylab inline\n",
      "plot(sorted(freqs[(2**21<freqs) & (freqs<5000000)]))"
     ],
     "language": "python",
     "metadata": {},
     "outputs": [
      {
       "output_type": "stream",
       "stream": "stdout",
       "text": [
        "Populating the interactive namespace from numpy and matplotlib\n"
       ]
      },
      {
       "metadata": {},
       "output_type": "pyout",
       "prompt_number": 106,
       "text": [
        "[<matplotlib.lines.Line2D at 0xbc2da58>]"
       ]
      },
      {
       "metadata": {},
       "output_type": "display_data",
       "png": "[encoded data removed]",
       "text": [
        "<matplotlib.figure.Figure at 0xa7fe748>"
       ]
      }
     ],
     "prompt_number": 106
    },
    {
     "cell_type": "code",
     "collapsed": false,
     "input": [
      "plot(sorted(bicharNoun[bicharNoun.freq1>2**15].freq.apply(lambda x: math.log(x,2))))"
     ],
     "language": "python",
     "metadata": {},
     "outputs": [
      {
       "metadata": {},
       "output_type": "pyout",
       "prompt_number": 215,
       "text": [
        "[<matplotlib.lines.Line2D at 0xe2b3fd0>]"
       ]
      },
      {
       "metadata": {},
       "output_type": "display_data",
       "png": "[encoded data removed]",
       "text": [
        "<matplotlib.figure.Figure at 0xd0b8940>"
       ]
      }
     ],
     "prompt_number": 215
    },
    {
     "cell_type": "code",
     "collapsed": false,
     "input": [
      "plot(bichar.freq.apply(lambda x: math.log(x,2)))"
     ],
     "language": "python",
     "metadata": {},
     "outputs": [
      {
       "metadata": {},
       "output_type": "pyout",
       "prompt_number": 140,
       "text": [
        "[<matplotlib.lines.Line2D at 0x139b8fd0>]"
       ]
      },
      {
       "metadata": {},
       "output_type": "display_data",
       "png": "[encoded data removed]",
       "text": [
        "<matplotlib.figure.Figure at 0x139730f0>"
       ]
      }
     ],
     "prompt_number": 140
    }
   ],
   "metadata": {}
  }
 ]
}