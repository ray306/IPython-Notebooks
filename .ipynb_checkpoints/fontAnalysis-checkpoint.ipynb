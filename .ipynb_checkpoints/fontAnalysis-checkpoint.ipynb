{
 "metadata": {
  "name": "",
  "signature": "sha256:83820ce81303b4cefd9e02667afade5f2b5d4f74d0f5b249bfaee7340e2c333e"
 },
 "nbformat": 3,
 "nbformat_minor": 0,
 "worksheets": [
  {
   "cells": [
    {
     "cell_type": "code",
     "collapsed": false,
     "input": [
      "%pylab inline\n",
      "import sqlite3\n",
      "import xlrd\n",
      "import pandas as pd\n",
      "from sqlalchemy import create_engine\n",
      "\n",
      "import codecs,sys\n",
      "sys.stout = codecs.lookup('iso8859-1')[-1](sys.stdout)"
     ],
     "language": "python",
     "metadata": {},
     "outputs": [
      {
       "output_type": "stream",
       "stream": "stdout",
       "text": [
        "Populating the interactive namespace from numpy and matplotlib\n"
       ]
      },
      {
       "output_type": "stream",
       "stream": "stderr",
       "text": [
        "WARNING: pylab import has clobbered these variables: ['draw']\n",
        "`%matplotlib` prevents importing * from pylab and numpy\n"
       ]
      }
     ],
     "prompt_number": 13
    },
    {
     "cell_type": "code",
     "collapsed": false,
     "input": [
      "conn = sqlite3.connect('h:\\\\lab\\\\hanzi.db')\n",
      "conn.text_factory = str\n",
      "c = conn.cursor()\n",
      "c.execute('SELECT Character,Outline FROM hanzi')\n",
      "result = c.fetchall()\n",
      "\n",
      "fontRawData = {}\n",
      "for item in result:\n",
      "    glyph = eval(item[1].replace('\\'',''))\n",
      "    outlines = [[(int(point[0]),int(point[1]),int(point[2])) for point in g] for g in glyph[0]]\n",
      "    border = [(int(point[0]),int(point[1])) for point in glyph[1]]\n",
      "    fontRawData[item[0]] = {'outlines':outlines,'border':border}\n",
      "    \n",
      "fontInfo = pd.DataFrame(fontRawData).T\n",
      "fontInfo.head()"
     ],
     "language": "python",
     "metadata": {},
     "outputs": [],
     "prompt_number": 45
    },
    {
     "cell_type": "code",
     "collapsed": false,
     "input": [
      "class StraightLineVerticalException(Exception):pass\n",
      "class StraightLineHorizontalException(Exception):pass\n",
      "\n",
      "def get_slope(p1,p2):\n",
      "    if p1[0]==p2[0]:\n",
      "        raise StraightLineVerticalException\n",
      "    if p1[1]==p2[1]:\n",
      "        raise  StraightLineHorizontalException\n",
      "    return (p2[1]-p1[1])/(p2[0]-p1[0])\n",
      "\n",
      "def get_straight_line(p1,p2):\n",
      "    k=get_slope(p1,p2)\n",
      "    return k,p1[1]-k*p1[0]\n",
      "\n",
      "def get_intersect(y,p1,p2):\n",
      "    k,b=get_straight_line(p1,p2)\n",
      "    return ((y-b)/k,y)\n",
      "\n",
      "def check_in_line(p,p1,p2):\n",
      "    if p2[0]<p1[0]:\n",
      "        p1,p2=p2,p1\n",
      "    if p2[1]<p1[1]:\n",
      "        return p[0]>p1[0] and p[0]<=p2[0] and p[1]<p1[1] and p[1]>=p2[1]\n",
      "    else:\n",
      "        return p[0]>p1[0] and p[0]<=p2[0] and p[1]>p1[1] and p[1]<=p2[1]\n",
      "\n",
      "def check_intersect(p,p1,p2):\n",
      "    try:\n",
      "        intersect=get_intersect(p[1],p1,p2)\n",
      "    except StraightLineVerticalException:\n",
      "        return p[0]<=p1[0] and p[1]>p1[1] and p[1]<=p2[1]\n",
      "    except StraightLineHorizontalException:\n",
      "        return False\n",
      "    if check_in_line(intersect,p1,p2):\n",
      "        return intersect[0]>=p[0]\n",
      "    return FalseAC\n",
      "\n",
      "def check_point_in_polygon(point,polygon):\n",
      "    point=(float(point[0]),float(point[1]))\n",
      "    intersect=0\n",
      "    for i in range(len(polygon)):\n",
      "        if check_intersect(point,polygon[i],polygon[i+1 if i+1<len(polygon) else 0]):\n",
      "            intersect+=1\n",
      "    return intersect%2!=0"
     ],
     "language": "python",
     "metadata": {},
     "outputs": [],
     "prompt_number": 48
    },
    {
     "cell_type": "code",
     "collapsed": false,
     "input": [
      "for item in result:\n",
      "    outlineT = [[(point[0],point[1]) for point in outline if point[1]==1] for outline in item.outlines]        \n",
      "    \n",
      "    n = len(item.outlines)\n",
      "    relation = np.zeros((n,n))\n",
      "    for i in range(n):\n",
      "        for j in range(n):"
     ],
     "language": "python",
     "metadata": {},
     "outputs": [
      {
       "html": [
        "<div style=\"max-height:1000px;max-width:1500px;overflow:auto;\">\n",
        "<table border=\"1\" class=\"dataframe\">\n",
        "  <thead>\n",
        "    <tr style=\"text-align: right;\">\n",
        "      <th></th>\n",
        "      <th>border</th>\n",
        "      <th>outlines</th>\n",
        "    </tr>\n",
        "  </thead>\n",
        "  <tbody>\n",
        "    <tr>\n",
        "      <th>\u4e00</th>\n",
        "      <td>   [(53, 715), (1995, 834)]</td>\n",
        "      <td> [[(53, 834, 1), (1995, 834, 1), (1995, 715, 1)...</td>\n",
        "    </tr>\n",
        "    <tr>\n",
        "      <th>\u4e01</th>\n",
        "      <td> [(76, -203), (1962, 1507)]</td>\n",
        "      <td> [[(76, 1507, 1), (1962, 1507, 1), (1962, 1397,...</td>\n",
        "    </tr>\n",
        "    <tr>\n",
        "      <th>\u4e02</th>\n",
        "      <td> [(80, -200), (1966, 1497)]</td>\n",
        "      <td> [[(80, 1497, 1), (1966, 1497, 1), (1966, 1391,...</td>\n",
        "    </tr>\n",
        "    <tr>\n",
        "      <th>\u4e03</th>\n",
        "      <td> [(72, -154), (1968, 1665)]</td>\n",
        "      <td> [[(72, 897, 1), (754, 973, 1), (754, 1665, 1),...</td>\n",
        "    </tr>\n",
        "    <tr>\n",
        "      <th>\u4e04</th>\n",
        "      <td> [(72, -109), (1976, 1645)]</td>\n",
        "      <td> [[(965, 1645, 1), (1083, 1645, 1), (1083, 2, 1...</td>\n",
        "    </tr>\n",
        "  </tbody>\n",
        "</table>\n",
        "</div>"
       ],
       "metadata": {},
       "output_type": "pyout",
       "prompt_number": 46,
       "text": [
        "                       border  \\\n",
        "\u4e00    [(53, 715), (1995, 834)]   \n",
        "\u4e01  [(76, -203), (1962, 1507)]   \n",
        "\u4e02  [(80, -200), (1966, 1497)]   \n",
        "\u4e03  [(72, -154), (1968, 1665)]   \n",
        "\u4e04  [(72, -109), (1976, 1645)]   \n",
        "\n",
        "                                            outlines  \n",
        "\u4e00  [[(53, 834, 1), (1995, 834, 1), (1995, 715, 1)...  \n",
        "\u4e01  [[(76, 1507, 1), (1962, 1507, 1), (1962, 1397,...  \n",
        "\u4e02  [[(80, 1497, 1), (1966, 1497, 1), (1966, 1391,...  \n",
        "\u4e03  [[(72, 897, 1), (754, 973, 1), (754, 1665, 1),...  \n",
        "\u4e04  [[(965, 1645, 1), (1083, 1645, 1), (1083, 2, 1...  "
       ]
      }
     ],
     "prompt_number": 46
    },
    {
     "cell_type": "code",
     "collapsed": false,
     "input": [
      "glyph = fontRawData_test = [[[('260', '1296', '1'), ('1788', '1296', '1'), ('1788', '653', '1'), ('260', '653', '1')], [('346', '526', '1'), ('1700', '526', '1'), ('1700', '33', '1'), ('346', '33', '1')], [('362', '1221', '1'), ('362', '729', '1'), ('1686', '729', '1'), ('1686', '1221', '1')], [('563', '1110', '1'), ('1483', '1110', '1'), ('1483', '842', '1'), ('563', '842', '1')], [('961', '1677', '1'), ('1063', '1686', '1'), ('1080', '1578', '0'), ('1087', '1499', '1'), ('1962', '1499', '1'), ('1962', '1417', '1'), ('92', '1417', '1'), ('92', '1499', '1'), ('981', '1499', '1'), ('974', '1587', '0')], [('74', '-92', '1'), ('1987', '-92', '1'), ('1987', '-174', '1'), ('74', '-174', '1')], [('449', '244', '1'), ('449', '109', '1'), ('1597', '109', '1'), ('1597', '244', '1')], [('449', '451', '1'), ('449', '317', '1'), ('1597', '317', '1'), ('1597', '451', '1')], [('662', '1036', '1'), ('662', '915', '1'), ('1384', '915', '1'), ('1384', '1036', '1')]], (('74', '-174'), ('1987', '1686'))]\n",
      "outlines = [[(int(point[0]),int(point[1]),int(point[2])) for point in g] for g in glyph[0]]\n",
      "border = [(int(point[0]),int(point[1])) for point in glyph[1]]\n",
      "print(outlines)\n",
      "t = [[(point[0],point[1]) for point in outline if point[2]==1] for outline in outlines]\n",
      "print(t)\n",
      "n = len(t)\n",
      "relation = np.zeros((n,n))\n",
      "for i in range(n):\n",
      "    for j in range(n):\n",
      "        if check_point_in_polygon(t[i][0],t[j]):\n",
      "            relation[i,j] = 1\n",
      "relation"
     ],
     "language": "python",
     "metadata": {},
     "outputs": [
      {
       "output_type": "stream",
       "stream": "stdout",
       "text": [
        "[[(260, 1296, 1), (1788, 1296, 1), (1788, 653, 1), (260, 653, 1)], [(346, 526, 1), (1700, 526, 1), (1700, 33, 1), (346, 33, 1)], [(362, 1221, 1), (362, 729, 1), (1686, 729, 1), (1686, 1221, 1)], [(563, 1110, 1), (1483, 1110, 1), (1483, 842, 1), (563, 842, 1)], [(961, 1677, 1), (1063, 1686, 1), (1080, 1578, 0), (1087, 1499, 1), (1962, 1499, 1), (1962, 1417, 1), (92, 1417, 1), (92, 1499, 1), (981, 1499, 1), (974, 1587, 0)], [(74, -92, 1), (1987, -92, 1), (1987, -174, 1), (74, -174, 1)], [(449, 244, 1), (449, 109, 1), (1597, 109, 1), (1597, 244, 1)], [(449, 451, 1), (449, 317, 1), (1597, 317, 1), (1597, 451, 1)], [(662, 1036, 1), (662, 915, 1), (1384, 915, 1), (1384, 1036, 1)]]\n",
        "[[(260, 1296), (1788, 1296), (1788, 653), (260, 653)], [(346, 526), (1700, 526), (1700, 33), (346, 33)], [(362, 1221), (362, 729), (1686, 729), (1686, 1221)], [(563, 1110), (1483, 1110), (1483, 842), (563, 842)], [(961, 1677), (1063, 1686), (1087, 1499), (1962, 1499), (1962, 1417), (92, 1417), (92, 1499), (981, 1499)], [(74, -92), (1987, -92), (1987, -174), (74, -174)], [(449, 244), (449, 109), (1597, 109), (1597, 244)], [(449, 451), (449, 317), (1597, 317), (1597, 451)], [(662, 1036), (662, 915), (1384, 915), (1384, 1036)]]\n"
       ]
      },
      {
       "ename": "NameError",
       "evalue": "name 'FalseAC' is not defined",
       "output_type": "pyerr",
       "traceback": [
        "\u001b[1;31m---------------------------------------------------------------------------\u001b[0m\n\u001b[1;31mNameError\u001b[0m                                 Traceback (most recent call last)",
        "\u001b[1;32m<ipython-input-87-38bc25cfff7b>\u001b[0m in \u001b[0;36m<module>\u001b[1;34m()\u001b[0m\n\u001b[0;32m      9\u001b[0m \u001b[1;32mfor\u001b[0m \u001b[0mi\u001b[0m \u001b[1;32min\u001b[0m \u001b[0mrange\u001b[0m\u001b[1;33m(\u001b[0m\u001b[0mn\u001b[0m\u001b[1;33m)\u001b[0m\u001b[1;33m:\u001b[0m\u001b[1;33m\u001b[0m\u001b[0m\n\u001b[0;32m     10\u001b[0m     \u001b[1;32mfor\u001b[0m \u001b[0mj\u001b[0m \u001b[1;32min\u001b[0m \u001b[0mrange\u001b[0m\u001b[1;33m(\u001b[0m\u001b[0mn\u001b[0m\u001b[1;33m)\u001b[0m\u001b[1;33m:\u001b[0m\u001b[1;33m\u001b[0m\u001b[0m\n\u001b[1;32m---> 11\u001b[1;33m         \u001b[1;32mif\u001b[0m \u001b[0mcheck_point_in_polygon\u001b[0m\u001b[1;33m(\u001b[0m\u001b[0mt\u001b[0m\u001b[1;33m[\u001b[0m\u001b[0mi\u001b[0m\u001b[1;33m]\u001b[0m\u001b[1;33m[\u001b[0m\u001b[1;36m0\u001b[0m\u001b[1;33m]\u001b[0m\u001b[1;33m,\u001b[0m\u001b[0mt\u001b[0m\u001b[1;33m[\u001b[0m\u001b[0mj\u001b[0m\u001b[1;33m]\u001b[0m\u001b[1;33m)\u001b[0m\u001b[1;33m:\u001b[0m\u001b[1;33m\u001b[0m\u001b[0m\n\u001b[0m\u001b[0;32m     12\u001b[0m             \u001b[0mrelation\u001b[0m\u001b[1;33m[\u001b[0m\u001b[0mi\u001b[0m\u001b[1;33m,\u001b[0m\u001b[0mj\u001b[0m\u001b[1;33m]\u001b[0m \u001b[1;33m=\u001b[0m \u001b[1;36m1\u001b[0m\u001b[1;33m\u001b[0m\u001b[0m\n\u001b[0;32m     13\u001b[0m \u001b[0mrelation\u001b[0m\u001b[1;33m\u001b[0m\u001b[0m\n",
        "\u001b[1;32m<ipython-input-48-f6882d7774d4>\u001b[0m in \u001b[0;36mcheck_point_in_polygon\u001b[1;34m(point, polygon)\u001b[0m\n\u001b[0;32m     40\u001b[0m     \u001b[0mintersect\u001b[0m\u001b[1;33m=\u001b[0m\u001b[1;36m0\u001b[0m\u001b[1;33m\u001b[0m\u001b[0m\n\u001b[0;32m     41\u001b[0m     \u001b[1;32mfor\u001b[0m \u001b[0mi\u001b[0m \u001b[1;32min\u001b[0m \u001b[0mrange\u001b[0m\u001b[1;33m(\u001b[0m\u001b[0mlen\u001b[0m\u001b[1;33m(\u001b[0m\u001b[0mpolygon\u001b[0m\u001b[1;33m)\u001b[0m\u001b[1;33m)\u001b[0m\u001b[1;33m:\u001b[0m\u001b[1;33m\u001b[0m\u001b[0m\n\u001b[1;32m---> 42\u001b[1;33m         \u001b[1;32mif\u001b[0m \u001b[0mcheck_intersect\u001b[0m\u001b[1;33m(\u001b[0m\u001b[0mpoint\u001b[0m\u001b[1;33m,\u001b[0m\u001b[0mpolygon\u001b[0m\u001b[1;33m[\u001b[0m\u001b[0mi\u001b[0m\u001b[1;33m]\u001b[0m\u001b[1;33m,\u001b[0m\u001b[0mpolygon\u001b[0m\u001b[1;33m[\u001b[0m\u001b[0mi\u001b[0m\u001b[1;33m+\u001b[0m\u001b[1;36m1\u001b[0m \u001b[1;32mif\u001b[0m \u001b[0mi\u001b[0m\u001b[1;33m+\u001b[0m\u001b[1;36m1\u001b[0m\u001b[1;33m<\u001b[0m\u001b[0mlen\u001b[0m\u001b[1;33m(\u001b[0m\u001b[0mpolygon\u001b[0m\u001b[1;33m)\u001b[0m \u001b[1;32melse\u001b[0m \u001b[1;36m0\u001b[0m\u001b[1;33m]\u001b[0m\u001b[1;33m)\u001b[0m\u001b[1;33m:\u001b[0m\u001b[1;33m\u001b[0m\u001b[0m\n\u001b[0m\u001b[0;32m     43\u001b[0m             \u001b[0mintersect\u001b[0m\u001b[1;33m+=\u001b[0m\u001b[1;36m1\u001b[0m\u001b[1;33m\u001b[0m\u001b[0m\n\u001b[0;32m     44\u001b[0m     \u001b[1;32mreturn\u001b[0m \u001b[0mintersect\u001b[0m\u001b[1;33m%\u001b[0m\u001b[1;36m2\u001b[0m\u001b[1;33m!=\u001b[0m\u001b[1;36m0\u001b[0m\u001b[1;33m\u001b[0m\u001b[0m\n",
        "\u001b[1;32m<ipython-input-48-f6882d7774d4>\u001b[0m in \u001b[0;36mcheck_intersect\u001b[1;34m(p, p1, p2)\u001b[0m\n\u001b[0;32m     34\u001b[0m     \u001b[1;32mif\u001b[0m \u001b[0mcheck_in_line\u001b[0m\u001b[1;33m(\u001b[0m\u001b[0mintersect\u001b[0m\u001b[1;33m,\u001b[0m\u001b[0mp1\u001b[0m\u001b[1;33m,\u001b[0m\u001b[0mp2\u001b[0m\u001b[1;33m)\u001b[0m\u001b[1;33m:\u001b[0m\u001b[1;33m\u001b[0m\u001b[0m\n\u001b[0;32m     35\u001b[0m         \u001b[1;32mreturn\u001b[0m \u001b[0mintersect\u001b[0m\u001b[1;33m[\u001b[0m\u001b[1;36m0\u001b[0m\u001b[1;33m]\u001b[0m\u001b[1;33m>=\u001b[0m\u001b[0mp\u001b[0m\u001b[1;33m[\u001b[0m\u001b[1;36m0\u001b[0m\u001b[1;33m]\u001b[0m\u001b[1;33m\u001b[0m\u001b[0m\n\u001b[1;32m---> 36\u001b[1;33m     \u001b[1;32mreturn\u001b[0m \u001b[0mFalseAC\u001b[0m\u001b[1;33m\u001b[0m\u001b[0m\n\u001b[0m\u001b[0;32m     37\u001b[0m \u001b[1;33m\u001b[0m\u001b[0m\n\u001b[0;32m     38\u001b[0m \u001b[1;32mdef\u001b[0m \u001b[0mcheck_point_in_polygon\u001b[0m\u001b[1;33m(\u001b[0m\u001b[0mpoint\u001b[0m\u001b[1;33m,\u001b[0m\u001b[0mpolygon\u001b[0m\u001b[1;33m)\u001b[0m\u001b[1;33m:\u001b[0m\u001b[1;33m\u001b[0m\u001b[0m\n",
        "\u001b[1;31mNameError\u001b[0m: name 'FalseAC' is not defined"
       ]
      }
     ],
     "prompt_number": 87
    },
    {
     "cell_type": "code",
     "collapsed": false,
     "input": [
      "t[i][0],t[j]"
     ],
     "language": "python",
     "metadata": {},
     "outputs": [
      {
       "metadata": {},
       "output_type": "pyout",
       "prompt_number": 94,
       "text": [
        "((260, 1296),\n",
        " [(961, 1677),\n",
        "  (1063, 1686),\n",
        "  (1087, 1499),\n",
        "  (1962, 1499),\n",
        "  (1962, 1417),\n",
        "  (92, 1417),\n",
        "  (92, 1499),\n",
        "  (981, 1499)])"
       ]
      }
     ],
     "prompt_number": 94
    },
    {
     "cell_type": "code",
     "collapsed": false,
     "input": [
      "fontRawData_test"
     ],
     "language": "python",
     "metadata": {},
     "outputs": [
      {
       "metadata": {},
       "output_type": "pyout",
       "prompt_number": 86,
       "text": [
        "[[[('260', '1296', '1'),\n",
        "   ('1788', '1296', '1'),\n",
        "   ('1788', '653', '1'),\n",
        "   ('260', '653', '1')],\n",
        "  [('346', '526', '1'),\n",
        "   ('1700', '526', '1'),\n",
        "   ('1700', '33', '1'),\n",
        "   ('346', '33', '1')],\n",
        "  [('362', '1221', '1'),\n",
        "   ('362', '729', '1'),\n",
        "   ('1686', '729', '1'),\n",
        "   ('1686', '1221', '1')],\n",
        "  [('563', '1110', '1'),\n",
        "   ('1483', '1110', '1'),\n",
        "   ('1483', '842', '1'),\n",
        "   ('563', '842', '1')],\n",
        "  [('961', '1677', '1'),\n",
        "   ('1063', '1686', '1'),\n",
        "   ('1080', '1578', '0'),\n",
        "   ('1087', '1499', '1'),\n",
        "   ('1962', '1499', '1'),\n",
        "   ('1962', '1417', '1'),\n",
        "   ('92', '1417', '1'),\n",
        "   ('92', '1499', '1'),\n",
        "   ('981', '1499', '1'),\n",
        "   ('974', '1587', '0')],\n",
        "  [('74', '-92', '1'),\n",
        "   ('1987', '-92', '1'),\n",
        "   ('1987', '-174', '1'),\n",
        "   ('74', '-174', '1')],\n",
        "  [('449', '244', '1'),\n",
        "   ('449', '109', '1'),\n",
        "   ('1597', '109', '1'),\n",
        "   ('1597', '244', '1')],\n",
        "  [('449', '451', '1'),\n",
        "   ('449', '317', '1'),\n",
        "   ('1597', '317', '1'),\n",
        "   ('1597', '451', '1')],\n",
        "  [('662', '1036', '1'),\n",
        "   ('662', '915', '1'),\n",
        "   ('1384', '915', '1'),\n",
        "   ('1384', '1036', '1')]],\n",
        " (('74', '-174'), ('1987', '1686'))]"
       ]
      }
     ],
     "prompt_number": 86
    },
    {
     "cell_type": "code",
     "collapsed": false,
     "input": [
      "def draw(ps,color):\n",
      "    xs = [int(i[0]) for i in ps]\n",
      "    xs.append(ps[0][0])\n",
      "    ys = [int(i[1]) for i in ps]\n",
      "    ys.append(ps[0][1])\n",
      "    plt.scatter(xs,ys)\n",
      "    lines = plt.plot(xs, ys,color,linewidth=2)"
     ],
     "language": "python",
     "metadata": {},
     "outputs": [],
     "prompt_number": 19
    },
    {
     "cell_type": "code",
     "collapsed": false,
     "input": [
      "for i in range(len(fontRawData_test[0])):\n",
      "    draw(fontRawData_test[0][i],'#'+str(i)*6)"
     ],
     "language": "python",
     "metadata": {},
     "outputs": [
      {
       "metadata": {},
       "output_type": "display_data",
       "png": "[encoded data removed]",
       "text": [
        "<matplotlib.figure.Figure at 0x9a34ba8>"
       ]
      }
     ],
     "prompt_number": 77
    },
    {
     "cell_type": "code",
     "collapsed": false,
     "input": [
      "check_point_in_polygon(t[0][0],t[0])"
     ],
     "language": "python",
     "metadata": {},
     "outputs": []
    },
    {
     "cell_type": "code",
     "collapsed": false,
     "input": [
      "c.execute('SELECT Unicode,Outline FROM hanzi')\n",
      "result = c.fetchall()\n",
      "scaleResult = {}\n",
      "for item in result:\n",
      "    char = item[0]\n",
      "    glyph = eval(item[1].replace('\\'',''))\n",
      "    gLL = (glyph[1][0][0],glyph[1][0][1]) # (globalLowerleftX, globalLowerleftY)\n",
      "    gUR = (glyph[1][1][0],glyph[1][1][1]) # (globalUpRightX, globalUpRightY)\n",
      "    gW = float(gUR[0] - gLL[0]) # globalWidth\n",
      "    gH = float(gUR[1] - gLL[1]) # globalHeight\n",
      "    contours = glyph[0]\n",
      "    scaleResult[char] = [[],[]]\n",
      "    for contour in contours:  \n",
      "        xs = [i[0] for i in contour]\n",
      "        ys = [i[1] for i in contour]\n",
      "        LL = [min(xs),min(ys)]\n",
      "        UR = [max(xs),max(ys)]\n",
      "        w = float(UR[0] - LL[0]) # width\n",
      "        h = float(UR[1] - LL[1]) # height\n",
      "        scaleResult[char][0].append([((p[0]-LL[0])/w,(p[1]-LL[1])/h,p[2]) for p in contour])\n",
      "        scaleResult[char][1].append([((LL[0]-gLL[0])/gW,(LL[1]-gLL[1])/gH),((UR[0]-gLL[0])/gW,(UR[1]-gLL[1])/gH)])"
     ],
     "language": "python",
     "metadata": {},
     "outputs": []
    },
    {
     "cell_type": "code",
     "collapsed": false,
     "input": [],
     "language": "python",
     "metadata": {},
     "outputs": []
    },
    {
     "cell_type": "code",
     "collapsed": false,
     "input": [
      "t = {k: str(v) for (k, v) in scaleResult.iteritems()}\n",
      "r = pd.DataFrame(t, index=[1]).T\n",
      "r.columns = ['ScaleGlyph']\n",
      "\n",
      "\n",
      "engine = create_engine('sqlite:///h:\\\\lab\\\\font.db')\n",
      "df = pd.read_sql_table('hanzi', engine)\n",
      "del df['ScaleGlyph']\n",
      "new = pd.merge(df,r,left_on='Unicode',right_index=True)\n",
      "new.to_sql('glyph', conn)"
     ],
     "language": "python",
     "metadata": {},
     "outputs": []
    }
   ],
   "metadata": {}
  }
 ]
}