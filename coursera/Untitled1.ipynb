{
 "cells": [
  {
   "cell_type": "code",
   "execution_count": null,
   "metadata": {
    "collapsed": false
   },
   "outputs": [
    {
     "name": "stdout",
     "output_type": "stream",
     "text": [
      "downloading: Week2 分析性图形的原则 Principles of Analytic Graphics [12'11].pdf\n",
      "downloading: Week2 分析性图形的原则 Principles of Analytic Graphics [12'11].srt\n",
      "downloading: Week2 分析性图形的原则 Principles of Analytic Graphics [12'11].txt\n",
      "downloading: Week2 分析性图形的原则 Principles of Analytic Graphics [12'11].mp4\n",
      "downloading: Week2 探索性图表1 Exploratory Graphs (part 1) [9'28].pdf\n",
      "downloading: Week2 探索性图表1 Exploratory Graphs (part 1) [9'28].srt\n",
      "downloading: Week2 探索性图表1 Exploratory Graphs (part 1) [9'28].txt\n",
      "downloading: Week2 探索性图表1 Exploratory Graphs (part 1) [9'28].mp4\n",
      "downloading: Week2 探索性图表2 Exploratory Graphs (part 2) [5'13].srt\n",
      "downloading: Week2 探索性图表2 Exploratory Graphs (part 2) [5'13].txt\n",
      "downloading: Week2 探索性图表2 Exploratory Graphs (part 2) [5'13].mp4"
     ]
    }
   ],
   "source": [
    "import urllib2\n",
    "import requests\n",
    "import os\n",
    "import re\n",
    "import pandas as pd\n",
    "from bs4 import BeautifulSoup\n",
    "\n",
    "\n",
    "# use the cookie raw string to build a cookie set\n",
    "def setCookies(raw):\n",
    "    cookies = dict()\n",
    "    for i in cookieRaw.split('; '):\n",
    "        cookies.update({i.split('=')[0]:i.split('=')[1]})\n",
    "    return cookies\n",
    "\n",
    "# find url of undownloaded files (mp4,txt,srt,pdf) from the lesson page \n",
    "def getLessonFileUrls(lessonPageUrl): \n",
    "    fileList=[]\n",
    "    \n",
    "    r = requests.get(lessonPageUrl,cookies=cookies) # it's necessary to set cookies in this request, because cookies can tell coursera server the validity of this request.\n",
    "    html = BeautifulSoup((r.text)) # transform the source code of the lesson page into BeautifulSoup format\n",
    "\n",
    "    with open('course\\\\'+coursename+'\\\\course.txt','w+') as f:\n",
    "        for weekNum,weekTitle in enumerate([week.find('h3').text[2:] for week in html.findAll('div',{\"class\" : ['course-item-list-header','expanded']})]):\n",
    "            f.write(('Week'+str(weekNum+1)+' '+weekTitle+'\\n').encode('utf-8'))\n",
    "    for weekNum,lessonesInOneWeek in enumerate(html.findAll('ul',{\"class\" : 'course-item-list-section-list'})): # iter weeks\n",
    "        for lesson in lessonesInOneWeek:\n",
    "            lessonName = 'Week'+str(weekNum+1)+' '+lesson.find('a',{\"class\" : 'lecture-link'}).text # set the lesson name\n",
    "            lessonName = re.sub(r\"[\\/\\\\\\:\\*\\?\\\"\\<\\>\\|\\n]\", \"\", lessonName.replace(':','\\'')) # wipe the invalid character off\n",
    "            for downloadLinkArea in lesson.findAll(rel=\"tooltip\"): \n",
    "                link = downloadLinkArea['href'] # get the download url\n",
    "                try:\n",
    "                    extension = re.search(r'(txt|srt|mp4|pdf)',link).group(1) # extract the filetype from link \n",
    "                    fileList.append((link,lessonName + \".\" + extension)) # pair fileurl and filename off\n",
    "                except:\n",
    "                    pass\n",
    "\n",
    "    return fileList\n",
    "\n",
    "# start downloading\n",
    "def download(lessons):\n",
    "    for fileurl,filename in getLessonFileUrls(lessonPageUrl):\n",
    "        filePath = 'course\\\\' + coursename + '\\\\' + filename\n",
    "        if not os.path.exists(filePath):\n",
    "            print('downloading: ' + filename)\n",
    "            # put the online filestream into the local file \n",
    "            with open(filePath,'wb+') as f:\n",
    "                try:\n",
    "                    if '.mp4' in fileurl:\n",
    "                        fileurl = requests.get(fileurl,cookies=cookies).url # get redirected url if the url is for a mp4 file\n",
    "                    r = requests.get(fileurl)\n",
    "                    f.write(r.content)\n",
    "                except (urllib2.HTTPError, urllib2.URLError) as e:\n",
    "                    print('\\nProblem occurs')\n",
    "\n",
    "# Here's your cookie info of your coursera account\n",
    "cookieRaw = 'network-priority-support=%7B%22error%22%3A%22user_not_in_network%22%7D; csrf_token=inlsxNKfT77hHyf2NCvH; __204r=; __400u=; __204u=6170509493-1428851675972; ab-experiments-user=new_records_page_eocs_banner%2Cin_class_qqs; data-readme-in-class-qqs-announcement-composition-003=1; ab-experiments-session=sigtrack_demonstrated_uses2; CSRF3-Token=1433236950.RMpLToCFJzVFhlE7; __400v=9ef3c754-3911-485d-b5ce-710815b3d143; CAUTH=TkA-PMD9Rr27HLumHSHUm8oSwnzscenf4AyacRCGz4NjNBiRaJMAsMcVI0xdPCTMor3P6KoR4DrGs3lIYRTRnw.8KRHvbv2E46oeqRDupH8Lg.d1xP-bqjXNzoBF-9RSAnhGlybnlbQl0LpEhYntWIlBCiuzx1STqgiXhtDboPZfVTC4SiNHQ7dUL8omFatp3KqQuoKT-qpyOm3XN5Ig9SJDG0WHL0RAzGtlQjTeLTWMjA8czoFH_aAte5Rl9IaMYqo3co9-21CaA3cJS1V0ia_HQ; maestro_login_flag=1; __400vt=1432373040238; serve_netease_974064=1; __utma=158142248.282732513.1428851676.1430464377.1432372965.8; __utmb=158142248.9.10.1432372965; __utmc=158142248; __utmz=158142248.1428997549.2.2.utmcsr=mail.google.com|utmccn=(referral)|utmcmd=referral|utmcct=/_/scs/mail-static/_/js/k=gmail.main.zh_CN.aop5Jfw4utw.O/m=m_i,t,it/am=PiN64_7v_UGMM2SXPlLZv_9-d0mxM8_Lv3sTQLIzAP5v9v8Afg_spy9k/rt=h/d=1/t=zcms/rs=AHGWq9BWNeBcHISg6ukZsAI43YKUUIeuog'\n",
    "cookies = setCookies(cookieRaw)\n",
    "\n",
    "# coursenames = ['compneuro-003','datascitoolbox-013','devdataprod-013','fmri-003','ml-007','neuralnets-2012-001','predmachlearn-013','regmods-013','devdataprod-013','getdata-013','repdata-013','rprog-013','composition-003'] # set it\n",
    "coursenames = ['exdata-020']\n",
    "for coursename in coursenames:\n",
    "    lessonPageUrl = 'https://class.coursera.org/'+coursename+'/lecture/'\n",
    "\n",
    "    # make directory if it doesn't exist\n",
    "    if not os.path.exists('course'):\n",
    "        os.makedirs('course')\n",
    "    if not os.path.exists('course\\\\'+coursename):\n",
    "        os.makedirs('course\\\\'+coursename)\n",
    "\n",
    "    download(lessonPageUrl)       \n",
    "print('All done!')\n"
   ]
  }
 ],
 "metadata": {
  "kernelspec": {
   "display_name": "Python 2",
   "language": "python",
   "name": "python2"
  },
  "language_info": {
   "codemirror_mode": {
    "name": "ipython",
    "version": 2
   },
   "file_extension": ".py",
   "mimetype": "text/x-python",
   "name": "python",
   "nbconvert_exporter": "python",
   "pygments_lexer": "ipython2",
   "version": "2.7.9"
  }
 },
 "nbformat": 4,
 "nbformat_minor": 0
}
